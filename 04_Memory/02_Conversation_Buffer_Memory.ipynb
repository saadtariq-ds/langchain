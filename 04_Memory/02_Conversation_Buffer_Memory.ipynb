{
 "cells": [
  {
   "cell_type": "markdown",
   "id": "e795d457",
   "metadata": {},
   "source": [
    "# LangChain - Conversation Buffer Memory"
   ]
  },
  {
   "cell_type": "code",
   "execution_count": 1,
   "id": "3883c765",
   "metadata": {},
   "outputs": [],
   "source": [
    "from langchain.chat_models import ChatOpenAI\n",
    "from langchain.chains import ConversationChain\n",
    "from langchain.memory import ConversationBufferMemory"
   ]
  },
  {
   "cell_type": "code",
   "execution_count": 2,
   "id": "43ca0a49",
   "metadata": {},
   "outputs": [],
   "source": [
    "api_key = open('../../api_key.txt').read()"
   ]
  },
  {
   "cell_type": "code",
   "execution_count": 3,
   "id": "cd8bbfb4",
   "metadata": {},
   "outputs": [],
   "source": [
    "llm = ChatOpenAI(openai_api_key=api_key)"
   ]
  },
  {
   "cell_type": "code",
   "execution_count": 4,
   "id": "9c9f8f89",
   "metadata": {},
   "outputs": [],
   "source": [
    "memory = ConversationBufferMemory()"
   ]
  },
  {
   "cell_type": "code",
   "execution_count": 5,
   "id": "45740b82",
   "metadata": {},
   "outputs": [],
   "source": [
    "conversation_chain = ConversationChain(llm=llm, memory=memory, verbose=True)"
   ]
  },
  {
   "cell_type": "code",
   "execution_count": 6,
   "id": "d9fead18",
   "metadata": {},
   "outputs": [
    {
     "name": "stdout",
     "output_type": "stream",
     "text": [
      "\n",
      "\n",
      "\u001b[1m> Entering new ConversationChain chain...\u001b[0m\n",
      "Prompt after formatting:\n",
      "\u001b[32;1m\u001b[1;3mThe following is a friendly conversation between a human and an AI. The AI is talkative and provides lots of specific details from its context. If the AI does not know the answer to a question, it truthfully says it does not know.\n",
      "\n",
      "Current conversation:\n",
      "\n",
      "Human: Hello! Nice to meet you\n",
      "AI:\u001b[0m\n",
      "\n",
      "\u001b[1m> Finished chain.\u001b[0m\n"
     ]
    },
    {
     "data": {
      "text/plain": [
       "\"Hello! Nice to meet you too. I'm excited to have a conversation with you. How can I assist you today?\""
      ]
     },
     "execution_count": 6,
     "metadata": {},
     "output_type": "execute_result"
    }
   ],
   "source": [
    "conversation_chain.predict(input=\"Hello! Nice to meet you\")"
   ]
  },
  {
   "cell_type": "code",
   "execution_count": 7,
   "id": "9cb23313",
   "metadata": {},
   "outputs": [
    {
     "name": "stdout",
     "output_type": "stream",
     "text": [
      "\n",
      "\n",
      "\u001b[1m> Entering new ConversationChain chain...\u001b[0m\n",
      "Prompt after formatting:\n",
      "\u001b[32;1m\u001b[1;3mThe following is a friendly conversation between a human and an AI. The AI is talkative and provides lots of specific details from its context. If the AI does not know the answer to a question, it truthfully says it does not know.\n",
      "\n",
      "Current conversation:\n",
      "Human: Hello! Nice to meet you\n",
      "AI: Hello! Nice to meet you too. I'm excited to have a conversation with you. How can I assist you today?\n",
      "Human: Tell me about an interesting Physics fact\n",
      "AI:\u001b[0m\n",
      "\n",
      "\u001b[1m> Finished chain.\u001b[0m\n"
     ]
    },
    {
     "data": {
      "text/plain": [
       "\"Sure! Here's an interesting Physics fact: did you know that time dilation occurs as you approach the speed of light? According to Einstein's theory of relativity, as an object moves faster, time slows down for that object compared to a stationary observer. This means that if you were to travel in a spaceship close to the speed of light for a certain amount of time, when you return to Earth, you would find that more time has passed for those on Earth than for you. It's a mind-boggling concept that demonstrates the fascinating nature of the universe!\""
      ]
     },
     "execution_count": 7,
     "metadata": {},
     "output_type": "execute_result"
    }
   ],
   "source": [
    "conversation_chain.predict(input=\"Tell me about an interesting Physics fact\")"
   ]
  },
  {
   "cell_type": "code",
   "execution_count": 8,
   "id": "4171fda2",
   "metadata": {},
   "outputs": [
    {
     "data": {
      "text/plain": [
       "ConversationBufferMemory(chat_memory=ChatMessageHistory(messages=[HumanMessage(content='Hello! Nice to meet you', additional_kwargs={}, example=False), AIMessage(content=\"Hello! Nice to meet you too. I'm excited to have a conversation with you. How can I assist you today?\", additional_kwargs={}, example=False), HumanMessage(content='Tell me about an interesting Physics fact', additional_kwargs={}, example=False), AIMessage(content=\"Sure! Here's an interesting Physics fact: did you know that time dilation occurs as you approach the speed of light? According to Einstein's theory of relativity, as an object moves faster, time slows down for that object compared to a stationary observer. This means that if you were to travel in a spaceship close to the speed of light for a certain amount of time, when you return to Earth, you would find that more time has passed for those on Earth than for you. It's a mind-boggling concept that demonstrates the fascinating nature of the universe!\", additional_kwargs={}, example=False)]), output_key=None, input_key=None, return_messages=False, human_prefix='Human', ai_prefix='AI', memory_key='history')"
      ]
     },
     "execution_count": 8,
     "metadata": {},
     "output_type": "execute_result"
    }
   ],
   "source": [
    "memory"
   ]
  },
  {
   "cell_type": "code",
   "execution_count": 9,
   "id": "145c730d",
   "metadata": {},
   "outputs": [
    {
     "name": "stdout",
     "output_type": "stream",
     "text": [
      "Human: Hello! Nice to meet you\n",
      "AI: Hello! Nice to meet you too. I'm excited to have a conversation with you. How can I assist you today?\n",
      "Human: Tell me about an interesting Physics fact\n",
      "AI: Sure! Here's an interesting Physics fact: did you know that time dilation occurs as you approach the speed of light? According to Einstein's theory of relativity, as an object moves faster, time slows down for that object compared to a stationary observer. This means that if you were to travel in a spaceship close to the speed of light for a certain amount of time, when you return to Earth, you would find that more time has passed for those on Earth than for you. It's a mind-boggling concept that demonstrates the fascinating nature of the universe!\n"
     ]
    }
   ],
   "source": [
    "print(memory.buffer)"
   ]
  },
  {
   "cell_type": "markdown",
   "id": "50d23e97",
   "metadata": {},
   "source": [
    "## Load Memory Variable"
   ]
  },
  {
   "cell_type": "code",
   "execution_count": 10,
   "id": "1bd8b2a6",
   "metadata": {},
   "outputs": [
    {
     "data": {
      "text/plain": [
       "{'history': \"Human: Hello! Nice to meet you\\nAI: Hello! Nice to meet you too. I'm excited to have a conversation with you. How can I assist you today?\\nHuman: Tell me about an interesting Physics fact\\nAI: Sure! Here's an interesting Physics fact: did you know that time dilation occurs as you approach the speed of light? According to Einstein's theory of relativity, as an object moves faster, time slows down for that object compared to a stationary observer. This means that if you were to travel in a spaceship close to the speed of light for a certain amount of time, when you return to Earth, you would find that more time has passed for those on Earth than for you. It's a mind-boggling concept that demonstrates the fascinating nature of the universe!\"}"
      ]
     },
     "execution_count": 10,
     "metadata": {},
     "output_type": "execute_result"
    }
   ],
   "source": [
    "memory.load_memory_variables({})"
   ]
  },
  {
   "cell_type": "markdown",
   "id": "524fc1c4",
   "metadata": {},
   "source": [
    "## Save and Load the Memory"
   ]
  },
  {
   "cell_type": "code",
   "execution_count": 11,
   "id": "be3e24f5",
   "metadata": {},
   "outputs": [],
   "source": [
    "import pickle"
   ]
  },
  {
   "cell_type": "code",
   "execution_count": 12,
   "id": "6292926f",
   "metadata": {},
   "outputs": [],
   "source": [
    "pickle_string = pickle.dumps(conversation_chain.memory)"
   ]
  },
  {
   "cell_type": "code",
   "execution_count": 13,
   "id": "076c79c3",
   "metadata": {},
   "outputs": [],
   "source": [
    "with open('conversation_memory.pkl', 'wb') as f:\n",
    "    f.write(pickle_string)"
   ]
  },
  {
   "cell_type": "code",
   "execution_count": 14,
   "id": "2c766af5",
   "metadata": {},
   "outputs": [],
   "source": [
    "loading_memory = open('conversation_memory.pkl', 'rb').read()"
   ]
  },
  {
   "cell_type": "code",
   "execution_count": 15,
   "id": "13ee9fd5",
   "metadata": {},
   "outputs": [],
   "source": [
    "# pickle.loads(loading_memory)"
   ]
  },
  {
   "cell_type": "markdown",
   "id": "ef5268d1",
   "metadata": {},
   "source": [
    "## Creating a Chat Model"
   ]
  },
  {
   "cell_type": "code",
   "execution_count": 16,
   "id": "d86a5ba9",
   "metadata": {},
   "outputs": [],
   "source": [
    "llm = ChatOpenAI(openai_api_key=api_key)\n",
    "reload_conversation = ConversationChain(llm=llm, memory=pickle.loads(loading_memory))"
   ]
  },
  {
   "cell_type": "code",
   "execution_count": 17,
   "id": "9aa27bb6",
   "metadata": {},
   "outputs": [
    {
     "name": "stdout",
     "output_type": "stream",
     "text": [
      "Human: Hello! Nice to meet you\n",
      "AI: Hello! Nice to meet you too. I'm excited to have a conversation with you. How can I assist you today?\n",
      "Human: Tell me about an interesting Physics fact\n",
      "AI: Sure! Here's an interesting Physics fact: did you know that time dilation occurs as you approach the speed of light? According to Einstein's theory of relativity, as an object moves faster, time slows down for that object compared to a stationary observer. This means that if you were to travel in a spaceship close to the speed of light for a certain amount of time, when you return to Earth, you would find that more time has passed for those on Earth than for you. It's a mind-boggling concept that demonstrates the fascinating nature of the universe!\n"
     ]
    }
   ],
   "source": [
    "print(reload_conversation.memory.buffer)"
   ]
  },
  {
   "cell_type": "code",
   "execution_count": null,
   "id": "013d7be1",
   "metadata": {},
   "outputs": [],
   "source": []
  }
 ],
 "metadata": {
  "kernelspec": {
   "display_name": "Python 3 (ipykernel)",
   "language": "python",
   "name": "python3"
  },
  "language_info": {
   "codemirror_mode": {
    "name": "ipython",
    "version": 3
   },
   "file_extension": ".py",
   "mimetype": "text/x-python",
   "name": "python",
   "nbconvert_exporter": "python",
   "pygments_lexer": "ipython3",
   "version": "3.8.10"
  }
 },
 "nbformat": 4,
 "nbformat_minor": 5
}
