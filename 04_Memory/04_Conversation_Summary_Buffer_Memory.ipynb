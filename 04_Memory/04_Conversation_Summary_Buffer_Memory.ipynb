{
 "cells": [
  {
   "cell_type": "markdown",
   "id": "f51ea54e",
   "metadata": {},
   "source": [
    "# LangChain - Conversation Summary Memory"
   ]
  },
  {
   "cell_type": "code",
   "execution_count": 1,
   "id": "0882e829",
   "metadata": {},
   "outputs": [],
   "source": [
    "from langchain.chat_models import ChatOpenAI\n",
    "from langchain.chains import ConversationChain\n",
    "from langchain.memory import ConversationSummaryBufferMemory"
   ]
  },
  {
   "cell_type": "code",
   "execution_count": 2,
   "id": "2419f567",
   "metadata": {},
   "outputs": [],
   "source": [
    "api_key = open('../../api_key.txt').read()"
   ]
  },
  {
   "cell_type": "code",
   "execution_count": 3,
   "id": "81a98dfd",
   "metadata": {},
   "outputs": [],
   "source": [
    "llm = ChatOpenAI(openai_api_key=api_key)"
   ]
  },
  {
   "cell_type": "code",
   "execution_count": 4,
   "id": "3f8173a9",
   "metadata": {},
   "outputs": [],
   "source": [
    "memory = ConversationSummaryBufferMemory(llm=llm, max_token_limit=100)"
   ]
  },
  {
   "cell_type": "code",
   "execution_count": 5,
   "id": "cf57033a",
   "metadata": {},
   "outputs": [],
   "source": [
    "conversation_chain = ConversationChain(llm=llm, memory=memory)"
   ]
  },
  {
   "cell_type": "code",
   "execution_count": 6,
   "id": "7a8799fd",
   "metadata": {},
   "outputs": [
    {
     "data": {
      "text/plain": [
       "\"Sure! San Francisco is a beautiful city with a lot to offer. Here are a few travel plans you might consider:\\n\\n1. Day 1: Start your trip by visiting the iconic Golden Gate Bridge. You can take a walk across the bridge or rent a bike to explore the surrounding area. After that, head to Fisherman's Wharf, where you can enjoy delicious seafood and visit attractions like Pier 39 and the famous sea lions.\\n\\n2. Day 2: Take a trip to Alcatraz Island and explore the former prison. Make sure to book your tickets in advance, as it's a popular attraction. In the afternoon, visit the vibrant neighborhood of Chinatown and immerse yourself in its rich culture and history. You can also try some authentic Chinese cuisine while you're there.\\n\\n3. Day 3: Explore the beautiful Golden Gate Park, which is larger than New York City's Central Park. You can rent a paddleboat at Stow Lake, visit the Japanese Tea Garden, or simply take a leisurely stroll through the park's lush greenery. In the evening, catch a show at the famous Castro Theatre, known for its stunning architecture and historic significance.\\n\\n4. Day 4: Spend the day exploring the lively Mission District. This neighborhood is known for its vibrant street art, trendy boutiques, and delicious food. Don't miss the chance to try some authentic Mexican cuisine here. In the evening, head to Twin Peaks for a panoramic view of the city skyline.\\n\\n5. Day 5: Visit the renowned Museum of Modern Art (SFMOMA) and admire its impressive collection of contemporary art. Afterward, take a scenic drive along the stunning coastline of Highway 1, known as the Pacific Coast Highway. You can stop at picturesque spots like Half Moon Bay or Santa Cruz along the way.\\n\\nThese are just a few suggestions to help you plan your trip to San Francisco. Let me know if you need more information or if there's anything else I can assist you with!\""
      ]
     },
     "execution_count": 6,
     "metadata": {},
     "output_type": "execute_result"
    }
   ],
   "source": [
    "conversation_chain.predict(input=\"Give me some travel plans for San Francisco\")"
   ]
  },
  {
   "cell_type": "code",
   "execution_count": 7,
   "id": "a4bfb98a",
   "metadata": {},
   "outputs": [
    {
     "data": {
      "text/plain": [
       "\"Sure! New York City is a vibrant and bustling metropolis with so much to see and do. Here's a suggested itinerary for a five-day trip:\\n\\nDay 1:\\n- Start your day with a visit to the iconic Statue of Liberty and Ellis Island. Take a ferry ride to these historic landmarks and learn about their significance in American history.\\n- Afterward, head to the nearby Financial District and explore Wall Street and the Charging Bull statue.\\n- In the afternoon, visit the 9/11 Memorial & Museum to pay tribute to the victims of the September 11 attacks and learn about the events that unfolded that day.\\n\\nDay 2:\\n- Begin your day in Central Park, a sprawling oasis in the heart of the city. Take a leisurely stroll, rent a bike, or have a picnic in one of the many picturesque spots.\\n- Next, head to the Museum of Modern Art (MoMA) and immerse yourself in the world of contemporary art. Marvel at masterpieces by artists like Van Gogh, Monet, Picasso, and Warhol.\\n- In the evening, catch a Broadway show in the Theater District. There are plenty of options to choose from, ranging from classic musicals to thought-provoking dramas.\\n\\nDay 3:\\n- Explore the vibrant neighborhoods of Brooklyn. Start with a visit to the Brooklyn Bridge, where you can enjoy breathtaking views of the Manhattan skyline.\\n- Afterward, make your way to DUMBO (Down Under the Manhattan Bridge Overpass) and enjoy the trendy boutiques, art galleries, and waterfront parks in the area.\\n- Don't miss a visit to the Brooklyn Museum, home to an extensive collection of art and artifacts from around the world.\\n\\nDay 4:\\n- Spend the day exploring the cultural melting pot of Queens. Start with a visit to Flushing Meadows-Corona Park, home to the iconic Unisphere and the Queens Museum.\\n- Next, head to Jackson Heights, a diverse neighborhood known for its culinary delights. Sample authentic Indian, Tibetan, and South American cuisine.\\n- In the afternoon, visit the Museum of the Moving Image to learn about the history and evolution of film, television, and digital media.\\n\\nDay 5:\\n- Start your final day with a visit to the Metropolitan Museum of Art (the Met), one of the world's largest and most renowned art museums. Explore its vast collection spanning thousands of years and various cultures.\\n- Afterward, take a stroll along Fifth Avenue and indulge in some retail therapy at high-end stores like Tiffany & Co., Bergdorf Goodman, and Saks Fifth Avenue.\\n- In the evening, head to Times Square and soak in the vibrant atmosphere of this iconic intersection. Enjoy the dazzling billboards, street performers, and bustling crowds.\\n\\nOf course, this itinerary is just a starting point, and there are countless other attractions and neighborhoods to explore in New York City. Let me know if you'd like any specific recommendations or further assistance!\""
      ]
     },
     "execution_count": 7,
     "metadata": {},
     "output_type": "execute_result"
    }
   ],
   "source": [
    "conversation_chain.predict(input=\"Give me some travel plans for New York City\")"
   ]
  },
  {
   "cell_type": "code",
   "execution_count": 8,
   "id": "6d17fd10",
   "metadata": {},
   "outputs": [
    {
     "data": {
      "text/plain": [
       "{'history': 'System: The human asks for travel plans for San Francisco, and the AI provides a detailed itinerary for a five-day trip. The human then asks for travel plans for New York City, and the AI offers a suggested itinerary for a five-day trip, including visiting popular attractions like the Statue of Liberty, Central Park, the Museum of Modern Art, Broadway shows, the Brooklyn Bridge, Flushing Meadows-Corona Park, the Metropolitan Museum of Art, and Times Square. The AI also offers further assistance if needed.'}"
      ]
     },
     "execution_count": 8,
     "metadata": {},
     "output_type": "execute_result"
    }
   ],
   "source": [
    "memory.load_memory_variables({})"
   ]
  },
  {
   "cell_type": "code",
   "execution_count": null,
   "id": "5eb3ab28",
   "metadata": {},
   "outputs": [],
   "source": []
  }
 ],
 "metadata": {
  "kernelspec": {
   "display_name": "Python 3 (ipykernel)",
   "language": "python",
   "name": "python3"
  },
  "language_info": {
   "codemirror_mode": {
    "name": "ipython",
    "version": 3
   },
   "file_extension": ".py",
   "mimetype": "text/x-python",
   "name": "python",
   "nbconvert_exporter": "python",
   "pygments_lexer": "ipython3",
   "version": "3.10.12"
  }
 },
 "nbformat": 4,
 "nbformat_minor": 5
}
