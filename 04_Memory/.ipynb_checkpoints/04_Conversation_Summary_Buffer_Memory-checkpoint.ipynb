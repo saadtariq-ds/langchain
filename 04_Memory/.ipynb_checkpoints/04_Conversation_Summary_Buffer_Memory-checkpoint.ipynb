{
 "cells": [
  {
   "cell_type": "markdown",
   "id": "f51ea54e",
   "metadata": {},
   "source": [
    "# LangChain - Conversation Summary Memory"
   ]
  },
  {
   "cell_type": "code",
   "execution_count": 1,
   "id": "0882e829",
   "metadata": {},
   "outputs": [],
   "source": [
    "from langchain.chat_models import ChatOpenAI\n",
    "from langchain.chains import ConversationChain\n",
    "from langchain.memory import ConversationSummaryBufferMemory"
   ]
  },
  {
   "cell_type": "code",
   "execution_count": 2,
   "id": "2419f567",
   "metadata": {},
   "outputs": [],
   "source": [
    "api_key = open('../../api_key.txt').read()"
   ]
  },
  {
   "cell_type": "code",
   "execution_count": 3,
   "id": "81a98dfd",
   "metadata": {},
   "outputs": [],
   "source": [
    "llm = ChatOpenAI(openai_api_key=api_key)"
   ]
  },
  {
   "cell_type": "code",
   "execution_count": 4,
   "id": "3f8173a9",
   "metadata": {},
   "outputs": [],
   "source": [
    "memory = ConversationSummaryBufferMemory(llm=llm, max_token_limit=100)"
   ]
  },
  {
   "cell_type": "code",
   "execution_count": 5,
   "id": "cf57033a",
   "metadata": {},
   "outputs": [],
   "source": [
    "conversation_chain = ConversationChain(llm=llm, memory=memory)"
   ]
  },
  {
   "cell_type": "code",
   "execution_count": 6,
   "id": "7a8799fd",
   "metadata": {},
   "outputs": [
    {
     "data": {
      "text/plain": [
       "\"Sure! San Francisco is a beautiful city with lots to offer. Here are a few travel plans you might consider:\\n\\n1. Explore the Golden Gate Bridge: Start your day by visiting the iconic Golden Gate Bridge. You can take a stroll along the bridge and enjoy the breathtaking views of the city and the bay.\\n\\n2. Visit Alcatraz Island: Take a ferry to Alcatraz Island and tour the infamous Alcatraz prison. Learn about the history of the island and its famous inmates like Al Capone.\\n\\n3. Discover Fisherman's Wharf: Head to Fisherman's Wharf, a popular tourist spot known for its seafood restaurants and souvenir shops. Don't miss out on trying some clam chowder in a sourdough bread bowl!\\n\\n4. Explore Chinatown: San Francisco's Chinatown is the largest outside of Asia. Take a walk through the bustling streets, visit the shops, and try some delicious Chinese cuisine.\\n\\n5. Enjoy the Painted Ladies: Visit Alamo Square Park to see the iconic Painted Ladies, a row of colorful Victorian houses that have become a symbol of San Francisco.\\n\\n6. Take a ride on a cable car: Hop on one of San Francisco's famous cable cars and experience a unique mode of transportation while enjoying the city's scenic streets.\\n\\n7. Visit the Museum of Modern Art: If you're interested in art, make sure to check out the San Francisco Museum of Modern Art (SFMOMA). It houses an impressive collection of contemporary and modern art.\\n\\nRemember to check the weather and plan accordingly. San Francisco can be foggy and chilly at times, so it's always a good idea to bring a light jacket. Enjoy your trip!\""
      ]
     },
     "execution_count": 6,
     "metadata": {},
     "output_type": "execute_result"
    }
   ],
   "source": [
    "conversation_chain.predict(input=\"Give me some travel plans for San Francisco\")"
   ]
  },
  {
   "cell_type": "code",
   "execution_count": 7,
   "id": "a4bfb98a",
   "metadata": {},
   "outputs": [
    {
     "data": {
      "text/plain": [
       "'Sure! New York City is a vibrant and bustling city with so much to offer. Here are some travel plans for you:\\n\\n1. Explore Central Park: This iconic park is a must-visit. You can take a leisurely stroll, rent a bike, or have a picnic while enjoying the beautiful scenery.\\n\\n2. Visit Times Square: Known as \"The Crossroads of the World,\" Times Square is famous for its bright lights, billboards, and energetic atmosphere. You can find numerous shops, restaurants, and entertainment options in this area.\\n\\n3. Take a ferry to the Statue of Liberty: A symbol of freedom and democracy, the Statue of Liberty is a must-see landmark in New York City. You can take a ferry ride to Liberty Island and even go inside the statue for a unique experience.\\n\\n4. Explore the Metropolitan Museum of Art: This world-renowned museum houses an extensive collection of art from various periods and cultures. From ancient Egyptian artifacts to modern masterpieces, there is something for everyone to appreciate.\\n\\n5. Walk across the Brooklyn Bridge: Enjoy stunning views of the city skyline as you walk across the iconic Brooklyn Bridge. This is a great way to experience the city\\'s architecture and take memorable photos.\\n\\n6. Visit the High Line: This elevated park built on a historic freight rail line offers a unique perspective of the city. You can enjoy beautiful gardens, art installations, and breathtaking views of Manhattan.\\n\\n7. Explore the neighborhoods: New York City is known for its diverse neighborhoods, each with its own distinct character. Don\\'t miss out on exploring Greenwich Village, SoHo, Chinatown, and Little Italy for their unique shops, restaurants, and cultural experiences.\\n\\nRemember to check the weather and dress accordingly. New York City can experience varying temperatures, so it\\'s a good idea to bring layers and comfortable walking shoes. Enjoy your trip!'"
      ]
     },
     "execution_count": 7,
     "metadata": {},
     "output_type": "execute_result"
    }
   ],
   "source": [
    "conversation_chain.predict(input=\"Give me some travel plans for New York City\")"
   ]
  },
  {
   "cell_type": "code",
   "execution_count": 8,
   "id": "6d17fd10",
   "metadata": {},
   "outputs": [
    {
     "data": {
      "text/plain": [
       "{'history': \"System: The human asks the AI for travel plans in San Francisco and the AI suggests several activities, including exploring the Golden Gate Bridge, visiting Alcatraz Island, discovering Fisherman's Wharf, exploring Chinatown, enjoying the Painted Ladies, taking a ride on a cable car, and visiting the Museum of Modern Art. The AI also advises the human to check the weather and bring a light jacket. The human then asks the AI for travel plans in New York City. The AI provides a detailed list of activities, including exploring Central Park, visiting Times Square, taking a ferry to the Statue of Liberty, exploring the Metropolitan Museum of Art, walking across the Brooklyn Bridge, visiting the High Line, and exploring various neighborhoods. The AI reminds the human to check the weather and dress appropriately for the varying temperatures in New York City.\"}"
      ]
     },
     "execution_count": 8,
     "metadata": {},
     "output_type": "execute_result"
    }
   ],
   "source": [
    "memory.load_memory_variables({})"
   ]
  },
  {
   "cell_type": "code",
   "execution_count": null,
   "id": "5eb3ab28",
   "metadata": {},
   "outputs": [],
   "source": []
  }
 ],
 "metadata": {
  "kernelspec": {
   "display_name": "Python 3 (ipykernel)",
   "language": "python",
   "name": "python3"
  },
  "language_info": {
   "codemirror_mode": {
    "name": "ipython",
    "version": 3
   },
   "file_extension": ".py",
   "mimetype": "text/x-python",
   "name": "python",
   "nbconvert_exporter": "python",
   "pygments_lexer": "ipython3",
   "version": "3.8.10"
  }
 },
 "nbformat": 4,
 "nbformat_minor": 5
}
