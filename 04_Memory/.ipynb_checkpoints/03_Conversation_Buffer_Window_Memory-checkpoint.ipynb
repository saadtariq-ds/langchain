{
 "cells": [
  {
   "cell_type": "markdown",
   "id": "3f201075",
   "metadata": {},
   "source": [
    "# LangChain - Conversation Buffer Window Memory"
   ]
  },
  {
   "cell_type": "code",
   "execution_count": 1,
   "id": "718fd4d7",
   "metadata": {},
   "outputs": [],
   "source": [
    "from langchain.chat_models import ChatOpenAI\n",
    "from langchain.chains import ConversationChain\n",
    "from langchain.memory import ConversationBufferWindowMemory"
   ]
  },
  {
   "cell_type": "code",
   "execution_count": 2,
   "id": "7b629bfd",
   "metadata": {},
   "outputs": [],
   "source": [
    "api_key = open('../../api_key.txt').read()"
   ]
  },
  {
   "cell_type": "code",
   "execution_count": 3,
   "id": "012b65c2",
   "metadata": {},
   "outputs": [],
   "source": [
    "llm = ChatOpenAI(openai_api_key=api_key)"
   ]
  },
  {
   "cell_type": "code",
   "execution_count": 4,
   "id": "de5cd7f9",
   "metadata": {},
   "outputs": [],
   "source": [
    "memory = ConversationBufferWindowMemory(k=1)"
   ]
  },
  {
   "cell_type": "code",
   "execution_count": 5,
   "id": "93732872",
   "metadata": {},
   "outputs": [],
   "source": [
    "conversation_chain = ConversationChain(llm=llm, memory=memory)"
   ]
  },
  {
   "cell_type": "code",
   "execution_count": 6,
   "id": "d85563cc",
   "metadata": {},
   "outputs": [
    {
     "data": {
      "text/plain": [
       "\"Hello! I'm an AI, so I don't have feelings, but I'm here to assist you. How can I help you today?\""
      ]
     },
     "execution_count": 6,
     "metadata": {},
     "output_type": "execute_result"
    }
   ],
   "source": [
    "conversation_chain.predict(input=\"Hello How are you?\")"
   ]
  },
  {
   "cell_type": "code",
   "execution_count": 7,
   "id": "58e5b3d7",
   "metadata": {},
   "outputs": [
    {
     "data": {
      "text/plain": [
       "\"Sure! Did you know that the study of genetics, also known as genomics, has advanced significantly in recent years? Scientists can now analyze an individual's DNA to identify potential genetic diseases and even predict their risk of developing certain conditions. This has opened up new possibilities for personalized medicine and targeted treatments.\""
      ]
     },
     "execution_count": 7,
     "metadata": {},
     "output_type": "execute_result"
    }
   ],
   "source": [
    "conversation_chain.predict(input=\"Tell me a fact about Science\")"
   ]
  },
  {
   "cell_type": "code",
   "execution_count": 8,
   "id": "1c17ba1c",
   "metadata": {},
   "outputs": [
    {
     "data": {
      "text/plain": [
       "'Certainly! Did you know that Earth is the only known planet in our solar system that supports life? Its unique combination of an atmosphere that provides oxygen, liquid water, and a moderate climate makes it the perfect habitat for a diverse range of organisms. Additionally, Earth is the fifth-largest planet in our solar system and has a diameter of about 12,742 kilometers (7,918 miles).'"
      ]
     },
     "execution_count": 8,
     "metadata": {},
     "output_type": "execute_result"
    }
   ],
   "source": [
    "conversation_chain.predict(input=\"Tell me a fact about Earth\")"
   ]
  },
  {
   "cell_type": "code",
   "execution_count": 9,
   "id": "055da7a9",
   "metadata": {},
   "outputs": [
    {
     "name": "stdout",
     "output_type": "stream",
     "text": [
      "[HumanMessage(content='Hello How are you?', additional_kwargs={}, example=False), AIMessage(content=\"Hello! I'm an AI, so I don't have feelings, but I'm here to assist you. How can I help you today?\", additional_kwargs={}, example=False), HumanMessage(content='Tell me a fact about Science', additional_kwargs={}, example=False), AIMessage(content=\"Sure! Did you know that the study of genetics, also known as genomics, has advanced significantly in recent years? Scientists can now analyze an individual's DNA to identify potential genetic diseases and even predict their risk of developing certain conditions. This has opened up new possibilities for personalized medicine and targeted treatments.\", additional_kwargs={}, example=False), HumanMessage(content='Tell me a fact about Earth', additional_kwargs={}, example=False), AIMessage(content='Certainly! Did you know that Earth is the only known planet in our solar system that supports life? Its unique combination of an atmosphere that provides oxygen, liquid water, and a moderate climate makes it the perfect habitat for a diverse range of organisms. Additionally, Earth is the fifth-largest planet in our solar system and has a diameter of about 12,742 kilometers (7,918 miles).', additional_kwargs={}, example=False)]\n"
     ]
    }
   ],
   "source": [
    "print(memory.buffer)"
   ]
  },
  {
   "cell_type": "code",
   "execution_count": 10,
   "id": "b8524faa",
   "metadata": {},
   "outputs": [
    {
     "data": {
      "text/plain": [
       "{'history': 'Human: Tell me a fact about Earth\\nAI: Certainly! Did you know that Earth is the only known planet in our solar system that supports life? Its unique combination of an atmosphere that provides oxygen, liquid water, and a moderate climate makes it the perfect habitat for a diverse range of organisms. Additionally, Earth is the fifth-largest planet in our solar system and has a diameter of about 12,742 kilometers (7,918 miles).'}"
      ]
     },
     "execution_count": 10,
     "metadata": {},
     "output_type": "execute_result"
    }
   ],
   "source": [
    "memory.load_memory_variables({})"
   ]
  },
  {
   "cell_type": "code",
   "execution_count": null,
   "id": "f786ce38",
   "metadata": {},
   "outputs": [],
   "source": []
  }
 ],
 "metadata": {
  "kernelspec": {
   "display_name": "Python 3 (ipykernel)",
   "language": "python",
   "name": "python3"
  },
  "language_info": {
   "codemirror_mode": {
    "name": "ipython",
    "version": 3
   },
   "file_extension": ".py",
   "mimetype": "text/x-python",
   "name": "python",
   "nbconvert_exporter": "python",
   "pygments_lexer": "ipython3",
   "version": "3.8.10"
  }
 },
 "nbformat": 4,
 "nbformat_minor": 5
}
