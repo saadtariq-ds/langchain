{
 "cells": [
  {
   "cell_type": "markdown",
   "id": "c64c9062",
   "metadata": {},
   "source": [
    "# LangChain - LLM Chain Object"
   ]
  },
  {
   "cell_type": "code",
   "execution_count": 1,
   "id": "4f8c4927",
   "metadata": {},
   "outputs": [],
   "source": [
    "from langchain.chat_models import ChatOpenAI\n",
    "from langchain.prompts.chat import ChatPromptTemplate, HumanMessagePromptTemplate"
   ]
  },
  {
   "cell_type": "code",
   "execution_count": 2,
   "id": "312bf7b1",
   "metadata": {},
   "outputs": [],
   "source": [
    "api_key = open(\"../../api_key.txt\").read()\n",
    "model = ChatOpenAI(openai_api_key=api_key)"
   ]
  },
  {
   "cell_type": "code",
   "execution_count": 3,
   "id": "ccb03bd5",
   "metadata": {},
   "outputs": [],
   "source": [
    "human_template = \"Make up a funny name for a company that makes : {product}\"\n",
    "human_message_prompt = HumanMessagePromptTemplate.from_template(human_template)"
   ]
  },
  {
   "cell_type": "code",
   "execution_count": 4,
   "id": "221da3d8",
   "metadata": {},
   "outputs": [],
   "source": [
    "chat_prompt_template = ChatPromptTemplate.from_messages([human_message_prompt])"
   ]
  },
  {
   "cell_type": "markdown",
   "id": "9894d23c",
   "metadata": {},
   "source": [
    "## Chain Object"
   ]
  },
  {
   "cell_type": "code",
   "execution_count": 5,
   "id": "8397da1a",
   "metadata": {},
   "outputs": [],
   "source": [
    "from langchain.chains import LLMChain"
   ]
  },
  {
   "cell_type": "code",
   "execution_count": 6,
   "id": "8d7b30ce",
   "metadata": {},
   "outputs": [],
   "source": [
    "chain = LLMChain(llm=model, prompt=chat_prompt_template)"
   ]
  },
  {
   "cell_type": "code",
   "execution_count": 7,
   "id": "3831aee2",
   "metadata": {},
   "outputs": [],
   "source": [
    "result = chain.run(product=\"Computers\")"
   ]
  },
  {
   "cell_type": "code",
   "execution_count": 8,
   "id": "03d71a04",
   "metadata": {},
   "outputs": [
    {
     "data": {
      "text/plain": [
       "'Byte Me Computers'"
      ]
     },
     "execution_count": 8,
     "metadata": {},
     "output_type": "execute_result"
    }
   ],
   "source": [
    "result"
   ]
  },
  {
   "cell_type": "code",
   "execution_count": null,
   "id": "9b5f2ab7",
   "metadata": {},
   "outputs": [],
   "source": []
  }
 ],
 "metadata": {
  "kernelspec": {
   "display_name": "Python 3 (ipykernel)",
   "language": "python",
   "name": "python3"
  },
  "language_info": {
   "codemirror_mode": {
    "name": "ipython",
    "version": 3
   },
   "file_extension": ".py",
   "mimetype": "text/x-python",
   "name": "python",
   "nbconvert_exporter": "python",
   "pygments_lexer": "ipython3",
   "version": "3.10.12"
  }
 },
 "nbformat": 4,
 "nbformat_minor": 5
}
