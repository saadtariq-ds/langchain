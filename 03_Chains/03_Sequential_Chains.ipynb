{
 "cells": [
  {
   "cell_type": "markdown",
   "id": "72fd6916",
   "metadata": {},
   "source": [
    "# LangChain - Sequential Chains"
   ]
  },
  {
   "cell_type": "code",
   "execution_count": 1,
   "id": "75e5e2d4",
   "metadata": {},
   "outputs": [],
   "source": [
    "from langchain.chat_models import ChatOpenAI\n",
    "from langchain.prompts.chat import ChatPromptTemplate, HumanMessagePromptTemplate\n",
    "from langchain.chains import LLMChain, SimpleSequentialChain, SequentialChain"
   ]
  },
  {
   "cell_type": "code",
   "execution_count": 2,
   "id": "b66a3897",
   "metadata": {},
   "outputs": [],
   "source": [
    "api_key = open('../../api_key.txt').read()"
   ]
  },
  {
   "cell_type": "code",
   "execution_count": 3,
   "id": "11e6e031",
   "metadata": {},
   "outputs": [],
   "source": [
    "model = ChatOpenAI(openai_api_key=api_key)"
   ]
  },
  {
   "cell_type": "markdown",
   "id": "8df8e5ba",
   "metadata": {},
   "source": [
    "## Use Case\n",
    "\n",
    "Working for a company that issues employee performance reviews\n",
    "\n",
    "Employee Performance Review (Initial Input) ---> LLMChain (Summary) ---> LLMChain (List of Weakness) ---> LLM Chain (Improvement Plan)"
   ]
  },
  {
   "cell_type": "code",
   "execution_count": 4,
   "id": "b4945a88",
   "metadata": {},
   "outputs": [],
   "source": [
    "template1 = \"Give a summary of this employee's performance review\\n{review}\"\n",
    "prompt1 = ChatPromptTemplate.from_template(template1)\n",
    "chain1 = LLMChain(llm=model, prompt=prompt1, output_key='review_summary')"
   ]
  },
  {
   "cell_type": "code",
   "execution_count": 5,
   "id": "88379cfb",
   "metadata": {},
   "outputs": [],
   "source": [
    "template2 = \"Identify key employee weakness in this review summary:\\n{review_summary}\"\n",
    "prompt2 = ChatPromptTemplate.from_template(template2)\n",
    "chain2 = LLMChain(llm=model, prompt=prompt2, output_key='weaknesses')"
   ]
  },
  {
   "cell_type": "code",
   "execution_count": 6,
   "id": "83299f1f",
   "metadata": {},
   "outputs": [],
   "source": [
    "template3 = \"Create a personalized plan to help address and fix these weakness:\\n{weaknesses}\"\n",
    "prompt3 = ChatPromptTemplate.from_template(template3)\n",
    "chain3 = LLMChain(llm=model, prompt=prompt3, output_key='final_plan')"
   ]
  },
  {
   "cell_type": "code",
   "execution_count": 7,
   "id": "1e7182c4",
   "metadata": {},
   "outputs": [],
   "source": [
    "employee_review = '''\n",
    "Employee Information:\n",
    "Name: Joe Schmo\n",
    "Position: Software Engineer\n",
    "Date of Review: July 14, 2023\n",
    "\n",
    "Strengths:\n",
    "Joe is a highly skilled software engineer with a deep understanding of programming languages, algorithms, and software development best practices. His technical expertise shines through in his ability to efficiently solve complex problems and deliver high-quality code.\n",
    "\n",
    "One of Joe's greatest strengths is his collaborative nature. He actively engages with cross-functional teams, contributing valuable insights and seeking input from others. His open-mindedness and willingness to learn from colleagues make him a true team player.\n",
    "\n",
    "Joe consistently demonstrates initiative and self-motivation. He takes the lead in seeking out new projects and challenges, and his proactive attitude has led to significant improvements in existing processes and systems. His dedication to self-improvement and growth is commendable.\n",
    "\n",
    "Another notable strength is Joe's adaptability. He has shown great flexibility in handling changing project requirements and learning new technologies. This adaptability allows him to seamlessly transition between different projects and tasks, making him a valuable asset to the team.\n",
    "\n",
    "Joe's problem-solving skills are exceptional. He approaches issues with a logical mindset and consistently finds effective solutions, often thinking outside the box. His ability to break down complex problems into manageable parts is key to his success in resolving issues efficiently.\n",
    "\n",
    "Weaknesses:\n",
    "While Joe possesses numerous strengths, there are a few areas where he could benefit from improvement. One such area is time management. Occasionally, Joe struggles with effectively managing his time, resulting in missed deadlines or the need for additional support to complete tasks on time. Developing better prioritization and time management techniques would greatly enhance his efficiency.\n",
    "\n",
    "Another area for improvement is Joe's written communication skills. While he communicates well verbally, there have been instances where his written documentation lacked clarity, leading to confusion among team members. Focusing on enhancing his written communication abilities will help him effectively convey ideas and instructions.\n",
    "\n",
    "Additionally, Joe tends to take on too many responsibilities and hesitates to delegate tasks to others. This can result in an excessive workload and potential burnout. Encouraging him to delegate tasks appropriately will not only alleviate his own workload but also foster a more balanced and productive team environment.\n",
    "'''"
   ]
  },
  {
   "cell_type": "code",
   "execution_count": 8,
   "id": "876e40f8",
   "metadata": {},
   "outputs": [],
   "source": [
    "sequential_chain = SequentialChain(\n",
    "    chains=[chain1, chain2, chain3],\n",
    "    input_variables=['review'],\n",
    "    output_variables=['review_summary','weaknesses','final_plan'],\n",
    "    verbose=True)"
   ]
  },
  {
   "cell_type": "code",
   "execution_count": 9,
   "id": "7b75c406",
   "metadata": {},
   "outputs": [
    {
     "name": "stdout",
     "output_type": "stream",
     "text": [
      "\n",
      "\n",
      "\u001b[1m> Entering new SequentialChain chain...\u001b[0m\n",
      "\n",
      "\u001b[1m> Finished chain.\u001b[0m\n"
     ]
    }
   ],
   "source": [
    "results = sequential_chain(employee_review)"
   ]
  },
  {
   "cell_type": "code",
   "execution_count": 10,
   "id": "582c911e",
   "metadata": {},
   "outputs": [
    {
     "data": {
      "text/plain": [
       "dict"
      ]
     },
     "execution_count": 10,
     "metadata": {},
     "output_type": "execute_result"
    }
   ],
   "source": [
    "type(results)"
   ]
  },
  {
   "cell_type": "code",
   "execution_count": 11,
   "id": "bc93529e",
   "metadata": {},
   "outputs": [
    {
     "data": {
      "text/plain": [
       "dict_keys(['review', 'review_summary', 'weaknesses', 'final_plan'])"
      ]
     },
     "execution_count": 11,
     "metadata": {},
     "output_type": "execute_result"
    }
   ],
   "source": [
    "results.keys()"
   ]
  },
  {
   "cell_type": "code",
   "execution_count": 12,
   "id": "d7a5719f",
   "metadata": {},
   "outputs": [
    {
     "data": {
      "text/plain": [
       "{'review': \"\\nEmployee Information:\\nName: Joe Schmo\\nPosition: Software Engineer\\nDate of Review: July 14, 2023\\n\\nStrengths:\\nJoe is a highly skilled software engineer with a deep understanding of programming languages, algorithms, and software development best practices. His technical expertise shines through in his ability to efficiently solve complex problems and deliver high-quality code.\\n\\nOne of Joe's greatest strengths is his collaborative nature. He actively engages with cross-functional teams, contributing valuable insights and seeking input from others. His open-mindedness and willingness to learn from colleagues make him a true team player.\\n\\nJoe consistently demonstrates initiative and self-motivation. He takes the lead in seeking out new projects and challenges, and his proactive attitude has led to significant improvements in existing processes and systems. His dedication to self-improvement and growth is commendable.\\n\\nAnother notable strength is Joe's adaptability. He has shown great flexibility in handling changing project requirements and learning new technologies. This adaptability allows him to seamlessly transition between different projects and tasks, making him a valuable asset to the team.\\n\\nJoe's problem-solving skills are exceptional. He approaches issues with a logical mindset and consistently finds effective solutions, often thinking outside the box. His ability to break down complex problems into manageable parts is key to his success in resolving issues efficiently.\\n\\nWeaknesses:\\nWhile Joe possesses numerous strengths, there are a few areas where he could benefit from improvement. One such area is time management. Occasionally, Joe struggles with effectively managing his time, resulting in missed deadlines or the need for additional support to complete tasks on time. Developing better prioritization and time management techniques would greatly enhance his efficiency.\\n\\nAnother area for improvement is Joe's written communication skills. While he communicates well verbally, there have been instances where his written documentation lacked clarity, leading to confusion among team members. Focusing on enhancing his written communication abilities will help him effectively convey ideas and instructions.\\n\\nAdditionally, Joe tends to take on too many responsibilities and hesitates to delegate tasks to others. This can result in an excessive workload and potential burnout. Encouraging him to delegate tasks appropriately will not only alleviate his own workload but also foster a more balanced and productive team environment.\\n\",\n",
       " 'review_summary': 'Overall, Joe Schmo is an exceptional software engineer with strong technical skills, a collaborative nature, and a proactive attitude. He excels in problem-solving and is adaptable to changing project requirements. However, he could benefit from improving his time management, written communication skills, and delegation abilities. By addressing these areas, Joe has the potential to further enhance his efficiency and contribute even more effectively to the team.',\n",
       " 'weaknesses': 'Key employee weaknesses identified in this review summary are:\\n\\n1. Time management: Joe Schmo could benefit from improving his ability to manage his time effectively. This suggests that he may struggle with prioritizing tasks and meeting deadlines.\\n\\n2. Written communication skills: Joe Schmo needs to work on improving his written communication skills. This implies that he may struggle with expressing his ideas and thoughts clearly in written form, which is important for effective collaboration and documentation.\\n\\n3. Delegation abilities: Joe Schmo could also benefit from improving his delegation abilities. This suggests that he may have difficulty effectively assigning tasks to others and trusting them to complete the tasks efficiently.\\n\\nAddressing these weaknesses would help Joe Schmo become a more well-rounded and effective software engineer.',\n",
       " 'final_plan': 'To address and fix the identified weaknesses, Joe Schmo can follow this personalized plan:\\n\\n1. Time management:\\n- Set clear goals and priorities: Joe should start each day by identifying the most important tasks that need to be accomplished and prioritize them accordingly.\\n- Use a time management system: Joe can use tools such as a to-do list, calendar, or time tracking app to help him stay organized and manage his time effectively.\\n- Break tasks into smaller, manageable chunks: Large tasks can be overwhelming and lead to procrastination. Joe should break them down into smaller tasks and allocate specific time slots to work on each part.\\n- Set deadlines: Joe should establish realistic deadlines for each task and hold himself accountable to meet them. This will help him stay focused and avoid procrastination.\\n\\n2. Written communication skills:\\n- Seek feedback and guidance: Joe can ask for feedback from colleagues or supervisors on his written communication skills. This will help him identify areas for improvement and receive guidance on how to express ideas more clearly.\\n- Take writing courses or workshops: Joe can enroll in writing courses or attend workshops focused on improving written communication skills. These resources can provide him with practical tips and techniques to enhance his writing abilities.\\n- Practice and seek opportunities to write: Joe should actively seek opportunities to practice writing, such as contributing to documentation projects, writing technical blog posts, or volunteering to draft important emails or reports. The more he practices, the better he will become.\\n\\n3. Delegation abilities:\\n- Understand team strengths and weaknesses: Joe should take the time to understand the strengths and weaknesses of his team members. This will enable him to delegate tasks effectively by assigning each task to the most suitable team member.\\n- Provide clear instructions and expectations: When delegating tasks, Joe should provide clear instructions and expectations to ensure that his team members understand what needs to be done and how it should be accomplished.\\n- Foster trust and open communication: Joe should actively work on building trust with his team members. By fostering open communication and providing support, he can create an environment where team members feel comfortable taking on delegated tasks and seeking help when needed.\\n- Evaluate and provide constructive feedback: After delegating tasks, Joe should regularly check in with his team members to evaluate their progress and provide constructive feedback. This will help him gauge their effectiveness and identify areas for improvement.\\n\\nBy following this personalized plan, Joe Schmo can address and fix his weaknesses, becoming a more well-rounded and effective software engineer. Regular self-reflection and adjustment of the plan will ensure continuous improvement.'}"
      ]
     },
     "execution_count": 12,
     "metadata": {},
     "output_type": "execute_result"
    }
   ],
   "source": [
    "results"
   ]
  },
  {
   "cell_type": "code",
   "execution_count": 13,
   "id": "ee3b74cb",
   "metadata": {},
   "outputs": [
    {
     "name": "stdout",
     "output_type": "stream",
     "text": [
      "To address and fix the identified weaknesses, Joe Schmo can follow this personalized plan:\n",
      "\n",
      "1. Time management:\n",
      "- Set clear goals and priorities: Joe should start each day by identifying the most important tasks that need to be accomplished and prioritize them accordingly.\n",
      "- Use a time management system: Joe can use tools such as a to-do list, calendar, or time tracking app to help him stay organized and manage his time effectively.\n",
      "- Break tasks into smaller, manageable chunks: Large tasks can be overwhelming and lead to procrastination. Joe should break them down into smaller tasks and allocate specific time slots to work on each part.\n",
      "- Set deadlines: Joe should establish realistic deadlines for each task and hold himself accountable to meet them. This will help him stay focused and avoid procrastination.\n",
      "\n",
      "2. Written communication skills:\n",
      "- Seek feedback and guidance: Joe can ask for feedback from colleagues or supervisors on his written communication skills. This will help him identify areas for improvement and receive guidance on how to express ideas more clearly.\n",
      "- Take writing courses or workshops: Joe can enroll in writing courses or attend workshops focused on improving written communication skills. These resources can provide him with practical tips and techniques to enhance his writing abilities.\n",
      "- Practice and seek opportunities to write: Joe should actively seek opportunities to practice writing, such as contributing to documentation projects, writing technical blog posts, or volunteering to draft important emails or reports. The more he practices, the better he will become.\n",
      "\n",
      "3. Delegation abilities:\n",
      "- Understand team strengths and weaknesses: Joe should take the time to understand the strengths and weaknesses of his team members. This will enable him to delegate tasks effectively by assigning each task to the most suitable team member.\n",
      "- Provide clear instructions and expectations: When delegating tasks, Joe should provide clear instructions and expectations to ensure that his team members understand what needs to be done and how it should be accomplished.\n",
      "- Foster trust and open communication: Joe should actively work on building trust with his team members. By fostering open communication and providing support, he can create an environment where team members feel comfortable taking on delegated tasks and seeking help when needed.\n",
      "- Evaluate and provide constructive feedback: After delegating tasks, Joe should regularly check in with his team members to evaluate their progress and provide constructive feedback. This will help him gauge their effectiveness and identify areas for improvement.\n",
      "\n",
      "By following this personalized plan, Joe Schmo can address and fix his weaknesses, becoming a more well-rounded and effective software engineer. Regular self-reflection and adjustment of the plan will ensure continuous improvement.\n"
     ]
    }
   ],
   "source": [
    "print(results['final_plan'])"
   ]
  },
  {
   "cell_type": "code",
   "execution_count": null,
   "id": "dfcb06f1",
   "metadata": {},
   "outputs": [],
   "source": []
  }
 ],
 "metadata": {
  "kernelspec": {
   "display_name": "Python 3 (ipykernel)",
   "language": "python",
   "name": "python3"
  },
  "language_info": {
   "codemirror_mode": {
    "name": "ipython",
    "version": 3
   },
   "file_extension": ".py",
   "mimetype": "text/x-python",
   "name": "python",
   "nbconvert_exporter": "python",
   "pygments_lexer": "ipython3",
   "version": "3.8.10"
  }
 },
 "nbformat": 4,
 "nbformat_minor": 5
}
