{
 "cells": [
  {
   "cell_type": "markdown",
   "id": "72fd6916",
   "metadata": {},
   "source": [
    "# LangChain - Sequential Chains"
   ]
  },
  {
   "cell_type": "code",
   "execution_count": 1,
   "id": "75e5e2d4",
   "metadata": {},
   "outputs": [],
   "source": [
    "from langchain.chat_models import ChatOpenAI\n",
    "from langchain.prompts.chat import ChatPromptTemplate, HumanMessagePromptTemplate\n",
    "from langchain.chains import LLMChain, SimpleSequentialChain, SequentialChain"
   ]
  },
  {
   "cell_type": "code",
   "execution_count": 2,
   "id": "b66a3897",
   "metadata": {},
   "outputs": [],
   "source": [
    "api_key = open('../../api_key.txt').read()"
   ]
  },
  {
   "cell_type": "code",
   "execution_count": 3,
   "id": "11e6e031",
   "metadata": {},
   "outputs": [],
   "source": [
    "model = ChatOpenAI(openai_api_key=api_key)"
   ]
  },
  {
   "cell_type": "markdown",
   "id": "8df8e5ba",
   "metadata": {},
   "source": [
    "## Use Case\n",
    "\n",
    "Working for a company that issues employee performance reviews\n",
    "\n",
    "Employee Performance Review (Initial Input) ---> LLMChain (Summary) ---> LLMChain (List of Weakness) ---> LLM Chain (Improvement Plan)"
   ]
  },
  {
   "cell_type": "code",
   "execution_count": 4,
   "id": "b4945a88",
   "metadata": {},
   "outputs": [],
   "source": [
    "template1 = \"Give a summary of this employee's performance review\\n{review}\"\n",
    "prompt1 = ChatPromptTemplate.from_template(template1)\n",
    "chain1 = LLMChain(llm=model, prompt=prompt1, output_key='review_summary')"
   ]
  },
  {
   "cell_type": "code",
   "execution_count": 5,
   "id": "88379cfb",
   "metadata": {},
   "outputs": [],
   "source": [
    "template2 = \"Identify key employee weakness in this review summary:\\n{review_summary}\"\n",
    "prompt2 = ChatPromptTemplate.from_template(template2)\n",
    "chain2 = LLMChain(llm=model, prompt=prompt2, output_key='weaknesses')"
   ]
  },
  {
   "cell_type": "code",
   "execution_count": 6,
   "id": "83299f1f",
   "metadata": {},
   "outputs": [],
   "source": [
    "template3 = \"Create a personalized plan to help address and fix these weakness:\\n{weaknesses}\"\n",
    "prompt3 = ChatPromptTemplate.from_template(template3)\n",
    "chain3 = LLMChain(llm=model, prompt=prompt3, output_key='final_plan')"
   ]
  },
  {
   "cell_type": "code",
   "execution_count": 7,
   "id": "1e7182c4",
   "metadata": {},
   "outputs": [],
   "source": [
    "employee_review = '''\n",
    "Employee Information:\n",
    "Name: Joe Schmo\n",
    "Position: Software Engineer\n",
    "Date of Review: July 14, 2023\n",
    "\n",
    "Strengths:\n",
    "Joe is a highly skilled software engineer with a deep understanding of programming languages, algorithms, and software development best practices. His technical expertise shines through in his ability to efficiently solve complex problems and deliver high-quality code.\n",
    "\n",
    "One of Joe's greatest strengths is his collaborative nature. He actively engages with cross-functional teams, contributing valuable insights and seeking input from others. His open-mindedness and willingness to learn from colleagues make him a true team player.\n",
    "\n",
    "Joe consistently demonstrates initiative and self-motivation. He takes the lead in seeking out new projects and challenges, and his proactive attitude has led to significant improvements in existing processes and systems. His dedication to self-improvement and growth is commendable.\n",
    "\n",
    "Another notable strength is Joe's adaptability. He has shown great flexibility in handling changing project requirements and learning new technologies. This adaptability allows him to seamlessly transition between different projects and tasks, making him a valuable asset to the team.\n",
    "\n",
    "Joe's problem-solving skills are exceptional. He approaches issues with a logical mindset and consistently finds effective solutions, often thinking outside the box. His ability to break down complex problems into manageable parts is key to his success in resolving issues efficiently.\n",
    "\n",
    "Weaknesses:\n",
    "While Joe possesses numerous strengths, there are a few areas where he could benefit from improvement. One such area is time management. Occasionally, Joe struggles with effectively managing his time, resulting in missed deadlines or the need for additional support to complete tasks on time. Developing better prioritization and time management techniques would greatly enhance his efficiency.\n",
    "\n",
    "Another area for improvement is Joe's written communication skills. While he communicates well verbally, there have been instances where his written documentation lacked clarity, leading to confusion among team members. Focusing on enhancing his written communication abilities will help him effectively convey ideas and instructions.\n",
    "\n",
    "Additionally, Joe tends to take on too many responsibilities and hesitates to delegate tasks to others. This can result in an excessive workload and potential burnout. Encouraging him to delegate tasks appropriately will not only alleviate his own workload but also foster a more balanced and productive team environment.\n",
    "'''"
   ]
  },
  {
   "cell_type": "code",
   "execution_count": 8,
   "id": "876e40f8",
   "metadata": {},
   "outputs": [],
   "source": [
    "sequential_chain = SequentialChain(\n",
    "    chains=[chain1, chain2, chain3],\n",
    "    input_variables=['review'],\n",
    "    output_variables=['review_summary','weaknesses','final_plan'],\n",
    "    verbose=True)"
   ]
  },
  {
   "cell_type": "code",
   "execution_count": 9,
   "id": "7b75c406",
   "metadata": {},
   "outputs": [
    {
     "name": "stdout",
     "output_type": "stream",
     "text": [
      "\n",
      "\n",
      "\u001b[1m> Entering new SequentialChain chain...\u001b[0m\n",
      "\n",
      "\u001b[1m> Finished chain.\u001b[0m\n"
     ]
    }
   ],
   "source": [
    "results = sequential_chain(employee_review)"
   ]
  },
  {
   "cell_type": "code",
   "execution_count": 10,
   "id": "582c911e",
   "metadata": {},
   "outputs": [
    {
     "data": {
      "text/plain": [
       "dict"
      ]
     },
     "execution_count": 10,
     "metadata": {},
     "output_type": "execute_result"
    }
   ],
   "source": [
    "type(results)"
   ]
  },
  {
   "cell_type": "code",
   "execution_count": 11,
   "id": "bc93529e",
   "metadata": {},
   "outputs": [
    {
     "data": {
      "text/plain": [
       "dict_keys(['review', 'review_summary', 'weaknesses', 'final_plan'])"
      ]
     },
     "execution_count": 11,
     "metadata": {},
     "output_type": "execute_result"
    }
   ],
   "source": [
    "results.keys()"
   ]
  },
  {
   "cell_type": "code",
   "execution_count": 12,
   "id": "d7a5719f",
   "metadata": {},
   "outputs": [
    {
     "data": {
      "text/plain": [
       "{'review': \"\\nEmployee Information:\\nName: Joe Schmo\\nPosition: Software Engineer\\nDate of Review: July 14, 2023\\n\\nStrengths:\\nJoe is a highly skilled software engineer with a deep understanding of programming languages, algorithms, and software development best practices. His technical expertise shines through in his ability to efficiently solve complex problems and deliver high-quality code.\\n\\nOne of Joe's greatest strengths is his collaborative nature. He actively engages with cross-functional teams, contributing valuable insights and seeking input from others. His open-mindedness and willingness to learn from colleagues make him a true team player.\\n\\nJoe consistently demonstrates initiative and self-motivation. He takes the lead in seeking out new projects and challenges, and his proactive attitude has led to significant improvements in existing processes and systems. His dedication to self-improvement and growth is commendable.\\n\\nAnother notable strength is Joe's adaptability. He has shown great flexibility in handling changing project requirements and learning new technologies. This adaptability allows him to seamlessly transition between different projects and tasks, making him a valuable asset to the team.\\n\\nJoe's problem-solving skills are exceptional. He approaches issues with a logical mindset and consistently finds effective solutions, often thinking outside the box. His ability to break down complex problems into manageable parts is key to his success in resolving issues efficiently.\\n\\nWeaknesses:\\nWhile Joe possesses numerous strengths, there are a few areas where he could benefit from improvement. One such area is time management. Occasionally, Joe struggles with effectively managing his time, resulting in missed deadlines or the need for additional support to complete tasks on time. Developing better prioritization and time management techniques would greatly enhance his efficiency.\\n\\nAnother area for improvement is Joe's written communication skills. While he communicates well verbally, there have been instances where his written documentation lacked clarity, leading to confusion among team members. Focusing on enhancing his written communication abilities will help him effectively convey ideas and instructions.\\n\\nAdditionally, Joe tends to take on too many responsibilities and hesitates to delegate tasks to others. This can result in an excessive workload and potential burnout. Encouraging him to delegate tasks appropriately will not only alleviate his own workload but also foster a more balanced and productive team environment.\\n\",\n",
       " 'review_summary': 'Overall, Joe Schmo is an exceptional software engineer with strong technical skills, collaborative nature, initiative, adaptability, and problem-solving abilities. However, he could improve in areas such as time management, written communication, and delegation of tasks.',\n",
       " 'weaknesses': 'The key employee weaknesses identified in this review summary are time management, written communication, and delegation of tasks.',\n",
       " 'final_plan': \"Personalized Plan to Address and Fix Key Employee Weaknesses:\\n\\n1. Time Management:\\n- Set clear and specific goals: Work with the employee to establish measurable and achievable goals. Break down tasks into smaller, manageable units and set deadlines for each.\\n- Prioritize tasks: Help the employee identify tasks that are most critical and need immediate attention. Teach them techniques like the Eisenhower Matrix or ABC analysis to prioritize tasks effectively.\\n- Teach effective planning techniques: Guide the employee on how to create a daily or weekly schedule, including allocating time for different activities and incorporating buffer time for unexpected tasks or interruptions.\\n- Provide tools and resources: Offer time management tools such as productivity apps, task management software, or time tracking tools to help the employee stay organized and focused.\\n\\n2. Written Communication:\\n- Provide writing training: Offer writing workshops or courses to help the employee improve their writing skills. Focus on areas like grammar, punctuation, clarity, and conciseness.\\n- Encourage proofreading and editing: Emphasize the importance of reviewing and revising written work before finalizing it. Encourage the employee to take time to proofread, edit, and seek feedback from colleagues or supervisors.\\n- Assign writing tasks: Provide the employee with opportunities to practice their written communication skills, such as drafting reports, emails, or memos. Offer feedback and suggestions for improvement.\\n- Share good writing examples: Share well-written documents or templates as examples for the employee to learn from and emulate.\\n\\n3. Delegation of Tasks:\\n- Assess workload and responsibilities: Review the employee's current workload and identify tasks that can be delegated to others. Ensure that the employee has a clear understanding of their core responsibilities and areas that can be shared with colleagues.\\n- Provide delegation training: Offer training sessions on effective delegation techniques, including how to assign tasks, set expectations, provide necessary resources, and follow up on progress.\\n- Foster trust and confidence: Build a culture where employees feel comfortable delegating tasks and seeking help from others. Encourage open communication and provide support whenever needed.\\n- Monitor progress and provide feedback: Regularly check in with the employee to assess their progress in delegating tasks. Offer constructive feedback and guidance on areas that need improvement.\\n\\nOverall, it is essential to provide ongoing support, guidance, and resources to address these weaknesses. Regular feedback and coaching sessions can help monitor progress and ensure that the employee is making consistent improvements.\"}"
      ]
     },
     "execution_count": 12,
     "metadata": {},
     "output_type": "execute_result"
    }
   ],
   "source": [
    "results"
   ]
  },
  {
   "cell_type": "code",
   "execution_count": 13,
   "id": "ee3b74cb",
   "metadata": {},
   "outputs": [
    {
     "name": "stdout",
     "output_type": "stream",
     "text": [
      "Personalized Plan to Address and Fix Key Employee Weaknesses:\n",
      "\n",
      "1. Time Management:\n",
      "- Set clear and specific goals: Work with the employee to establish measurable and achievable goals. Break down tasks into smaller, manageable units and set deadlines for each.\n",
      "- Prioritize tasks: Help the employee identify tasks that are most critical and need immediate attention. Teach them techniques like the Eisenhower Matrix or ABC analysis to prioritize tasks effectively.\n",
      "- Teach effective planning techniques: Guide the employee on how to create a daily or weekly schedule, including allocating time for different activities and incorporating buffer time for unexpected tasks or interruptions.\n",
      "- Provide tools and resources: Offer time management tools such as productivity apps, task management software, or time tracking tools to help the employee stay organized and focused.\n",
      "\n",
      "2. Written Communication:\n",
      "- Provide writing training: Offer writing workshops or courses to help the employee improve their writing skills. Focus on areas like grammar, punctuation, clarity, and conciseness.\n",
      "- Encourage proofreading and editing: Emphasize the importance of reviewing and revising written work before finalizing it. Encourage the employee to take time to proofread, edit, and seek feedback from colleagues or supervisors.\n",
      "- Assign writing tasks: Provide the employee with opportunities to practice their written communication skills, such as drafting reports, emails, or memos. Offer feedback and suggestions for improvement.\n",
      "- Share good writing examples: Share well-written documents or templates as examples for the employee to learn from and emulate.\n",
      "\n",
      "3. Delegation of Tasks:\n",
      "- Assess workload and responsibilities: Review the employee's current workload and identify tasks that can be delegated to others. Ensure that the employee has a clear understanding of their core responsibilities and areas that can be shared with colleagues.\n",
      "- Provide delegation training: Offer training sessions on effective delegation techniques, including how to assign tasks, set expectations, provide necessary resources, and follow up on progress.\n",
      "- Foster trust and confidence: Build a culture where employees feel comfortable delegating tasks and seeking help from others. Encourage open communication and provide support whenever needed.\n",
      "- Monitor progress and provide feedback: Regularly check in with the employee to assess their progress in delegating tasks. Offer constructive feedback and guidance on areas that need improvement.\n",
      "\n",
      "Overall, it is essential to provide ongoing support, guidance, and resources to address these weaknesses. Regular feedback and coaching sessions can help monitor progress and ensure that the employee is making consistent improvements.\n"
     ]
    }
   ],
   "source": [
    "print(results['final_plan'])"
   ]
  },
  {
   "cell_type": "code",
   "execution_count": null,
   "id": "dfcb06f1",
   "metadata": {},
   "outputs": [],
   "source": []
  }
 ],
 "metadata": {
  "kernelspec": {
   "display_name": "Python 3 (ipykernel)",
   "language": "python",
   "name": "python3"
  },
  "language_info": {
   "codemirror_mode": {
    "name": "ipython",
    "version": 3
   },
   "file_extension": ".py",
   "mimetype": "text/x-python",
   "name": "python",
   "nbconvert_exporter": "python",
   "pygments_lexer": "ipython3",
   "version": "3.10.12"
  }
 },
 "nbformat": 4,
 "nbformat_minor": 5
}
