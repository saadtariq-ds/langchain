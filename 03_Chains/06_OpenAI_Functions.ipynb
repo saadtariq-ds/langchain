{
 "cells": [
  {
   "cell_type": "markdown",
   "id": "4dea6ae2",
   "metadata": {},
   "source": [
    "# LangChain - OpenAI Functions"
   ]
  },
  {
   "cell_type": "code",
   "execution_count": 1,
   "id": "46b97648",
   "metadata": {},
   "outputs": [],
   "source": [
    "from langchain.chat_models import ChatOpenAI\n",
    "from langchain.prompts import ChatPromptTemplate\n",
    "from langchain.chains.openai_functions import create_structured_output_chain"
   ]
  },
  {
   "cell_type": "code",
   "execution_count": 2,
   "id": "7b545a1e",
   "metadata": {},
   "outputs": [],
   "source": [
    "api_key = open('../../api_key.txt').read()\n",
    "model = ChatOpenAI(openai_api_key=api_key, model='gpt-3.5-turbo-0613')"
   ]
  },
  {
   "cell_type": "code",
   "execution_count": 3,
   "id": "b6c2b143",
   "metadata": {},
   "outputs": [],
   "source": [
    "class Scientist():\n",
    "    \n",
    "    def __init__(self, first_name, last_name):\n",
    "        self.first_name = first_name\n",
    "        self.last_name = last_name"
   ]
  },
  {
   "cell_type": "code",
   "execution_count": 4,
   "id": "639697f5",
   "metadata": {},
   "outputs": [],
   "source": [
    "json_schema = {\n",
    "    'title':'Scientist',\n",
    "    'description': 'Information about a famous scientist',\n",
    "    'type':'object',\n",
    "    'properties':{\n",
    "        'first_name': {\n",
    "            'title': 'First Name',\n",
    "            'description': 'First name of the scientist',\n",
    "            'type': 'string'\n",
    "        },\n",
    "        'last_name': {\n",
    "            'title': 'Last Name',\n",
    "            'description': 'Last name of the scientist',\n",
    "            'type': 'string'\n",
    "        }\n",
    "    },\n",
    "    'required':['first_name', 'last_name']\n",
    "}"
   ]
  },
  {
   "cell_type": "code",
   "execution_count": 5,
   "id": "7e684919",
   "metadata": {},
   "outputs": [],
   "source": [
    "template = 'Name a famous {country} scientist'"
   ]
  },
  {
   "cell_type": "code",
   "execution_count": 6,
   "id": "98a97183",
   "metadata": {},
   "outputs": [],
   "source": [
    "chat_prompt = ChatPromptTemplate.from_template(template)"
   ]
  },
  {
   "cell_type": "code",
   "execution_count": 7,
   "id": "b7a53bdd",
   "metadata": {},
   "outputs": [],
   "source": [
    "chain = create_structured_output_chain(json_schema,model,chat_prompt, \n",
    "                                       verbose=True)"
   ]
  },
  {
   "cell_type": "code",
   "execution_count": 8,
   "id": "42e4e5cc",
   "metadata": {},
   "outputs": [
    {
     "name": "stdout",
     "output_type": "stream",
     "text": [
      "\n",
      "\n",
      "\u001b[1m> Entering new LLMChain chain...\u001b[0m\n",
      "Prompt after formatting:\n",
      "\u001b[32;1m\u001b[1;3mHuman: Name a famous American scientist\u001b[0m\n",
      "\n",
      "\u001b[1m> Finished chain.\u001b[0m\n"
     ]
    }
   ],
   "source": [
    "result = chain.run(country='American')"
   ]
  },
  {
   "cell_type": "code",
   "execution_count": 9,
   "id": "bd7096e4",
   "metadata": {},
   "outputs": [
    {
     "data": {
      "text/plain": [
       "{'first_name': 'Albert', 'last_name': 'Einstein'}"
      ]
     },
     "execution_count": 9,
     "metadata": {},
     "output_type": "execute_result"
    }
   ],
   "source": [
    "result"
   ]
  },
  {
   "cell_type": "code",
   "execution_count": 10,
   "id": "25d11002",
   "metadata": {},
   "outputs": [],
   "source": [
    "albert = Scientist(result['first_name'], result['last_name'])"
   ]
  },
  {
   "cell_type": "code",
   "execution_count": 11,
   "id": "9b493982",
   "metadata": {},
   "outputs": [
    {
     "data": {
      "text/plain": [
       "'Albert'"
      ]
     },
     "execution_count": 11,
     "metadata": {},
     "output_type": "execute_result"
    }
   ],
   "source": [
    "albert.first_name"
   ]
  },
  {
   "cell_type": "code",
   "execution_count": 12,
   "id": "5336f899",
   "metadata": {},
   "outputs": [
    {
     "data": {
      "text/plain": [
       "'Einstein'"
      ]
     },
     "execution_count": 12,
     "metadata": {},
     "output_type": "execute_result"
    }
   ],
   "source": [
    "albert.last_name"
   ]
  },
  {
   "cell_type": "code",
   "execution_count": null,
   "id": "cd2d343b",
   "metadata": {},
   "outputs": [],
   "source": []
  }
 ],
 "metadata": {
  "kernelspec": {
   "display_name": "Python 3 (ipykernel)",
   "language": "python",
   "name": "python3"
  },
  "language_info": {
   "codemirror_mode": {
    "name": "ipython",
    "version": 3
   },
   "file_extension": ".py",
   "mimetype": "text/x-python",
   "name": "python",
   "nbconvert_exporter": "python",
   "pygments_lexer": "ipython3",
   "version": "3.8.10"
  }
 },
 "nbformat": 4,
 "nbformat_minor": 5
}
