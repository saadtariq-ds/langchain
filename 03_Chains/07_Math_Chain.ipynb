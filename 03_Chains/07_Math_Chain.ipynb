{
 "cells": [
  {
   "cell_type": "markdown",
   "id": "d8b4ee0f",
   "metadata": {},
   "source": [
    "# LangChain - Math Chain"
   ]
  },
  {
   "cell_type": "code",
   "execution_count": 1,
   "id": "62f3ab1f",
   "metadata": {},
   "outputs": [],
   "source": [
    "from langchain.chat_models import ChatOpenAI\n",
    "from langchain.prompts import ChatPromptTemplate, HumanMessagePromptTemplate\n",
    "from langchain.schema import HumanMessage"
   ]
  },
  {
   "cell_type": "code",
   "execution_count": 2,
   "id": "e6973ea3",
   "metadata": {},
   "outputs": [],
   "source": [
    "api_key = open('../../api_key.txt').read()\n",
    "model = ChatOpenAI(openai_api_key=api_key)"
   ]
  },
  {
   "cell_type": "code",
   "execution_count": 3,
   "id": "fe5cd8c2",
   "metadata": {},
   "outputs": [],
   "source": [
    "result = model([HumanMessage(content='What is 2+2')])"
   ]
  },
  {
   "cell_type": "code",
   "execution_count": 4,
   "id": "ead4eaf4",
   "metadata": {},
   "outputs": [
    {
     "data": {
      "text/plain": [
       "'2 + 2 equals 4.'"
      ]
     },
     "execution_count": 4,
     "metadata": {},
     "output_type": "execute_result"
    }
   ],
   "source": [
    "result.content"
   ]
  },
  {
   "cell_type": "markdown",
   "id": "9cd231df",
   "metadata": {},
   "source": [
    "## Little Complex Query"
   ]
  },
  {
   "cell_type": "code",
   "execution_count": 5,
   "id": "22c94343",
   "metadata": {},
   "outputs": [
    {
     "data": {
      "text/plain": [
       "34271896307633"
      ]
     },
     "execution_count": 5,
     "metadata": {},
     "output_type": "execute_result"
    }
   ],
   "source": [
    "17**11"
   ]
  },
  {
   "cell_type": "code",
   "execution_count": 6,
   "id": "552d0785",
   "metadata": {},
   "outputs": [],
   "source": [
    "result = model([HumanMessage(content='What is 17 raise to the power of 11')])"
   ]
  },
  {
   "cell_type": "code",
   "execution_count": 7,
   "id": "37ee36ea",
   "metadata": {},
   "outputs": [
    {
     "data": {
      "text/plain": [
       "'17 raised to the power of 11 is 143,489,070,414,560,000.'"
      ]
     },
     "execution_count": 7,
     "metadata": {},
     "output_type": "execute_result"
    }
   ],
   "source": [
    "result.content"
   ]
  },
  {
   "cell_type": "code",
   "execution_count": 8,
   "id": "92475373",
   "metadata": {},
   "outputs": [
    {
     "data": {
      "text/plain": [
       "34271896307633"
      ]
     },
     "execution_count": 8,
     "metadata": {},
     "output_type": "execute_result"
    }
   ],
   "source": [
    "eval('17**11')"
   ]
  },
  {
   "cell_type": "markdown",
   "id": "625312e2",
   "metadata": {},
   "source": [
    "## Math Chain"
   ]
  },
  {
   "cell_type": "code",
   "execution_count": 9,
   "id": "b9f55fa6",
   "metadata": {},
   "outputs": [],
   "source": [
    "from langchain import LLMMathChain"
   ]
  },
  {
   "cell_type": "code",
   "execution_count": 10,
   "id": "bf0582b4",
   "metadata": {},
   "outputs": [],
   "source": [
    "llm_math_model = LLMMathChain.from_llm(model)"
   ]
  },
  {
   "cell_type": "code",
   "execution_count": 11,
   "id": "d60d5826",
   "metadata": {},
   "outputs": [
    {
     "data": {
      "text/plain": [
       "{'question': 'What is 17 raise to the power of 11',\n",
       " 'answer': 'Answer: 34271896307633'}"
      ]
     },
     "execution_count": 11,
     "metadata": {},
     "output_type": "execute_result"
    }
   ],
   "source": [
    "llm_math_model(\"What is 17 raise to the power of 11\")"
   ]
  },
  {
   "cell_type": "code",
   "execution_count": null,
   "id": "e65b915b",
   "metadata": {},
   "outputs": [],
   "source": []
  }
 ],
 "metadata": {
  "kernelspec": {
   "display_name": "Python 3 (ipykernel)",
   "language": "python",
   "name": "python3"
  },
  "language_info": {
   "codemirror_mode": {
    "name": "ipython",
    "version": 3
   },
   "file_extension": ".py",
   "mimetype": "text/x-python",
   "name": "python",
   "nbconvert_exporter": "python",
   "pygments_lexer": "ipython3",
   "version": "3.8.10"
  }
 },
 "nbformat": 4,
 "nbformat_minor": 5
}
