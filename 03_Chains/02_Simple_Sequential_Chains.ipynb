{
 "cells": [
  {
   "cell_type": "markdown",
   "id": "3119db8d",
   "metadata": {},
   "source": [
    "# LangChain - Simple Sequential Chains"
   ]
  },
  {
   "cell_type": "code",
   "execution_count": 1,
   "id": "0c584703",
   "metadata": {},
   "outputs": [],
   "source": [
    "from langchain.chat_models import ChatOpenAI\n",
    "from langchain.prompts.chat import ChatPromptTemplate, HumanMessagePromptTemplate"
   ]
  },
  {
   "cell_type": "code",
   "execution_count": 2,
   "id": "54e1ae03",
   "metadata": {},
   "outputs": [],
   "source": [
    "from langchain.chains import LLMChain, SimpleSequentialChain"
   ]
  },
  {
   "cell_type": "code",
   "execution_count": 3,
   "id": "3f8f247a",
   "metadata": {},
   "outputs": [],
   "source": [
    "api_key = open('../../api_key.txt').read()\n",
    "model = ChatOpenAI(openai_api_key=api_key)"
   ]
  },
  {
   "cell_type": "markdown",
   "id": "49416add",
   "metadata": {},
   "source": [
    "## Objective\n",
    "\n",
    "Topic Blog Post --->  [ Outline ---> Create Blog Post from Outline ] ---> Blog Post Text"
   ]
  },
  {
   "cell_type": "code",
   "execution_count": 5,
   "id": "3f743cc0",
   "metadata": {},
   "outputs": [],
   "source": [
    "template = \"Give me a simple bullet points outline for a blog post on {topic}\"\n",
    "first_prompt = ChatPromptTemplate.from_template(template)\n",
    "chain_one = LLMChain(llm=model, prompt=first_prompt)"
   ]
  },
  {
   "cell_type": "code",
   "execution_count": 6,
   "id": "b23edcc6",
   "metadata": {},
   "outputs": [],
   "source": [
    "template2 = \"Write a blog post using this outline {outline}\"\n",
    "second_prompt = ChatPromptTemplate.from_template(template2)\n",
    "chain_two = LLMChain(llm=model, prompt=second_prompt)"
   ]
  },
  {
   "cell_type": "code",
   "execution_count": 7,
   "id": "cb71f494",
   "metadata": {},
   "outputs": [],
   "source": [
    "full_chain = SimpleSequentialChain(chains=[chain_one, chain_two], verbose=True)"
   ]
  },
  {
   "cell_type": "code",
   "execution_count": 8,
   "id": "f7e5deb8",
   "metadata": {},
   "outputs": [
    {
     "name": "stdout",
     "output_type": "stream",
     "text": [
      "\n",
      "\n",
      "\u001b[1m> Entering new SimpleSequentialChain chain...\u001b[0m\n",
      "\u001b[36;1m\u001b[1;3m- Introduction\n",
      "  - Briefly mention the popularity and appeal of cheesecake as a dessert\n",
      "- History of Cheesecake\n",
      "  - Explore the origins of cheesecake, dating back to ancient Greece and Rome\n",
      "  - Discuss how cheesecake has evolved over time and spread to different cultures\n",
      "- Types of Cheesecake\n",
      "  - Highlight some popular variations of cheesecake, such as New York-style, Italian-style, and no-bake cheesecake\n",
      "  - Briefly explain the key differences in ingredients and preparation methods\n",
      "- Classic Cheesecake Recipe\n",
      "  - Provide a simple and traditional recipe for making cheesecake from scratch\n",
      "  - Include a list of ingredients and step-by-step instructions\n",
      "- Tips for Perfect Cheesecake\n",
      "  - Share some helpful tips and tricks for achieving a smooth and creamy texture, avoiding cracks, and ensuring proper baking\n",
      "- Creative Cheesecake Flavors and Toppings\n",
      "  - Discuss the versatility of cheesecake and suggest unique flavor combinations like chocolate, fruit, or caramel\n",
      "  - Mention various toppings or garnishes that can enhance the taste and presentation\n",
      "- Cheesecake Around the World\n",
      "  - Explore how different countries have adapted cheesecake to their own culinary traditions, such as Japanese cotton cheesecake or German cheesecake\n",
      "- Conclusion\n",
      "  - Recap the popularity and enduring appeal of cheesecake as a beloved dessert worldwide\n",
      "  - Encourage readers to try making their own cheesecake and experiment with different flavors and toppings\u001b[0m\n",
      "\u001b[33;1m\u001b[1;3mThe Irresistible Allure of Cheesecake: A Global Dessert Phenomenon\n",
      "\n",
      "Introduction\n",
      "\n",
      "Cheesecake, with its rich and creamy texture, has long been a beloved dessert around the world. It's no wonder that this indulgent treat has gained such popularity and appeal. In this blog post, we will dive into the history of cheesecake, explore its different variations and flavors, and even provide a classic recipe for those eager to try their hand at making it themselves.\n",
      "\n",
      "History of Cheesecake\n",
      "\n",
      "The origins of cheesecake can be traced back to ancient Greece and Rome. The Greeks believed that cheesecake was a source of energy and served it to athletes during the first Olympic games. The Romans, on the other hand, used honey and bay leaves to flavor their cheesecakes. Over time, cheesecake spread to different cultures and evolved into various forms. As it made its way through Europe, different regions adopted their own unique versions of cheesecake, each with its own distinct flavors and techniques.\n",
      "\n",
      "Types of Cheesecake\n",
      "\n",
      "When it comes to cheesecake, there are several popular variations that have emerged over time. The New York-style cheesecake is perhaps the most well-known, with its dense and creamy texture. Italian-style cheesecake, on the other hand, is lighter and often made with ricotta cheese. And for those looking for a quick and easy option, a no-bake cheesecake is a great choice. These variations differ in their ingredients and preparation methods, resulting in a diverse range of flavors and textures.\n",
      "\n",
      "Classic Cheesecake Recipe\n",
      "\n",
      "For those eager to try their hand at making a classic cheesecake from scratch, we have a simple and traditional recipe to share. You will need the following ingredients:\n",
      "\n",
      "- 2 cups of graham cracker crumbs\n",
      "- 1/2 cup of melted butter\n",
      "- 3 packages of cream cheese (8 ounces each)\n",
      "- 1 cup of sugar\n",
      "- 1 teaspoon of vanilla extract\n",
      "- 3 eggs\n",
      "\n",
      "To make the crust, combine the graham cracker crumbs and melted butter in a bowl. Press the mixture into the bottom of a springform pan to form the crust. In a separate bowl, beat the cream cheese, sugar, and vanilla extract until smooth. Add the eggs one at a time, beating well after each addition. Pour the mixture over the crust and bake at 325°F for about an hour. Let it cool before removing it from the pan, and refrigerate for at least four hours before serving.\n",
      "\n",
      "Tips for Perfect Cheesecake\n",
      "\n",
      "To achieve a smooth and creamy texture in your cheesecake, there are a few helpful tips to keep in mind. Firstly, make sure all the ingredients, especially the cream cheese, are at room temperature before starting. This will ensure a smoother batter. Additionally, avoid overmixing the batter, as this can lead to a dense and heavy cheesecake. Lastly, to prevent cracks from forming, it's important to bake the cheesecake in a water bath and avoid sudden temperature changes.\n",
      "\n",
      "Creative Cheesecake Flavors and Toppings\n",
      "\n",
      "While classic cheesecake is undeniably delicious, the versatility of this dessert allows for endless flavor combinations. From chocolate and fruit to caramel and nuts, there are countless ways to elevate your cheesecake experience. Consider adding crushed Oreos for a cookies and cream twist, or swirl in some raspberry puree for a burst of fruity goodness. And let's not forget about the toppings! From whipped cream and fresh berries to chocolate ganache and caramel drizzle, the possibilities are truly endless.\n",
      "\n",
      "Cheesecake Around the World\n",
      "\n",
      "Cheesecake has not only spread across cultures but has also been adapted to suit different culinary traditions. In Japan, for example, the cotton cheesecake is a popular variation known for its light and fluffy texture. German cheesecake, on the other hand, often incorporates quark cheese and is typically less sweet than its American counterparts. Exploring these international adaptations can provide a unique perspective on how cheesecake has become a global phenomenon.\n",
      "\n",
      "Conclusion\n",
      "\n",
      "In conclusion, cheesecake has captivated the hearts and taste buds of people around the world. Its rich and creamy texture, coupled with the endless flavor possibilities, has made it a beloved dessert for centuries. Whether you choose to try your hand at making a classic cheesecake or venture into unique variations, the allure of this indulgent treat is undeniable. So why not give it a go yourself? With a little creativity and a willingness to experiment, you can create your own cheesecake masterpiece.\u001b[0m\n",
      "\n",
      "\u001b[1m> Finished chain.\u001b[0m\n"
     ]
    }
   ],
   "source": [
    "result = full_chain.run('Cheesecake')"
   ]
  },
  {
   "cell_type": "code",
   "execution_count": 9,
   "id": "5782bc86",
   "metadata": {},
   "outputs": [
    {
     "data": {
      "text/plain": [
       "str"
      ]
     },
     "execution_count": 9,
     "metadata": {},
     "output_type": "execute_result"
    }
   ],
   "source": [
    "type(result)"
   ]
  },
  {
   "cell_type": "code",
   "execution_count": 10,
   "id": "fd1ca07c",
   "metadata": {},
   "outputs": [
    {
     "name": "stdout",
     "output_type": "stream",
     "text": [
      "The Irresistible Allure of Cheesecake: A Global Dessert Phenomenon\n",
      "\n",
      "Introduction\n",
      "\n",
      "Cheesecake, with its rich and creamy texture, has long been a beloved dessert around the world. It's no wonder that this indulgent treat has gained such popularity and appeal. In this blog post, we will dive into the history of cheesecake, explore its different variations and flavors, and even provide a classic recipe for those eager to try their hand at making it themselves.\n",
      "\n",
      "History of Cheesecake\n",
      "\n",
      "The origins of cheesecake can be traced back to ancient Greece and Rome. The Greeks believed that cheesecake was a source of energy and served it to athletes during the first Olympic games. The Romans, on the other hand, used honey and bay leaves to flavor their cheesecakes. Over time, cheesecake spread to different cultures and evolved into various forms. As it made its way through Europe, different regions adopted their own unique versions of cheesecake, each with its own distinct flavors and techniques.\n",
      "\n",
      "Types of Cheesecake\n",
      "\n",
      "When it comes to cheesecake, there are several popular variations that have emerged over time. The New York-style cheesecake is perhaps the most well-known, with its dense and creamy texture. Italian-style cheesecake, on the other hand, is lighter and often made with ricotta cheese. And for those looking for a quick and easy option, a no-bake cheesecake is a great choice. These variations differ in their ingredients and preparation methods, resulting in a diverse range of flavors and textures.\n",
      "\n",
      "Classic Cheesecake Recipe\n",
      "\n",
      "For those eager to try their hand at making a classic cheesecake from scratch, we have a simple and traditional recipe to share. You will need the following ingredients:\n",
      "\n",
      "- 2 cups of graham cracker crumbs\n",
      "- 1/2 cup of melted butter\n",
      "- 3 packages of cream cheese (8 ounces each)\n",
      "- 1 cup of sugar\n",
      "- 1 teaspoon of vanilla extract\n",
      "- 3 eggs\n",
      "\n",
      "To make the crust, combine the graham cracker crumbs and melted butter in a bowl. Press the mixture into the bottom of a springform pan to form the crust. In a separate bowl, beat the cream cheese, sugar, and vanilla extract until smooth. Add the eggs one at a time, beating well after each addition. Pour the mixture over the crust and bake at 325°F for about an hour. Let it cool before removing it from the pan, and refrigerate for at least four hours before serving.\n",
      "\n",
      "Tips for Perfect Cheesecake\n",
      "\n",
      "To achieve a smooth and creamy texture in your cheesecake, there are a few helpful tips to keep in mind. Firstly, make sure all the ingredients, especially the cream cheese, are at room temperature before starting. This will ensure a smoother batter. Additionally, avoid overmixing the batter, as this can lead to a dense and heavy cheesecake. Lastly, to prevent cracks from forming, it's important to bake the cheesecake in a water bath and avoid sudden temperature changes.\n",
      "\n",
      "Creative Cheesecake Flavors and Toppings\n",
      "\n",
      "While classic cheesecake is undeniably delicious, the versatility of this dessert allows for endless flavor combinations. From chocolate and fruit to caramel and nuts, there are countless ways to elevate your cheesecake experience. Consider adding crushed Oreos for a cookies and cream twist, or swirl in some raspberry puree for a burst of fruity goodness. And let's not forget about the toppings! From whipped cream and fresh berries to chocolate ganache and caramel drizzle, the possibilities are truly endless.\n",
      "\n",
      "Cheesecake Around the World\n",
      "\n",
      "Cheesecake has not only spread across cultures but has also been adapted to suit different culinary traditions. In Japan, for example, the cotton cheesecake is a popular variation known for its light and fluffy texture. German cheesecake, on the other hand, often incorporates quark cheese and is typically less sweet than its American counterparts. Exploring these international adaptations can provide a unique perspective on how cheesecake has become a global phenomenon.\n",
      "\n",
      "Conclusion\n",
      "\n",
      "In conclusion, cheesecake has captivated the hearts and taste buds of people around the world. Its rich and creamy texture, coupled with the endless flavor possibilities, has made it a beloved dessert for centuries. Whether you choose to try your hand at making a classic cheesecake or venture into unique variations, the allure of this indulgent treat is undeniable. So why not give it a go yourself? With a little creativity and a willingness to experiment, you can create your own cheesecake masterpiece.\n"
     ]
    }
   ],
   "source": [
    "print(result)"
   ]
  },
  {
   "cell_type": "code",
   "execution_count": null,
   "id": "c0416aee",
   "metadata": {},
   "outputs": [],
   "source": []
  }
 ],
 "metadata": {
  "kernelspec": {
   "display_name": "Python 3 (ipykernel)",
   "language": "python",
   "name": "python3"
  },
  "language_info": {
   "codemirror_mode": {
    "name": "ipython",
    "version": 3
   },
   "file_extension": ".py",
   "mimetype": "text/x-python",
   "name": "python",
   "nbconvert_exporter": "python",
   "pygments_lexer": "ipython3",
   "version": "3.8.10"
  }
 },
 "nbformat": 4,
 "nbformat_minor": 5
}
