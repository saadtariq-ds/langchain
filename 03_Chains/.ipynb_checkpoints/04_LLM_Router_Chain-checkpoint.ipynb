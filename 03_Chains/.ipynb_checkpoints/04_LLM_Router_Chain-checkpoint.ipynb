{
 "cells": [
  {
   "cell_type": "markdown",
   "id": "507d4c85",
   "metadata": {},
   "source": [
    "# LangChain - LLM Router Chain"
   ]
  },
  {
   "cell_type": "code",
   "execution_count": 1,
   "id": "277d5c03",
   "metadata": {},
   "outputs": [],
   "source": [
    "from langchain.chat_models import ChatOpenAI\n",
    "from langchain.prompts import ChatPromptTemplate\n",
    "from langchain.chains import LLMChain"
   ]
  },
  {
   "cell_type": "code",
   "execution_count": 2,
   "id": "1d5c282d",
   "metadata": {},
   "outputs": [],
   "source": [
    "api_key = open('../../api_key.txt').read()"
   ]
  },
  {
   "cell_type": "code",
   "execution_count": 3,
   "id": "8040c0eb",
   "metadata": {},
   "outputs": [],
   "source": [
    "model = ChatOpenAI(openai_api_key=api_key)"
   ]
  },
  {
   "cell_type": "markdown",
   "id": "6c3371ae",
   "metadata": {},
   "source": [
    "## Creating Templates\n",
    "\n",
    "1. Beginner Template\n",
    "2. Advanced / Expert Template"
   ]
  },
  {
   "cell_type": "code",
   "execution_count": 4,
   "id": "27c65d7b",
   "metadata": {},
   "outputs": [],
   "source": [
    "beginner_template = '''You are physics teacher who is really focused on beginners and explaining complex concepts in\n",
    "simple to understand terms. You assume no prior knowledge. Here is your question:\\n{input}'''"
   ]
  },
  {
   "cell_type": "code",
   "execution_count": 5,
   "id": "5099a025",
   "metadata": {},
   "outputs": [],
   "source": [
    "expert_template = '''You are a physics professor who explains physics topics to advanced audience members. You can assume\n",
    "anyone you answer has a PhD in Physics. Here is your question:\\n{input}'''"
   ]
  },
  {
   "cell_type": "markdown",
   "id": "324c5fb5",
   "metadata": {},
   "source": [
    "## Route Prompt Information\n",
    "\n",
    "It will take three things in a dictionary:\n",
    "1. Name\n",
    "2. Description\n",
    "3. Template"
   ]
  },
  {
   "cell_type": "code",
   "execution_count": 6,
   "id": "16f40fc7",
   "metadata": {},
   "outputs": [],
   "source": [
    "prompt_infos = [\n",
    "    {'name': 'beginner physics',\n",
    "    'description': 'Answer basic physics questions',\n",
    "    'template': beginner_template},\n",
    "    \n",
    "    {'name': 'advanced physics',\n",
    "    'description': 'Answer advanced physics questions',\n",
    "    'template': expert_template}\n",
    "]"
   ]
  },
  {
   "cell_type": "markdown",
   "id": "fd743ea8",
   "metadata": {},
   "source": [
    "## Building up Information"
   ]
  },
  {
   "cell_type": "code",
   "execution_count": 7,
   "id": "e0beba98",
   "metadata": {},
   "outputs": [],
   "source": [
    "destination_chains = {}\n",
    "\n",
    "for info in prompt_infos:\n",
    "    name = info['name']\n",
    "#     description = info['description']\n",
    "    prompt_template = info['template']\n",
    "    \n",
    "    prompt = ChatPromptTemplate.from_template(template=prompt_template)\n",
    "    chain = LLMChain(llm=model, prompt=prompt)\n",
    "    destination_chains[name] = chain"
   ]
  },
  {
   "cell_type": "code",
   "execution_count": 8,
   "id": "a05cd610",
   "metadata": {},
   "outputs": [],
   "source": [
    "# destination_chains"
   ]
  },
  {
   "cell_type": "code",
   "execution_count": 9,
   "id": "c058db45",
   "metadata": {},
   "outputs": [],
   "source": [
    "default_prompt = ChatPromptTemplate.from_template('{input}')\n",
    "default_chain = LLMChain(llm=model, prompt=default_prompt)"
   ]
  },
  {
   "cell_type": "markdown",
   "id": "76be740d",
   "metadata": {},
   "source": [
    "## Setting up Multi Prompt Routing"
   ]
  },
  {
   "cell_type": "code",
   "execution_count": 10,
   "id": "ba611ad0",
   "metadata": {},
   "outputs": [],
   "source": [
    "from langchain.chains.router.multi_prompt_prompt import MULTI_PROMPT_ROUTER_TEMPLATE"
   ]
  },
  {
   "cell_type": "code",
   "execution_count": 11,
   "id": "196833f6",
   "metadata": {},
   "outputs": [
    {
     "name": "stdout",
     "output_type": "stream",
     "text": [
      "Given a raw text input to a language model select the model prompt best suited for the input. You will be given the names of the available prompts and a description of what the prompt is best suited for. You may also revise the original input if you think that revising it will ultimately lead to a better response from the language model.\n",
      "\n",
      "<< FORMATTING >>\n",
      "Return a markdown code snippet with a JSON object formatted to look like:\n",
      "```json\n",
      "{{{{\n",
      "    \"destination\": string \\ name of the prompt to use or \"DEFAULT\"\n",
      "    \"next_inputs\": string \\ a potentially modified version of the original input\n",
      "}}}}\n",
      "```\n",
      "\n",
      "REMEMBER: \"destination\" MUST be one of the candidate prompt names specified below OR it can be \"DEFAULT\" if the input is not well suited for any of the candidate prompts.\n",
      "REMEMBER: \"next_inputs\" can just be the original input if you don't think any modifications are needed.\n",
      "\n",
      "<< CANDIDATE PROMPTS >>\n",
      "{destinations}\n",
      "\n",
      "<< INPUT >>\n",
      "{{input}}\n",
      "\n",
      "<< OUTPUT (must include ```json at the start of the response) >>\n",
      "\n"
     ]
    }
   ],
   "source": [
    "print(MULTI_PROMPT_ROUTER_TEMPLATE)"
   ]
  },
  {
   "cell_type": "code",
   "execution_count": 12,
   "id": "16a646ca",
   "metadata": {},
   "outputs": [
    {
     "data": {
      "text/plain": [
       "['beginner physics: Answer basic physics questions',\n",
       " 'advanced physics: Answer advanced physics questions']"
      ]
     },
     "execution_count": 12,
     "metadata": {},
     "output_type": "execute_result"
    }
   ],
   "source": [
    "destinations = [f\"{p['name']}: {p['description']}\" for p in prompt_infos]\n",
    "destinations"
   ]
  },
  {
   "cell_type": "code",
   "execution_count": 13,
   "id": "ea89240d",
   "metadata": {},
   "outputs": [
    {
     "name": "stdout",
     "output_type": "stream",
     "text": [
      "beginner physics: Answer basic physics questions\n",
      "advanced physics: Answer advanced physics questions\n"
     ]
    }
   ],
   "source": [
    "destination_strings = \"\\n\".join(destinations)\n",
    "print(destination_strings)"
   ]
  },
  {
   "cell_type": "markdown",
   "id": "0dd4009d",
   "metadata": {},
   "source": [
    "## Setting Up Prompt"
   ]
  },
  {
   "cell_type": "code",
   "execution_count": 14,
   "id": "81fb6a99",
   "metadata": {},
   "outputs": [],
   "source": [
    "from langchain.prompts import PromptTemplate\n",
    "from langchain.chains.router.llm_router import LLMRouterChain, RouterOutputParser"
   ]
  },
  {
   "cell_type": "code",
   "execution_count": 15,
   "id": "828f3382",
   "metadata": {},
   "outputs": [
    {
     "name": "stdout",
     "output_type": "stream",
     "text": [
      "Given a raw text input to a language model select the model prompt best suited for the input. You will be given the names of the available prompts and a description of what the prompt is best suited for. You may also revise the original input if you think that revising it will ultimately lead to a better response from the language model.\n",
      "\n",
      "<< FORMATTING >>\n",
      "Return a markdown code snippet with a JSON object formatted to look like:\n",
      "```json\n",
      "{{\n",
      "    \"destination\": string \\ name of the prompt to use or \"DEFAULT\"\n",
      "    \"next_inputs\": string \\ a potentially modified version of the original input\n",
      "}}\n",
      "```\n",
      "\n",
      "REMEMBER: \"destination\" MUST be one of the candidate prompt names specified below OR it can be \"DEFAULT\" if the input is not well suited for any of the candidate prompts.\n",
      "REMEMBER: \"next_inputs\" can just be the original input if you don't think any modifications are needed.\n",
      "\n",
      "<< CANDIDATE PROMPTS >>\n",
      "beginner physics: Answer basic physics questions\n",
      "advanced physics: Answer advanced physics questions\n",
      "\n",
      "<< INPUT >>\n",
      "{input}\n",
      "\n",
      "<< OUTPUT (must include ```json at the start of the response) >>\n",
      "\n"
     ]
    }
   ],
   "source": [
    "router_template = MULTI_PROMPT_ROUTER_TEMPLATE.format(destinations=destination_strings)\n",
    "print(router_template)"
   ]
  },
  {
   "cell_type": "code",
   "execution_count": 16,
   "id": "b7deabc3",
   "metadata": {},
   "outputs": [],
   "source": [
    "router_prompt = PromptTemplate(template=router_template,\n",
    "                              input_variables=['input'],\n",
    "                              output_parser=RouterOutputParser())"
   ]
  },
  {
   "cell_type": "markdown",
   "id": "8c25757c",
   "metadata": {},
   "source": [
    "## Performing Chain Calls"
   ]
  },
  {
   "cell_type": "code",
   "execution_count": 17,
   "id": "922ab7ba",
   "metadata": {},
   "outputs": [],
   "source": [
    "from langchain.chains.router import MultiPromptChain"
   ]
  },
  {
   "cell_type": "code",
   "execution_count": 18,
   "id": "56a9525a",
   "metadata": {},
   "outputs": [],
   "source": [
    "router_chain = LLMRouterChain.from_llm(llm=model, prompt=router_prompt)"
   ]
  },
  {
   "cell_type": "code",
   "execution_count": 19,
   "id": "a637b3df",
   "metadata": {},
   "outputs": [],
   "source": [
    "chain = MultiPromptChain(router_chain=router_chain,\n",
    "                        destination_chains=destination_chains,\n",
    "                        default_chain=default_chain,\n",
    "                        verbose=True)"
   ]
  },
  {
   "cell_type": "code",
   "execution_count": 20,
   "id": "179e0849",
   "metadata": {},
   "outputs": [
    {
     "name": "stdout",
     "output_type": "stream",
     "text": [
      "\n",
      "\n",
      "\u001b[1m> Entering new MultiPromptChain chain...\u001b[0m\n"
     ]
    },
    {
     "name": "stderr",
     "output_type": "stream",
     "text": [
      "C:\\Users\\Saad Tariq\\anaconda3\\envs\\env_langchain\\lib\\site-packages\\langchain\\chains\\llm.py:278: UserWarning: The predict_and_parse method is deprecated, instead pass an output parser directly to LLMChain.\n",
      "  warnings.warn(\n"
     ]
    },
    {
     "name": "stdout",
     "output_type": "stream",
     "text": [
      "beginner physics: {'input': 'How do magnets work?'}\n",
      "\u001b[1m> Finished chain.\u001b[0m\n"
     ]
    },
    {
     "data": {
      "text/plain": [
       "'Ah, magnets, fascinating objects indeed! Let me break it down for you in simple terms. \\n\\nMagnets work because of something called magnetism. Magnetism is a force that attracts or repels certain materials, like iron or steel. Now, every magnet has two ends called poles – a North pole and a South pole.\\n\\nOne of the most important things to know about magnets is that opposite poles attract each other (North attracts South), while like poles repel each other (North repels North or South repels South). It\\'s like when you have two magnets and you try to bring the same ends close together – they push away from each other!\\n\\nYou might be wondering what causes this magnetism. Well, magnets have tiny particles inside them called electrons. These electrons have a property called \"spin,\" which is like their own little rotation. When lots of electrons in a material, like iron, are spinning in the same direction, they create a magnetic field around that material.\\n\\nNow, when you bring two magnets close to each other, their magnetic fields interact. If the magnetic fields are aligned in opposite directions (North to South), they attract each other. But if the magnetic fields are aligned in the same direction (North to North or South to South), they repel each other.\\n\\nIt\\'s also important to note that magnets can magnetize other materials. For example, if you bring a piece of iron close to a magnet, the iron can become temporarily magnetized and attract other pieces of iron. But once you remove the magnet, the iron loses its magnetism.\\n\\nSo, to sum it up, magnets work because of magnetism, which is a force that attracts or repels certain materials. They have two poles, North and South, and opposite poles attract while like poles repel. This is all due to the alignment of tiny spinning electrons inside the magnet.'"
      ]
     },
     "execution_count": 20,
     "metadata": {},
     "output_type": "execute_result"
    }
   ],
   "source": [
    "chain.run(\"How do the magnet works?\")"
   ]
  },
  {
   "cell_type": "code",
   "execution_count": 21,
   "id": "a8e94af8",
   "metadata": {},
   "outputs": [
    {
     "name": "stdout",
     "output_type": "stream",
     "text": [
      "\n",
      "\n",
      "\u001b[1m> Entering new MultiPromptChain chain...\u001b[0m\n",
      "advanced physics: {'input': 'Feynman Diagrams'}\n",
      "\u001b[1m> Finished chain.\u001b[0m\n"
     ]
    },
    {
     "data": {
      "text/plain": [
       "'Feynman diagrams are graphical representations used in particle physics to visualize and calculate the interactions between elementary particles. They were developed by physicist Richard Feynman as a tool for simplifying complex calculations involving quantum field theory.\\n\\nIn Feynman diagrams, particles are represented by lines, and interactions between particles are represented by vertices. The lines can be either straight or wavy, depending on the type of particle being depicted. For example, straight lines are used for fermions such as electrons, while wavy lines represent bosons like photons.\\n\\nThe vertices in Feynman diagrams indicate the point where particle interactions occur. Each vertex represents a specific interaction between particles, which can be described by a mathematical term known as a coupling constant. The coupling constant determines the strength of the interaction and is usually denoted by a letter, such as \"g\" for the strong nuclear force or \"e\" for the electromagnetic force.\\n\\nFeynman diagrams also include arrows on the lines to indicate the direction of particle propagation. These arrows show the flow of time, with particles moving forward in time from left to right in the diagram. Antiparticles, which have opposite charge and other quantum numbers, are represented by lines with arrows pointing in the opposite direction.\\n\\nBy using Feynman diagrams, physicists can visualize complex particle interactions and calculate the probability amplitudes associated with these interactions. These probability amplitudes are then used to determine the likelihood of specific particle interactions occurring in a given physical process.\\n\\nOverall, Feynman diagrams provide an intuitive and powerful tool for understanding and calculating the behavior of elementary particles in the framework of quantum field theory. They have greatly contributed to our understanding of fundamental interactions and have become a fundamental tool in theoretical physics.'"
      ]
     },
     "execution_count": 21,
     "metadata": {},
     "output_type": "execute_result"
    }
   ],
   "source": [
    "chain.run(\"Please explain Feynman Diagrams\")"
   ]
  },
  {
   "cell_type": "code",
   "execution_count": null,
   "id": "ea5f6d3a",
   "metadata": {},
   "outputs": [],
   "source": []
  }
 ],
 "metadata": {
  "kernelspec": {
   "display_name": "Python 3 (ipykernel)",
   "language": "python",
   "name": "python3"
  },
  "language_info": {
   "codemirror_mode": {
    "name": "ipython",
    "version": 3
   },
   "file_extension": ".py",
   "mimetype": "text/x-python",
   "name": "python",
   "nbconvert_exporter": "python",
   "pygments_lexer": "ipython3",
   "version": "3.10.12"
  }
 },
 "nbformat": 4,
 "nbformat_minor": 5
}
