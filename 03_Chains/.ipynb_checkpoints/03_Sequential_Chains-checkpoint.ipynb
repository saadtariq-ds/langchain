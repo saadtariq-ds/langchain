{
 "cells": [
  {
   "cell_type": "markdown",
   "id": "72fd6916",
   "metadata": {},
   "source": [
    "# LangChain - Sequential Chains"
   ]
  },
  {
   "cell_type": "code",
   "execution_count": 1,
   "id": "75e5e2d4",
   "metadata": {},
   "outputs": [],
   "source": [
    "from langchain.chat_models import ChatOpenAI\n",
    "from langchain.prompts.chat import ChatPromptTemplate, HumanMessagePromptTemplate\n",
    "from langchain.chains import LLMChain, SimpleSequentialChain, SequentialChain"
   ]
  },
  {
   "cell_type": "code",
   "execution_count": 2,
   "id": "b66a3897",
   "metadata": {},
   "outputs": [],
   "source": [
    "api_key = open('../../api_key.txt').read()"
   ]
  },
  {
   "cell_type": "code",
   "execution_count": 3,
   "id": "11e6e031",
   "metadata": {},
   "outputs": [],
   "source": [
    "model = ChatOpenAI(openai_api_key=api_key)"
   ]
  },
  {
   "cell_type": "markdown",
   "id": "8df8e5ba",
   "metadata": {},
   "source": [
    "## Use Case\n",
    "\n",
    "Working for a company that issues employee performance reviews\n",
    "\n",
    "Employee Performance Review (Initial Input) ---> LLMChain (Summary) ---> LLMChain (List of Weakness) ---> LLM Chain (Improvement Plan)"
   ]
  },
  {
   "cell_type": "code",
   "execution_count": 4,
   "id": "b4945a88",
   "metadata": {},
   "outputs": [],
   "source": [
    "template1 = \"Give a summary of this employee's performance review\\n{review}\"\n",
    "prompt1 = ChatPromptTemplate.from_template(template1)\n",
    "chain1 = LLMChain(llm=model, prompt=prompt1, output_key='review_summary')"
   ]
  },
  {
   "cell_type": "code",
   "execution_count": 5,
   "id": "88379cfb",
   "metadata": {},
   "outputs": [],
   "source": [
    "template2 = \"Identify key employee weakness in this review summary:\\n{review_summary}\"\n",
    "prompt2 = ChatPromptTemplate.from_template(template2)\n",
    "chain2 = LLMChain(llm=model, prompt=prompt2, output_key='weaknesses')"
   ]
  },
  {
   "cell_type": "code",
   "execution_count": 6,
   "id": "83299f1f",
   "metadata": {},
   "outputs": [],
   "source": [
    "template3 = \"Create a personalized plan to help address and fix these weakness:\\n{weaknesses}\"\n",
    "prompt3 = ChatPromptTemplate.from_template(template3)\n",
    "chain3 = LLMChain(llm=model, prompt=prompt3, output_key='final_plan')"
   ]
  },
  {
   "cell_type": "code",
   "execution_count": 7,
   "id": "1e7182c4",
   "metadata": {},
   "outputs": [],
   "source": [
    "employee_review = '''\n",
    "Employee Information:\n",
    "Name: Joe Schmo\n",
    "Position: Software Engineer\n",
    "Date of Review: July 14, 2023\n",
    "\n",
    "Strengths:\n",
    "Joe is a highly skilled software engineer with a deep understanding of programming languages, algorithms, and software development best practices. His technical expertise shines through in his ability to efficiently solve complex problems and deliver high-quality code.\n",
    "\n",
    "One of Joe's greatest strengths is his collaborative nature. He actively engages with cross-functional teams, contributing valuable insights and seeking input from others. His open-mindedness and willingness to learn from colleagues make him a true team player.\n",
    "\n",
    "Joe consistently demonstrates initiative and self-motivation. He takes the lead in seeking out new projects and challenges, and his proactive attitude has led to significant improvements in existing processes and systems. His dedication to self-improvement and growth is commendable.\n",
    "\n",
    "Another notable strength is Joe's adaptability. He has shown great flexibility in handling changing project requirements and learning new technologies. This adaptability allows him to seamlessly transition between different projects and tasks, making him a valuable asset to the team.\n",
    "\n",
    "Joe's problem-solving skills are exceptional. He approaches issues with a logical mindset and consistently finds effective solutions, often thinking outside the box. His ability to break down complex problems into manageable parts is key to his success in resolving issues efficiently.\n",
    "\n",
    "Weaknesses:\n",
    "While Joe possesses numerous strengths, there are a few areas where he could benefit from improvement. One such area is time management. Occasionally, Joe struggles with effectively managing his time, resulting in missed deadlines or the need for additional support to complete tasks on time. Developing better prioritization and time management techniques would greatly enhance his efficiency.\n",
    "\n",
    "Another area for improvement is Joe's written communication skills. While he communicates well verbally, there have been instances where his written documentation lacked clarity, leading to confusion among team members. Focusing on enhancing his written communication abilities will help him effectively convey ideas and instructions.\n",
    "\n",
    "Additionally, Joe tends to take on too many responsibilities and hesitates to delegate tasks to others. This can result in an excessive workload and potential burnout. Encouraging him to delegate tasks appropriately will not only alleviate his own workload but also foster a more balanced and productive team environment.\n",
    "'''"
   ]
  },
  {
   "cell_type": "code",
   "execution_count": 8,
   "id": "876e40f8",
   "metadata": {},
   "outputs": [],
   "source": [
    "sequential_chain = SequentialChain(\n",
    "    chains=[chain1, chain2, chain3],\n",
    "    input_variables=['review'],\n",
    "    output_variables=['review_summary','weaknesses','final_plan'],\n",
    "    verbose=True)"
   ]
  },
  {
   "cell_type": "code",
   "execution_count": 9,
   "id": "7b75c406",
   "metadata": {},
   "outputs": [
    {
     "name": "stdout",
     "output_type": "stream",
     "text": [
      "\n",
      "\n",
      "\u001b[1m> Entering new SequentialChain chain...\u001b[0m\n",
      "\n",
      "\u001b[1m> Finished chain.\u001b[0m\n"
     ]
    }
   ],
   "source": [
    "results = sequential_chain(employee_review)"
   ]
  },
  {
   "cell_type": "code",
   "execution_count": 10,
   "id": "d7a5719f",
   "metadata": {},
   "outputs": [
    {
     "data": {
      "text/plain": [
       "{'review': \"\\nEmployee Information:\\nName: Joe Schmo\\nPosition: Software Engineer\\nDate of Review: July 14, 2023\\n\\nStrengths:\\nJoe is a highly skilled software engineer with a deep understanding of programming languages, algorithms, and software development best practices. His technical expertise shines through in his ability to efficiently solve complex problems and deliver high-quality code.\\n\\nOne of Joe's greatest strengths is his collaborative nature. He actively engages with cross-functional teams, contributing valuable insights and seeking input from others. His open-mindedness and willingness to learn from colleagues make him a true team player.\\n\\nJoe consistently demonstrates initiative and self-motivation. He takes the lead in seeking out new projects and challenges, and his proactive attitude has led to significant improvements in existing processes and systems. His dedication to self-improvement and growth is commendable.\\n\\nAnother notable strength is Joe's adaptability. He has shown great flexibility in handling changing project requirements and learning new technologies. This adaptability allows him to seamlessly transition between different projects and tasks, making him a valuable asset to the team.\\n\\nJoe's problem-solving skills are exceptional. He approaches issues with a logical mindset and consistently finds effective solutions, often thinking outside the box. His ability to break down complex problems into manageable parts is key to his success in resolving issues efficiently.\\n\\nWeaknesses:\\nWhile Joe possesses numerous strengths, there are a few areas where he could benefit from improvement. One such area is time management. Occasionally, Joe struggles with effectively managing his time, resulting in missed deadlines or the need for additional support to complete tasks on time. Developing better prioritization and time management techniques would greatly enhance his efficiency.\\n\\nAnother area for improvement is Joe's written communication skills. While he communicates well verbally, there have been instances where his written documentation lacked clarity, leading to confusion among team members. Focusing on enhancing his written communication abilities will help him effectively convey ideas and instructions.\\n\\nAdditionally, Joe tends to take on too many responsibilities and hesitates to delegate tasks to others. This can result in an excessive workload and potential burnout. Encouraging him to delegate tasks appropriately will not only alleviate his own workload but also foster a more balanced and productive team environment.\\n\",\n",
       " 'review_summary': \"Overall, Joe's performance as a software engineer is highly commendable. He excels in technical skills, collaboration, initiative, adaptability, and problem-solving. However, there are areas for improvement, such as time management, written communication, and delegation. Addressing these weaknesses will enhance Joe's efficiency and effectiveness in his role.\",\n",
       " 'weaknesses': 'The key employee weakness in this review summary is time management, written communication, and delegation.',\n",
       " 'final_plan': \"Personalized Plan to Address and Fix Key Employee Weaknesses:\\n\\n1. Time Management:\\n- Conduct a time audit: Have the employee track their time for a week to identify time-consuming activities, distractions, and areas where time is being wasted.\\n- Prioritize tasks: Teach the employee to prioritize their tasks based on urgency and importance using techniques like the Eisenhower Matrix or ABC analysis.\\n- Set clear goals and deadlines: Define specific, measurable, attainable, relevant, and time-bound (SMART) goals for the employee and establish realistic deadlines for each task.\\n- Provide time management training: Offer workshops or training sessions on effective time management techniques, tools, and strategies that can help the employee improve their productivity.\\n\\n2. Written Communication:\\n- Assess writing skills: Evaluate the employee's current writing skills through written assignments or sample documents. Identify areas that need improvement, such as grammar, clarity, or structure.\\n- Provide writing resources: Offer access to writing guides, handbooks, and online resources that can help the employee enhance their written communication skills.\\n- Encourage practice and feedback: Assign writing tasks regularly and provide constructive feedback to help the employee improve their writing style, grammar, and overall clarity.\\n- Mentorship or coaching: Pair the employee with a mentor or coach who excels in written communication. This mentor can provide guidance, review drafts, and offer tips for improvement.\\n\\n3. Delegation:\\n- Assess workload: Analyze the employee's current workload and identify tasks that can be delegated to others without compromising quality or efficiency.\\n- Develop delegation skills: Provide training on delegation techniques, including how to identify suitable tasks for delegation, how to communicate expectations, and how to provide necessary resources and support to the person assigned the task.\\n- Encourage trust and confidence: Help the employee build trust in their team members' abilities and develop confidence in delegating tasks. Emphasize the benefits of delegation, such as increased productivity and skill development for team members.\\n- Monitor progress and provide feedback: Regularly check in with the employee to evaluate their delegation efforts. Offer constructive feedback, celebrate successes, and address any challenges they may face during the process.\\n\\n4. Ongoing Support:\\n- Regular check-ins: Schedule frequent one-on-one meetings to discuss progress, challenges, and provide guidance to the employee. Use these opportunities to address any questions or concerns they may have.\\n- Encourage self-reflection: Encourage the employee to reflect on their own time management, written communication, and delegation skills regularly. This self-assessment will help them identify areas for improvement and continue their professional development.\\n- Recognize and reward growth: Acknowledge and reward the employee's efforts and improvements in time management, written communication, and delegation. Positive reinforcement will motivate them to continue developing these skills.\\n\\nRemember, personalized plans should consider the employee's individual strengths, learning style, and preferences. Adapt the above suggestions to best suit the employee's needs and provide ongoing support to facilitate their growth and development.\"}"
      ]
     },
     "execution_count": 10,
     "metadata": {},
     "output_type": "execute_result"
    }
   ],
   "source": [
    "results"
   ]
  },
  {
   "cell_type": "code",
   "execution_count": 11,
   "id": "ee3b74cb",
   "metadata": {},
   "outputs": [
    {
     "name": "stdout",
     "output_type": "stream",
     "text": [
      "Personalized Plan to Address and Fix Key Employee Weaknesses:\n",
      "\n",
      "1. Time Management:\n",
      "- Conduct a time audit: Have the employee track their time for a week to identify time-consuming activities, distractions, and areas where time is being wasted.\n",
      "- Prioritize tasks: Teach the employee to prioritize their tasks based on urgency and importance using techniques like the Eisenhower Matrix or ABC analysis.\n",
      "- Set clear goals and deadlines: Define specific, measurable, attainable, relevant, and time-bound (SMART) goals for the employee and establish realistic deadlines for each task.\n",
      "- Provide time management training: Offer workshops or training sessions on effective time management techniques, tools, and strategies that can help the employee improve their productivity.\n",
      "\n",
      "2. Written Communication:\n",
      "- Assess writing skills: Evaluate the employee's current writing skills through written assignments or sample documents. Identify areas that need improvement, such as grammar, clarity, or structure.\n",
      "- Provide writing resources: Offer access to writing guides, handbooks, and online resources that can help the employee enhance their written communication skills.\n",
      "- Encourage practice and feedback: Assign writing tasks regularly and provide constructive feedback to help the employee improve their writing style, grammar, and overall clarity.\n",
      "- Mentorship or coaching: Pair the employee with a mentor or coach who excels in written communication. This mentor can provide guidance, review drafts, and offer tips for improvement.\n",
      "\n",
      "3. Delegation:\n",
      "- Assess workload: Analyze the employee's current workload and identify tasks that can be delegated to others without compromising quality or efficiency.\n",
      "- Develop delegation skills: Provide training on delegation techniques, including how to identify suitable tasks for delegation, how to communicate expectations, and how to provide necessary resources and support to the person assigned the task.\n",
      "- Encourage trust and confidence: Help the employee build trust in their team members' abilities and develop confidence in delegating tasks. Emphasize the benefits of delegation, such as increased productivity and skill development for team members.\n",
      "- Monitor progress and provide feedback: Regularly check in with the employee to evaluate their delegation efforts. Offer constructive feedback, celebrate successes, and address any challenges they may face during the process.\n",
      "\n",
      "4. Ongoing Support:\n",
      "- Regular check-ins: Schedule frequent one-on-one meetings to discuss progress, challenges, and provide guidance to the employee. Use these opportunities to address any questions or concerns they may have.\n",
      "- Encourage self-reflection: Encourage the employee to reflect on their own time management, written communication, and delegation skills regularly. This self-assessment will help them identify areas for improvement and continue their professional development.\n",
      "- Recognize and reward growth: Acknowledge and reward the employee's efforts and improvements in time management, written communication, and delegation. Positive reinforcement will motivate them to continue developing these skills.\n",
      "\n",
      "Remember, personalized plans should consider the employee's individual strengths, learning style, and preferences. Adapt the above suggestions to best suit the employee's needs and provide ongoing support to facilitate their growth and development.\n"
     ]
    }
   ],
   "source": [
    "print(results['final_plan'])"
   ]
  },
  {
   "cell_type": "code",
   "execution_count": null,
   "id": "dfcb06f1",
   "metadata": {},
   "outputs": [],
   "source": []
  }
 ],
 "metadata": {
  "kernelspec": {
   "display_name": "Python 3 (ipykernel)",
   "language": "python",
   "name": "python3"
  },
  "language_info": {
   "codemirror_mode": {
    "name": "ipython",
    "version": 3
   },
   "file_extension": ".py",
   "mimetype": "text/x-python",
   "name": "python",
   "nbconvert_exporter": "python",
   "pygments_lexer": "ipython3",
   "version": "3.8.10"
  }
 },
 "nbformat": 4,
 "nbformat_minor": 5
}
