{
 "cells": [
  {
   "cell_type": "markdown",
   "id": "3119db8d",
   "metadata": {},
   "source": [
    "# LangChain - Simple Sequential Chains"
   ]
  },
  {
   "cell_type": "code",
   "execution_count": 1,
   "id": "0c584703",
   "metadata": {},
   "outputs": [],
   "source": [
    "from langchain.chat_models import ChatOpenAI\n",
    "from langchain.prompts.chat import ChatPromptTemplate, HumanMessagePromptTemplate"
   ]
  },
  {
   "cell_type": "code",
   "execution_count": 2,
   "id": "54e1ae03",
   "metadata": {},
   "outputs": [],
   "source": [
    "from langchain.chains import LLMChain, SimpleSequentialChain"
   ]
  },
  {
   "cell_type": "code",
   "execution_count": 3,
   "id": "3f8f247a",
   "metadata": {},
   "outputs": [],
   "source": [
    "api_key = open('../../api_key.txt').read()\n",
    "model = ChatOpenAI(openai_api_key=api_key)"
   ]
  },
  {
   "cell_type": "markdown",
   "id": "49416add",
   "metadata": {},
   "source": [
    "## Objective\n",
    "\n",
    "Topic Blog Post --->  [ Outline ---> Create Blog Post from Outline ] ---> Blog Post Text"
   ]
  },
  {
   "cell_type": "code",
   "execution_count": 4,
   "id": "3f743cc0",
   "metadata": {},
   "outputs": [],
   "source": [
    "template = \"Give me a simple bullet points outline for a blog post on {topic}\"\n",
    "first_prompt = ChatPromptTemplate.from_template(template)\n",
    "chain_one = LLMChain(llm=model, prompt=first_prompt)"
   ]
  },
  {
   "cell_type": "code",
   "execution_count": 5,
   "id": "b23edcc6",
   "metadata": {},
   "outputs": [],
   "source": [
    "template2 = \"Write a blog post using this outline {outline}\"\n",
    "second_prompt = ChatPromptTemplate.from_template(template2)\n",
    "chain_two = LLMChain(llm=model, prompt=second_prompt)"
   ]
  },
  {
   "cell_type": "code",
   "execution_count": 6,
   "id": "cb71f494",
   "metadata": {},
   "outputs": [],
   "source": [
    "full_chain = SimpleSequentialChain(chains=[chain_one, chain_two], verbose=True)"
   ]
  },
  {
   "cell_type": "code",
   "execution_count": 7,
   "id": "f7e5deb8",
   "metadata": {},
   "outputs": [
    {
     "name": "stdout",
     "output_type": "stream",
     "text": [
      "\n",
      "\n",
      "\u001b[1m> Entering new SimpleSequentialChain chain...\u001b[0m\n",
      "\u001b[36;1m\u001b[1;3mI. Introduction\n",
      "   A. Briefly introduce cheesecake as a popular dessert\n",
      "   B. Mention its rich and creamy texture, and various flavors\n",
      "   C. Highlight the versatility of cheesecake as a dessert option\n",
      "\n",
      "II. History of Cheesecake\n",
      "   A. Discuss the origins of cheesecake in ancient Greece\n",
      "   B. Mention the different variations in different cultures throughout history\n",
      "   C. Highlight how it has evolved into a beloved dessert worldwide\n",
      "\n",
      "III. Popular Cheesecake Varieties\n",
      "   A. Classic New York-style cheesecake\n",
      "   B. Chocolate cheesecake\n",
      "   C. Fruit-flavored cheesecakes (e.g., strawberry, raspberry)\n",
      "   D. Specialty flavors and toppings (e.g., caramel, Oreo, pumpkin)\n",
      "\n",
      "IV. Tips for Baking the Perfect Cheesecake\n",
      "   A. Mention the importance of using quality ingredients\n",
      "   B. Discuss the significance of a water bath to prevent cracking\n",
      "   C. Highlight the need for proper chilling and setting time\n",
      "   D. Share tips to achieve a smooth and creamy texture\n",
      "\n",
      "V. Serving and Enjoying Cheesecake\n",
      "   A. Suggest different serving options (e.g., plain, with fruit, with whipped cream)\n",
      "   B. Discuss pairing cheesecake with beverages (e.g., coffee, tea, wine)\n",
      "   C. Share tips for storing and preserving leftover cheesecake\n",
      "\n",
      "VI. Healthier Alternatives and Allergen-friendly Options\n",
      "   A. Mention some alternatives for a lighter cheesecake (e.g., Greek yogurt, low-fat cream cheese)\n",
      "   B. Discuss gluten-free or dairy-free cheesecake options\n",
      "\n",
      "VII. Cheesecake Recipes to Try\n",
      "   A. Provide a few simple and beginner-friendly recipes\n",
      "   B. Include a variety of flavors and options to cater to different preferences\n",
      "\n",
      "VIII. Conclusion\n",
      "   A. Recap the highlights of cheesecake as a beloved dessert\n",
      "   B. Encourage readers to explore different flavors and variations\n",
      "   C. Mention the joy of sharing cheesecake with loved ones\n",
      "\n",
      "Note: The outline provided is a general structure for a blog post on cheesecake. Depending on the desired length and specific content, each section can be expanded or modified accordingly.\u001b[0m\n",
      "\u001b[33;1m\u001b[1;3mTitle: Exploring the Delightful World of Cheesecake: A Guide to Indulgence\n",
      "\n",
      "Introduction:\n",
      "Cheesecake, with its rich and creamy texture, has long been a favorite dessert among many. Its versatility allows for an array of flavors, making it an irresistible treat for any sweet tooth. In this blog post, we will delve into the history of cheesecake, explore popular varieties, provide tips for baking the perfect cheesecake, discuss serving options, and even share some healthier alternatives and allergen-friendly options. So, grab a fork and let's dive into the delectable world of cheesecake!\n",
      "\n",
      "History of Cheesecake:\n",
      "Cheesecake's origins can be traced back to ancient Greece, where it was served to athletes during the first Olympic Games. Throughout history, different cultures have added their own twists to this delightful dessert, resulting in a myriad of variations. From the Romans' use of honey to the introduction of cream cheese in America, cheesecake has evolved into a beloved dessert enjoyed worldwide.\n",
      "\n",
      "Popular Cheesecake Varieties:\n",
      "When it comes to cheesecake, there is something for everyone. The classic New York-style cheesecake boasts a dense and velvety texture, while chocolate lovers can indulge in a sinfully rich chocolate cheesecake. For those seeking a fruity twist, flavors like strawberry and raspberry offer a refreshing option. Additionally, specialty flavors and toppings such as caramel, Oreo, and pumpkin provide a unique and indulgent experience.\n",
      "\n",
      "Tips for Baking the Perfect Cheesecake:\n",
      "Creating the perfect cheesecake requires attention to detail. Using high-quality ingredients is essential for achieving a smooth and creamy texture. To prevent cracking, a water bath is crucial during the baking process. Proper chilling and setting time ensures the cheesecake sets correctly. Additionally, incorporating techniques like avoiding overmixing and using a springform pan can contribute to a flawless result.\n",
      "\n",
      "Serving and Enjoying Cheesecake:\n",
      "The joy of cheesecake extends beyond the baking process. When it comes to serving, the possibilities are endless. Whether you prefer a plain slice, garnished with fresh fruits, or topped with a dollop of whipped cream, cheesecake can be customized to suit your taste. Pairing it with beverages like coffee, tea, or even a glass of wine can elevate the experience. With regards to storage, we provide tips on how to properly store and preserve leftover cheesecake for future enjoyment.\n",
      "\n",
      "Healthier Alternatives and Allergen-friendly Options:\n",
      "For those seeking a lighter option, there are alternatives available. Greek yogurt or low-fat cream cheese can be used to reduce the calorie content while maintaining the lusciousness of traditional cheesecake. Moreover, gluten-free or dairy-free options cater to individuals with specific dietary restrictions, ensuring that everyone can indulge in this delightful dessert.\n",
      "\n",
      "Cheesecake Recipes to Try:\n",
      "To get you started on your cheesecake journey, we've included a few simple and beginner-friendly recipes. From the classic New York-style cheesecake to unique flavor combinations, these recipes are sure to satisfy any craving. Feel free to experiment and adapt them to your own preferences.\n",
      "\n",
      "Conclusion:\n",
      "Cheesecake, with its rich history and endless variations, continues to captivate dessert enthusiasts around the world. From its origins in ancient Greece to the decadent creations we enjoy today, cheesecake has stood the test of time as a beloved treat. So, next time you're looking for a dessert that is both satisfying and versatile, don't hesitate to explore the delightful world of cheesecake. And remember, sharing a slice with loved ones only adds to the joy!\u001b[0m\n",
      "\n",
      "\u001b[1m> Finished chain.\u001b[0m\n"
     ]
    }
   ],
   "source": [
    "result = full_chain.run('Cheesecake')"
   ]
  },
  {
   "cell_type": "code",
   "execution_count": 8,
   "id": "5782bc86",
   "metadata": {},
   "outputs": [
    {
     "data": {
      "text/plain": [
       "str"
      ]
     },
     "execution_count": 8,
     "metadata": {},
     "output_type": "execute_result"
    }
   ],
   "source": [
    "type(result)"
   ]
  },
  {
   "cell_type": "code",
   "execution_count": 9,
   "id": "fd1ca07c",
   "metadata": {},
   "outputs": [
    {
     "name": "stdout",
     "output_type": "stream",
     "text": [
      "Title: Exploring the Delightful World of Cheesecake: A Guide to Indulgence\n",
      "\n",
      "Introduction:\n",
      "Cheesecake, with its rich and creamy texture, has long been a favorite dessert among many. Its versatility allows for an array of flavors, making it an irresistible treat for any sweet tooth. In this blog post, we will delve into the history of cheesecake, explore popular varieties, provide tips for baking the perfect cheesecake, discuss serving options, and even share some healthier alternatives and allergen-friendly options. So, grab a fork and let's dive into the delectable world of cheesecake!\n",
      "\n",
      "History of Cheesecake:\n",
      "Cheesecake's origins can be traced back to ancient Greece, where it was served to athletes during the first Olympic Games. Throughout history, different cultures have added their own twists to this delightful dessert, resulting in a myriad of variations. From the Romans' use of honey to the introduction of cream cheese in America, cheesecake has evolved into a beloved dessert enjoyed worldwide.\n",
      "\n",
      "Popular Cheesecake Varieties:\n",
      "When it comes to cheesecake, there is something for everyone. The classic New York-style cheesecake boasts a dense and velvety texture, while chocolate lovers can indulge in a sinfully rich chocolate cheesecake. For those seeking a fruity twist, flavors like strawberry and raspberry offer a refreshing option. Additionally, specialty flavors and toppings such as caramel, Oreo, and pumpkin provide a unique and indulgent experience.\n",
      "\n",
      "Tips for Baking the Perfect Cheesecake:\n",
      "Creating the perfect cheesecake requires attention to detail. Using high-quality ingredients is essential for achieving a smooth and creamy texture. To prevent cracking, a water bath is crucial during the baking process. Proper chilling and setting time ensures the cheesecake sets correctly. Additionally, incorporating techniques like avoiding overmixing and using a springform pan can contribute to a flawless result.\n",
      "\n",
      "Serving and Enjoying Cheesecake:\n",
      "The joy of cheesecake extends beyond the baking process. When it comes to serving, the possibilities are endless. Whether you prefer a plain slice, garnished with fresh fruits, or topped with a dollop of whipped cream, cheesecake can be customized to suit your taste. Pairing it with beverages like coffee, tea, or even a glass of wine can elevate the experience. With regards to storage, we provide tips on how to properly store and preserve leftover cheesecake for future enjoyment.\n",
      "\n",
      "Healthier Alternatives and Allergen-friendly Options:\n",
      "For those seeking a lighter option, there are alternatives available. Greek yogurt or low-fat cream cheese can be used to reduce the calorie content while maintaining the lusciousness of traditional cheesecake. Moreover, gluten-free or dairy-free options cater to individuals with specific dietary restrictions, ensuring that everyone can indulge in this delightful dessert.\n",
      "\n",
      "Cheesecake Recipes to Try:\n",
      "To get you started on your cheesecake journey, we've included a few simple and beginner-friendly recipes. From the classic New York-style cheesecake to unique flavor combinations, these recipes are sure to satisfy any craving. Feel free to experiment and adapt them to your own preferences.\n",
      "\n",
      "Conclusion:\n",
      "Cheesecake, with its rich history and endless variations, continues to captivate dessert enthusiasts around the world. From its origins in ancient Greece to the decadent creations we enjoy today, cheesecake has stood the test of time as a beloved treat. So, next time you're looking for a dessert that is both satisfying and versatile, don't hesitate to explore the delightful world of cheesecake. And remember, sharing a slice with loved ones only adds to the joy!\n"
     ]
    }
   ],
   "source": [
    "print(result)"
   ]
  },
  {
   "cell_type": "code",
   "execution_count": null,
   "id": "c0416aee",
   "metadata": {},
   "outputs": [],
   "source": []
  }
 ],
 "metadata": {
  "kernelspec": {
   "display_name": "Python 3 (ipykernel)",
   "language": "python",
   "name": "python3"
  },
  "language_info": {
   "codemirror_mode": {
    "name": "ipython",
    "version": 3
   },
   "file_extension": ".py",
   "mimetype": "text/x-python",
   "name": "python",
   "nbconvert_exporter": "python",
   "pygments_lexer": "ipython3",
   "version": "3.10.12"
  }
 },
 "nbformat": 4,
 "nbformat_minor": 5
}
