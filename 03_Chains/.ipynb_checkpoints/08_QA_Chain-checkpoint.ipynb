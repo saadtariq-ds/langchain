{
 "cells": [
  {
   "cell_type": "markdown",
   "id": "bb0ff942",
   "metadata": {},
   "source": [
    "# LangChain - QA Chain"
   ]
  },
  {
   "cell_type": "code",
   "execution_count": 1,
   "id": "d9a567dc",
   "metadata": {},
   "outputs": [],
   "source": [
    "from langchain.embeddings import OpenAIEmbeddings\n",
    "from langchain.vectorstores import Chroma\n",
    "from langchain.chat_models import ChatOpenAI"
   ]
  },
  {
   "cell_type": "code",
   "execution_count": 2,
   "id": "bcc3ee45",
   "metadata": {},
   "outputs": [],
   "source": [
    "api_key = open('../../api_key.txt').read()"
   ]
  },
  {
   "cell_type": "code",
   "execution_count": 3,
   "id": "d7a09b40",
   "metadata": {},
   "outputs": [],
   "source": [
    "model = ChatOpenAI(openai_api_key=api_key, temperature=0)"
   ]
  },
  {
   "cell_type": "code",
   "execution_count": 4,
   "id": "5a075b21",
   "metadata": {},
   "outputs": [],
   "source": [
    "embedding_function = OpenAIEmbeddings(openai_api_key=api_key)"
   ]
  },
  {
   "cell_type": "code",
   "execution_count": 5,
   "id": "49504734",
   "metadata": {},
   "outputs": [],
   "source": [
    "db_connection = Chroma(persist_directory='../02_Data_Connections./US_Consitution/',\n",
    "                      embedding_function=embedding_function)"
   ]
  },
  {
   "cell_type": "markdown",
   "id": "8c4bcd73",
   "metadata": {},
   "source": [
    "## QA Chain"
   ]
  },
  {
   "cell_type": "code",
   "execution_count": 6,
   "id": "2a9cd925",
   "metadata": {},
   "outputs": [],
   "source": [
    "from langchain.chains.question_answering import load_qa_chain"
   ]
  },
  {
   "cell_type": "code",
   "execution_count": 7,
   "id": "43becfc7",
   "metadata": {},
   "outputs": [],
   "source": [
    "chain = load_qa_chain(llm=model, chain_type='stuff') # Stuff -> Inserting context into a prompt call"
   ]
  },
  {
   "cell_type": "code",
   "execution_count": 8,
   "id": "df98fb56",
   "metadata": {},
   "outputs": [],
   "source": [
    "question = \"What is the 13th amendment?\""
   ]
  },
  {
   "cell_type": "code",
   "execution_count": 9,
   "id": "65ca637a",
   "metadata": {},
   "outputs": [],
   "source": [
    "docs = db_connection.similarity_search(question)"
   ]
  },
  {
   "cell_type": "code",
   "execution_count": 10,
   "id": "b2b0065e",
   "metadata": {},
   "outputs": [],
   "source": [
    "result = chain.run(input_documents=docs, question=question)"
   ]
  },
  {
   "cell_type": "code",
   "execution_count": 11,
   "id": "c44355f3",
   "metadata": {},
   "outputs": [
    {
     "data": {
      "text/plain": [
       "'The 13th Amendment to the United States Constitution was ratified in 1865 and abolished slavery and involuntary servitude, except as punishment for a crime.'"
      ]
     },
     "execution_count": 11,
     "metadata": {},
     "output_type": "execute_result"
    }
   ],
   "source": [
    "result"
   ]
  },
  {
   "cell_type": "code",
   "execution_count": null,
   "id": "f332c088",
   "metadata": {},
   "outputs": [],
   "source": []
  }
 ],
 "metadata": {
  "kernelspec": {
   "display_name": "Python 3 (ipykernel)",
   "language": "python",
   "name": "python3"
  },
  "language_info": {
   "codemirror_mode": {
    "name": "ipython",
    "version": 3
   },
   "file_extension": ".py",
   "mimetype": "text/x-python",
   "name": "python",
   "nbconvert_exporter": "python",
   "pygments_lexer": "ipython3",
   "version": "3.10.12"
  }
 },
 "nbformat": 4,
 "nbformat_minor": 5
}
