{
 "cells": [
  {
   "cell_type": "markdown",
   "id": "500c5db4",
   "metadata": {},
   "source": [
    "# LangChain - Model Input Output Exercise"
   ]
  },
  {
   "cell_type": "markdown",
   "id": "6f36f621-d2cb-43e7-89ad-41691ab266c1",
   "metadata": {},
   "source": [
    "## History Quiz\n",
    "\n",
    "Our main goal is to use LangChain and Python to create a very simple class with a few methods for:\n",
    "* Writing a historical question that has a date as the correct answer\n",
    "* Getting the correct answer from LLM\n",
    "* Getting a Human user's best guess at at correct answer\n",
    "* Checking/reporting the difference between the correct answer and the user answer"
   ]
  },
  {
   "cell_type": "code",
   "execution_count": 1,
   "id": "3cde30a6-5b0b-475f-9460-809e174cac97",
   "metadata": {},
   "outputs": [],
   "source": [
    "from langchain.prompts import (\n",
    "    ChatPromptTemplate,\n",
    "    PromptTemplate,\n",
    "    SystemMessagePromptTemplate,\n",
    "    AIMessagePromptTemplate,\n",
    "    HumanMessagePromptTemplate,\n",
    ")\n",
    "from datetime import datetime\n",
    "from langchain.llms import OpenAI\n",
    "from langchain.output_parsers import DatetimeOutputParser\n",
    "from langchain.chat_models import ChatOpenAI"
   ]
  },
  {
   "cell_type": "code",
   "execution_count": 2,
   "id": "ffb476f9",
   "metadata": {},
   "outputs": [],
   "source": [
    "api_key = open('../../api_key.txt').read()"
   ]
  },
  {
   "cell_type": "code",
   "execution_count": 3,
   "id": "fc7022c3",
   "metadata": {},
   "outputs": [],
   "source": [
    "model = ChatOpenAI(openai_api_key=api_key)"
   ]
  },
  {
   "cell_type": "code",
   "execution_count": 4,
   "id": "c1e1fce6-7f28-4d74-a92b-0424c6abcd30",
   "metadata": {},
   "outputs": [],
   "source": [
    "class HistoryQuiz():\n",
    "    \n",
    "    def create_history_question(self,topic):\n",
    "        '''\n",
    "        This method should output a historical question about the topic that has a date as the correct answer.\n",
    "        For example:\n",
    "        \n",
    "            \"On what date did World War 2 end?\"\n",
    "            \n",
    "        '''\n",
    "        system_template = \"You need to write a single quiz question about {topic}. You only return the quiz question\"\n",
    "        system_message_prompt = SystemMessagePromptTemplate.from_template(system_template)\n",
    "        \n",
    "        human_template = \"{question}\"\n",
    "        human_message_prompt = HumanMessagePromptTemplate.from_template(human_template)\n",
    "        \n",
    "        chat_prompt = ChatPromptTemplate.from_messages([system_message_prompt, human_message_prompt])\n",
    "        \n",
    "        request = chat_prompt.format_prompt(\n",
    "            topic=topic,\n",
    "            question=\"Give me a quiz question where the correct answer is a specific date.\"\n",
    "        ).to_messages()\n",
    "        \n",
    "        result = model(request)\n",
    "        return result.content\n",
    "    \n",
    "    def get_AI_answer(self,question):\n",
    "        '''\n",
    "        This method should get the answer to the historical question from the method above.\n",
    "        Note: This answer must be in datetime format! Use DateTimeOutputParser to confirm!\n",
    "        \n",
    "        September 2, 1945 --> datetime.datetime(1945, 9, 2, 0, 0)\n",
    "        '''\n",
    "        output_parser = DatetimeOutputParser()\n",
    "        \n",
    "        system_template = \"You will only answer the question with the date\"\n",
    "        system_message_prompt = SystemMessagePromptTemplate.from_template(system_template)\n",
    "        \n",
    "        human_template = \"Answer the user's question {question}\\n{format_instructions}\"\n",
    "        human_message_prompt = HumanMessagePromptTemplate.from_template(human_template)\n",
    "        \n",
    "        chat_prompt = ChatPromptTemplate.from_messages([system_message_prompt, human_message_prompt])\n",
    "        \n",
    "        request = chat_prompt.format_prompt(\n",
    "            question=question,\n",
    "            format_instructions=output_parser.get_format_instructions()\n",
    "        ).to_messages()\n",
    "        \n",
    "        result = model(request)\n",
    "        correct_datetime = output_parser.parse(result.content)\n",
    "        \n",
    "        return correct_datetime\n",
    "    \n",
    "    def get_user_answer(self,question):\n",
    "        '''\n",
    "        This method should grab a user answer and convert it to datetime. It should collect a Year, Month, and Day.\n",
    "        You can just use input() for this.\n",
    "        '''\n",
    "        print(question)\n",
    "        \n",
    "        year = int(input(\"Enter the year: \"))\n",
    "        month = int(input(\"Enter the month (1-12): \"))\n",
    "        day = int(input(\"Enter the day (1-31): \"))\n",
    "\n",
    "        # Create a datetime object\n",
    "        user_datetime = datetime(year, month, day)\n",
    "\n",
    "        return user_datetime\n",
    "        \n",
    "        \n",
    "    def check_user_answer(self,user_answer,ai_answer):\n",
    "        '''\n",
    "        Should check the user answer against the AI answer and return the difference between them\n",
    "        '''\n",
    "        \n",
    "        difference = user_answer - ai_answer\n",
    "        formatted_difference = str(difference)\n",
    "        \n",
    "        print(f\"The difference between the dates is: {formatted_difference}\")\n",
    "        "
   ]
  },
  {
   "cell_type": "markdown",
   "id": "ff79a31c-3189-48d2-b1af-bf1a9eef9e1c",
   "metadata": {},
   "source": [
    "### Example Usage\n",
    "\n",
    "Feel free to expand or edit this project. To keep things simple we have every method return an object that will then feed into a new method!"
   ]
  },
  {
   "cell_type": "code",
   "execution_count": 5,
   "id": "937e4900-1148-4836-835b-dd2936b8e30e",
   "metadata": {},
   "outputs": [],
   "source": [
    "quiz_bot = HistoryQuiz()"
   ]
  },
  {
   "cell_type": "code",
   "execution_count": 6,
   "id": "5dd56ef3-819d-4996-b9a5-1cfad88e5eed",
   "metadata": {},
   "outputs": [],
   "source": [
    "question = quiz_bot.create_history_question(topic='UEFA Champions League 2015')"
   ]
  },
  {
   "cell_type": "code",
   "execution_count": 7,
   "id": "9eecb542-6018-4526-9f89-24f031468829",
   "metadata": {},
   "outputs": [
    {
     "data": {
      "text/plain": [
       "'On which date did the final match of the UEFA Champions League 2015 take place?'"
      ]
     },
     "execution_count": 7,
     "metadata": {},
     "output_type": "execute_result"
    }
   ],
   "source": [
    "question"
   ]
  },
  {
   "cell_type": "code",
   "execution_count": 8,
   "id": "c86320ce-4497-4eb0-80f5-871736cb51e7",
   "metadata": {},
   "outputs": [],
   "source": [
    "ai_answer = quiz_bot.get_AI_answer(question)"
   ]
  },
  {
   "cell_type": "code",
   "execution_count": 9,
   "id": "4be20b47-8287-4656-8253-1ec1c52fad43",
   "metadata": {},
   "outputs": [
    {
     "data": {
      "text/plain": [
       "datetime.datetime(2015, 6, 6, 19, 45)"
      ]
     },
     "execution_count": 9,
     "metadata": {},
     "output_type": "execute_result"
    }
   ],
   "source": [
    "# Day After Pearl Harbor\n",
    "ai_answer"
   ]
  },
  {
   "cell_type": "code",
   "execution_count": 10,
   "id": "d8537e7e-b955-4ffd-84ba-a26d072b4a05",
   "metadata": {},
   "outputs": [
    {
     "name": "stdout",
     "output_type": "stream",
     "text": [
      "On which date did the final match of the UEFA Champions League 2015 take place?\n",
      "Enter the year: 2015\n",
      "Enter the month (1-12): 6\n",
      "Enter the day (1-31): 6\n"
     ]
    }
   ],
   "source": [
    "user_answer = quiz_bot.get_user_answer(question)"
   ]
  },
  {
   "cell_type": "code",
   "execution_count": 12,
   "id": "e8eb40a9-789e-4666-81a6-a6a783dedaf6",
   "metadata": {},
   "outputs": [
    {
     "data": {
      "text/plain": [
       "datetime.datetime(2015, 6, 6, 0, 0)"
      ]
     },
     "execution_count": 12,
     "metadata": {},
     "output_type": "execute_result"
    }
   ],
   "source": [
    "user_answer"
   ]
  },
  {
   "cell_type": "code",
   "execution_count": 13,
   "id": "e22a7cf0-f199-4ace-a909-c73492e86e47",
   "metadata": {},
   "outputs": [
    {
     "name": "stdout",
     "output_type": "stream",
     "text": [
      "The difference between the dates is: -1 day, 4:15:00\n"
     ]
    }
   ],
   "source": [
    "quiz_bot.check_user_answer(user_answer,ai_answer)"
   ]
  },
  {
   "cell_type": "code",
   "execution_count": null,
   "id": "c04abb9a",
   "metadata": {},
   "outputs": [],
   "source": []
  }
 ],
 "metadata": {
  "kernelspec": {
   "display_name": "Python 3 (ipykernel)",
   "language": "python",
   "name": "python3"
  },
  "language_info": {
   "codemirror_mode": {
    "name": "ipython",
    "version": 3
   },
   "file_extension": ".py",
   "mimetype": "text/x-python",
   "name": "python",
   "nbconvert_exporter": "python",
   "pygments_lexer": "ipython3",
   "version": "3.10.12"
  }
 },
 "nbformat": 4,
 "nbformat_minor": 5
}
