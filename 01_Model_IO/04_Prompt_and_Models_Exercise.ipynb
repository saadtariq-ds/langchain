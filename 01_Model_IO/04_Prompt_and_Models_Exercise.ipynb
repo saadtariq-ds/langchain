{
 "cells": [
  {
   "cell_type": "markdown",
   "id": "52aab68e",
   "metadata": {},
   "source": [
    "# LangChain - Prompt and Models Exercise"
   ]
  },
  {
   "cell_type": "code",
   "execution_count": 1,
   "id": "519a1cbd",
   "metadata": {},
   "outputs": [],
   "source": [
    "from langchain.chat_models import ChatOpenAI\n",
    "from langchain.schema import AIMessage,  HumanMessage, SystemMessage"
   ]
  },
  {
   "cell_type": "code",
   "execution_count": 2,
   "id": "c9a092f4",
   "metadata": {},
   "outputs": [],
   "source": [
    "from langchain.prompts import ChatPromptTemplate, SystemMessagePromptTemplate, HumanMessagePromptTemplate"
   ]
  },
  {
   "cell_type": "code",
   "execution_count": 3,
   "id": "61070211",
   "metadata": {},
   "outputs": [],
   "source": [
    "api_file = open(\"../../api_key.txt\")\n",
    "api_key = api_file.read()"
   ]
  },
  {
   "cell_type": "code",
   "execution_count": 4,
   "id": "68615b36",
   "metadata": {},
   "outputs": [],
   "source": [
    "chat = ChatOpenAI(openai_api_key=api_key)"
   ]
  },
  {
   "cell_type": "code",
   "execution_count": 5,
   "id": "4d507998",
   "metadata": {},
   "outputs": [],
   "source": [
    "def travel_idea(interest, budget):\n",
    "    '''\n",
    "    INPUTS:\n",
    "        interest: A str interest or hobby (e.g., fishing)\n",
    "        budget: A str budget (e.g. $10,000)\n",
    "    '''\n",
    "    \n",
    "    # Define System Template and System Message Prompt\n",
    "    system_template = \"You are an AI travel assistant which will help in planning a customized tour\"\n",
    "    system_message_prompt = SystemMessagePromptTemplate.from_template(system_template)\n",
    "    \n",
    "    # Define Human Template and Human Message Prompt\n",
    "    human_template = \"{interest}, {budget}\"\n",
    "    human_message_prompt = HumanMessagePromptTemplate.from_template(human_template)\n",
    "    \n",
    "    # Define Chat Prompt Template\n",
    "    chat_prompt = ChatPromptTemplate.from_messages([\n",
    "        system_message_prompt,\n",
    "        human_message_prompt\n",
    "    ])\n",
    "    \n",
    "    # Passing Input Variables\n",
    "    prompt = chat_prompt.format_prompt(\n",
    "        interest=interest,\n",
    "        budget=budget).to_messages()\n",
    "    \n",
    "    # Chat Request\n",
    "    result = chat(prompt)\n",
    "    print(result.content)"
   ]
  },
  {
   "cell_type": "code",
   "execution_count": 6,
   "id": "ba5c3539",
   "metadata": {},
   "outputs": [
    {
     "name": "stdout",
     "output_type": "stream",
     "text": [
      "Great! A fishing trip can be a fantastic experience. To plan a customized tour within your budget of $10,000, let's consider a few factors:\n",
      "\n",
      "1. Destination: Where would you like to go fishing? Some popular fishing destinations include Alaska, Florida, Costa Rica, Australia, and Canada. Each location offers different types of fishing experiences, so let me know your preference.\n",
      "\n",
      "2. Duration: How long would you like your fishing trip to be? This will help determine the cost of accommodation, transportation, and other expenses.\n",
      "\n",
      "3. Accommodation: Are you looking for a luxury lodge, a cabin, or a camping experience? The type of accommodation will depend on your budget and preferences.\n",
      "\n",
      "4. Fishing Charter: Hiring a fishing charter is recommended for the best fishing experience. Would you prefer a private charter or join a group charter? The cost will vary based on the type of charter and the duration.\n",
      "\n",
      "5. Equipment: Do you have your own fishing gear, or will you need to rent it? Renting fishing equipment is an additional expense to consider.\n",
      "\n",
      "Once you provide me with more details about your preferences, I can help you create a customized itinerary within your budget.\n"
     ]
    }
   ],
   "source": [
    "travel_idea('fishing', '$10,000')"
   ]
  },
  {
   "cell_type": "code",
   "execution_count": null,
   "id": "be461a81",
   "metadata": {},
   "outputs": [],
   "source": []
  }
 ],
 "metadata": {
  "kernelspec": {
   "display_name": "Python 3 (ipykernel)",
   "language": "python",
   "name": "python3"
  },
  "language_info": {
   "codemirror_mode": {
    "name": "ipython",
    "version": 3
   },
   "file_extension": ".py",
   "mimetype": "text/x-python",
   "name": "python",
   "nbconvert_exporter": "python",
   "pygments_lexer": "ipython3",
   "version": "3.10.12"
  }
 },
 "nbformat": 4,
 "nbformat_minor": 5
}
