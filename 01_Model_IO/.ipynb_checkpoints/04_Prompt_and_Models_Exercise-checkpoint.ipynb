{
 "cells": [
  {
   "cell_type": "markdown",
   "id": "52aab68e",
   "metadata": {},
   "source": [
    "# LangChain - Prompt and Models Exercise"
   ]
  },
  {
   "cell_type": "code",
   "execution_count": 1,
   "id": "519a1cbd",
   "metadata": {},
   "outputs": [],
   "source": [
    "from langchain.chat_models import ChatOpenAI\n",
    "from langchain.schema import AIMessage,  HumanMessage, SystemMessage"
   ]
  },
  {
   "cell_type": "code",
   "execution_count": 2,
   "id": "c9a092f4",
   "metadata": {},
   "outputs": [],
   "source": [
    "from langchain.prompts import ChatPromptTemplate, SystemMessagePromptTemplate, HumanMessagePromptTemplate"
   ]
  },
  {
   "cell_type": "code",
   "execution_count": 3,
   "id": "61070211",
   "metadata": {},
   "outputs": [],
   "source": [
    "api_file = open(\"../../api_key.txt\")\n",
    "api_key = api_file.read()"
   ]
  },
  {
   "cell_type": "code",
   "execution_count": 4,
   "id": "68615b36",
   "metadata": {},
   "outputs": [],
   "source": [
    "chat = ChatOpenAI(openai_api_key=api_key)"
   ]
  },
  {
   "cell_type": "code",
   "execution_count": 5,
   "id": "4d507998",
   "metadata": {},
   "outputs": [],
   "source": [
    "def travel_idea(interest, budget):\n",
    "    '''\n",
    "    INPUTS:\n",
    "        interest: A str interest or hobby (e.g., fishing)\n",
    "        budget: A str budget (e.g. $10,000)\n",
    "    '''\n",
    "    \n",
    "    # Define System Template and System Message Prompt\n",
    "    system_template = \"You are an AI travel assistant which will help in planning a customized tour\"\n",
    "    system_message_prompt = SystemMessagePromptTemplate.from_template(system_template)\n",
    "    \n",
    "    # Define Human Template and Human Message Prompt\n",
    "    human_template = \"{interest}, {budget}\"\n",
    "    human_message_prompt = HumanMessagePromptTemplate.from_template(human_template)\n",
    "    \n",
    "    # Define Chat Prompt Template\n",
    "    chat_prompt = ChatPromptTemplate.from_messages([\n",
    "        system_message_prompt,\n",
    "        human_message_prompt\n",
    "    ])\n",
    "    \n",
    "    # Passing Input Variables\n",
    "    prompt = chat_prompt.format_prompt(\n",
    "        interest=interest,\n",
    "        budget=budget).to_messages()\n",
    "    \n",
    "    # Chat Request\n",
    "    result = chat(prompt)\n",
    "    print(result.content)"
   ]
  },
  {
   "cell_type": "code",
   "execution_count": 6,
   "id": "ba5c3539",
   "metadata": {},
   "outputs": [
    {
     "name": "stdout",
     "output_type": "stream",
     "text": [
      "Great! With a budget of $10,000, we can plan an amazing fishing tour for you. Please provide me with some additional details so I can tailor the tour to your preferences:\n",
      "\n",
      "1. Destination: Where would you like to go fishing? It could be a specific country, region, or even a particular fishing spot.\n",
      "\n",
      "2. Duration: How long would you like your fishing tour to be? This will help in determining the number of days you'll be spending on the trip.\n",
      "\n",
      "3. Accommodation: What type of accommodation would you prefer? Options can range from budget-friendly hotels to luxury resorts or even fishing lodges.\n",
      "\n",
      "4. Fishing Style: Do you have a specific fishing style in mind? Options include freshwater fishing, saltwater fishing, fly fishing, or even deep-sea fishing.\n",
      "\n",
      "5. Equipment: Will you be bringing your own fishing gear, or would you like to rent equipment at the destination? This will help in determining any additional costs.\n",
      "\n",
      "6. Additional Activities: Are there any other activities or attractions you would like to include in your tour? This can include sightseeing, wildlife encounters, or exploring the local culture.\n",
      "\n",
      "Once you provide me with these details, I will be able to create a customized fishing tour itinerary for you within your budget.\n"
     ]
    }
   ],
   "source": [
    "travel_idea('fishing', '$10,000')"
   ]
  },
  {
   "cell_type": "code",
   "execution_count": null,
   "id": "be461a81",
   "metadata": {},
   "outputs": [],
   "source": []
  }
 ],
 "metadata": {
  "kernelspec": {
   "display_name": "Python 3 (ipykernel)",
   "language": "python",
   "name": "python3"
  },
  "language_info": {
   "codemirror_mode": {
    "name": "ipython",
    "version": 3
   },
   "file_extension": ".py",
   "mimetype": "text/x-python",
   "name": "python",
   "nbconvert_exporter": "python",
   "pygments_lexer": "ipython3",
   "version": "3.8.10"
  }
 },
 "nbformat": 4,
 "nbformat_minor": 5
}
