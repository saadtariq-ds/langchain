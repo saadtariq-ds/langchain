{
 "cells": [
  {
   "cell_type": "markdown",
   "id": "6e330445",
   "metadata": {},
   "source": [
    "# LangChain Prompt Templates"
   ]
  },
  {
   "cell_type": "code",
   "execution_count": 1,
   "id": "67f98a94",
   "metadata": {},
   "outputs": [],
   "source": [
    "from langchain.llms import OpenAI\n",
    "from langchain.chat_models import ChatOpenAI\n",
    "from langchain.schema import AIMessage,  HumanMessage, SystemMessage"
   ]
  },
  {
   "cell_type": "code",
   "execution_count": 2,
   "id": "a0c6c36f",
   "metadata": {},
   "outputs": [],
   "source": [
    "from langchain import PromptTemplate"
   ]
  },
  {
   "cell_type": "code",
   "execution_count": 3,
   "id": "d75901e1",
   "metadata": {},
   "outputs": [],
   "source": [
    "api_file = open(\"../../api_key.txt\")\n",
    "api_key = api_file.read()"
   ]
  },
  {
   "cell_type": "code",
   "execution_count": 4,
   "id": "993c31b6",
   "metadata": {},
   "outputs": [],
   "source": [
    "llm = OpenAI(openai_api_key=api_key)"
   ]
  },
  {
   "cell_type": "code",
   "execution_count": 5,
   "id": "7f57ccf5",
   "metadata": {},
   "outputs": [],
   "source": [
    "chat = ChatOpenAI(openai_api_key=api_key)"
   ]
  },
  {
   "cell_type": "markdown",
   "id": "13c54439",
   "metadata": {},
   "source": [
    "## LLMs"
   ]
  },
  {
   "cell_type": "code",
   "execution_count": 6,
   "id": "9455d81d",
   "metadata": {},
   "outputs": [
    {
     "data": {
      "text/plain": [
       "'\\n\\nMars has the largest dust storms in the Solar System, which can last for months and cover the entire planet.'"
      ]
     },
     "execution_count": 6,
     "metadata": {},
     "output_type": "execute_result"
    }
   ],
   "source": [
    "llm(\"Here is a fact about Mars:\")"
   ]
  },
  {
   "cell_type": "code",
   "execution_count": 7,
   "id": "cfd0bc17",
   "metadata": {},
   "outputs": [
    {
     "name": "stdout",
     "output_type": "stream",
     "text": [
      "\n",
      "\n",
      "Mars is the fourth planet from the Sun and the second-smallest planet in the Solar System, after Mercury.\n"
     ]
    }
   ],
   "source": [
    "planet = 'Mars'\n",
    "print(llm(f\"Here is a fact about {planet}:\"))"
   ]
  },
  {
   "cell_type": "markdown",
   "id": "38b3d916",
   "metadata": {},
   "source": [
    "### Prompt Templates"
   ]
  },
  {
   "cell_type": "markdown",
   "id": "bc3a0b1f",
   "metadata": {},
   "source": [
    "#### No Input Prompt"
   ]
  },
  {
   "cell_type": "code",
   "execution_count": 8,
   "id": "454a8a84",
   "metadata": {},
   "outputs": [],
   "source": [
    "no_input_prompt = PromptTemplate(input_variables=[], \n",
    "                                 template=\"Tell me a fact\")"
   ]
  },
  {
   "cell_type": "code",
   "execution_count": 9,
   "id": "69d4b88a",
   "metadata": {},
   "outputs": [
    {
     "data": {
      "text/plain": [
       "'Tell me a fact'"
      ]
     },
     "execution_count": 9,
     "metadata": {},
     "output_type": "execute_result"
    }
   ],
   "source": [
    "no_input_prompt.format()"
   ]
  },
  {
   "cell_type": "code",
   "execution_count": 10,
   "id": "91b1a4d8",
   "metadata": {},
   "outputs": [
    {
     "data": {
      "text/plain": [
       "' about yourself\\n\\nI am an avid reader and have read over 100 books in the last year.'"
      ]
     },
     "execution_count": 10,
     "metadata": {},
     "output_type": "execute_result"
    }
   ],
   "source": [
    "llm(no_input_prompt.format())"
   ]
  },
  {
   "cell_type": "markdown",
   "id": "6c81614f",
   "metadata": {},
   "source": [
    "#### Single Input Prompt"
   ]
  },
  {
   "cell_type": "code",
   "execution_count": 11,
   "id": "8b9916ed",
   "metadata": {},
   "outputs": [],
   "source": [
    "single_input_prompt = PromptTemplate(input_variables=[\"topic\"], \n",
    "                                     template='Tell me a fact about {topic}')"
   ]
  },
  {
   "cell_type": "code",
   "execution_count": 12,
   "id": "1c1eb203",
   "metadata": {},
   "outputs": [
    {
     "data": {
      "text/plain": [
       "'\\n\\nThe ocean covers over 70% of the Earth’s surface and holds 97% of the Earth’s water.'"
      ]
     },
     "execution_count": 12,
     "metadata": {},
     "output_type": "execute_result"
    }
   ],
   "source": [
    "llm(single_input_prompt.format(topic='the ocean'))"
   ]
  },
  {
   "cell_type": "markdown",
   "id": "eb5a844d",
   "metadata": {},
   "source": [
    "#### Multiple Input Prompts"
   ]
  },
  {
   "cell_type": "code",
   "execution_count": 13,
   "id": "00fa121c",
   "metadata": {},
   "outputs": [],
   "source": [
    "multiple_input_prompt = PromptTemplate(input_variables=[\"topic\", \"level\"],\n",
    "                                       template='Tell me a fact about {topic} for a {level} student')"
   ]
  },
  {
   "cell_type": "code",
   "execution_count": 14,
   "id": "9fe55c5b",
   "metadata": {},
   "outputs": [
    {
     "data": {
      "text/plain": [
       "'\\n\\nThe ocean is home to an estimated one million species of animals and plants, many of which are still undiscovered.'"
      ]
     },
     "execution_count": 14,
     "metadata": {},
     "output_type": "execute_result"
    }
   ],
   "source": [
    "llm(multiple_input_prompt.format(topic='the ocean', level='PhD level'))"
   ]
  },
  {
   "cell_type": "markdown",
   "id": "023504f8",
   "metadata": {},
   "source": [
    "## Chat Models"
   ]
  },
  {
   "cell_type": "code",
   "execution_count": 15,
   "id": "1f8aec46",
   "metadata": {},
   "outputs": [],
   "source": [
    "from langchain.prompts import ChatPromptTemplate, PromptTemplate\n",
    "from langchain.prompts import SystemMessagePromptTemplate, AIMessagePromptTemplate, HumanMessagePromptTemplate\n",
    "from langchain.schema import HumanMessage, AIMessage, SystemMessage"
   ]
  },
  {
   "cell_type": "code",
   "execution_count": 16,
   "id": "8351a895",
   "metadata": {},
   "outputs": [],
   "source": [
    "system_template = \"You are an AI recipe assistant that specializes in {dietry_preference} dishes that can be prepared in {cooking_time}\""
   ]
  },
  {
   "cell_type": "code",
   "execution_count": 17,
   "id": "cf8bea22",
   "metadata": {},
   "outputs": [],
   "source": [
    "system_message_prompt = SystemMessagePromptTemplate.from_template(system_template)"
   ]
  },
  {
   "cell_type": "code",
   "execution_count": 18,
   "id": "dcee77ac",
   "metadata": {},
   "outputs": [
    {
     "data": {
      "text/plain": [
       "['cooking_time', 'dietry_preference']"
      ]
     },
     "execution_count": 18,
     "metadata": {},
     "output_type": "execute_result"
    }
   ],
   "source": [
    "system_message_prompt.input_variables"
   ]
  },
  {
   "cell_type": "code",
   "execution_count": 19,
   "id": "43653e74",
   "metadata": {},
   "outputs": [],
   "source": [
    "human_template = \"{recipe_request}\""
   ]
  },
  {
   "cell_type": "code",
   "execution_count": 20,
   "id": "59f658cd",
   "metadata": {},
   "outputs": [],
   "source": [
    "human_message_prompt = HumanMessagePromptTemplate.from_template(human_template)"
   ]
  },
  {
   "cell_type": "code",
   "execution_count": 21,
   "id": "49e0b5c4",
   "metadata": {},
   "outputs": [
    {
     "data": {
      "text/plain": [
       "['recipe_request']"
      ]
     },
     "execution_count": 21,
     "metadata": {},
     "output_type": "execute_result"
    }
   ],
   "source": [
    "human_message_prompt.input_variables"
   ]
  },
  {
   "cell_type": "code",
   "execution_count": 22,
   "id": "131f221f",
   "metadata": {},
   "outputs": [],
   "source": [
    "chat_prompt = ChatPromptTemplate.from_messages([\n",
    "    system_message_prompt,\n",
    "    human_message_prompt\n",
    "])"
   ]
  },
  {
   "cell_type": "code",
   "execution_count": 23,
   "id": "4938fbfc",
   "metadata": {},
   "outputs": [
    {
     "data": {
      "text/plain": [
       "['cooking_time', 'dietry_preference', 'recipe_request']"
      ]
     },
     "execution_count": 23,
     "metadata": {},
     "output_type": "execute_result"
    }
   ],
   "source": [
    "chat_prompt.input_variables"
   ]
  },
  {
   "cell_type": "code",
   "execution_count": 24,
   "id": "ab1557ff",
   "metadata": {},
   "outputs": [],
   "source": [
    "prompt = chat_prompt.format_prompt(cooking_time = '15 minutes',\n",
    "                          dietry_preference = 'Vegan',\n",
    "                          recipe_request = 'quick snack').to_messages()"
   ]
  },
  {
   "cell_type": "code",
   "execution_count": 25,
   "id": "3d470c5c",
   "metadata": {},
   "outputs": [],
   "source": [
    "result = chat(prompt)"
   ]
  },
  {
   "cell_type": "code",
   "execution_count": 26,
   "id": "f7c4d619",
   "metadata": {},
   "outputs": [
    {
     "name": "stdout",
     "output_type": "stream",
     "text": [
      "Here's a quick and easy vegan snack recipe for you:\n",
      "\n",
      "Vegan Avocado Toast:\n",
      "\n",
      "Ingredients:\n",
      "- 1 ripe avocado\n",
      "- 2 slices of bread (choose whole grain or gluten-free bread if desired)\n",
      "- Lemon juice (about 1 tablespoon)\n",
      "- Salt and pepper to taste\n",
      "- Optional toppings: sliced tomatoes, red pepper flakes, fresh herbs (such as cilantro or basil)\n",
      "\n",
      "Instructions:\n",
      "1. Slice the avocado in half, remove the pit, and scoop the flesh into a bowl.\n",
      "2. Mash the avocado with a fork until desired consistency is reached. Add lemon juice, salt, and pepper, and mix well.\n",
      "3. Toast the bread slices until golden brown.\n",
      "4. Spread the mashed avocado evenly on each slice of toast.\n",
      "5. Top with your desired toppings, such as sliced tomatoes, red pepper flakes, or fresh herbs.\n",
      "6. Serve immediately and enjoy!\n",
      "\n",
      "This snack is not only delicious, but it's also packed with healthy fats from the avocado and provides a good source of fiber from the whole grain bread. It's perfect for a quick and satisfying snack any time of the day.\n"
     ]
    }
   ],
   "source": [
    "print(result.content)"
   ]
  },
  {
   "cell_type": "code",
   "execution_count": null,
   "id": "52fccf59",
   "metadata": {},
   "outputs": [],
   "source": []
  }
 ],
 "metadata": {
  "kernelspec": {
   "display_name": "Python 3 (ipykernel)",
   "language": "python",
   "name": "python3"
  },
  "language_info": {
   "codemirror_mode": {
    "name": "ipython",
    "version": 3
   },
   "file_extension": ".py",
   "mimetype": "text/x-python",
   "name": "python",
   "nbconvert_exporter": "python",
   "pygments_lexer": "ipython3",
   "version": "3.10.12"
  }
 },
 "nbformat": 4,
 "nbformat_minor": 5
}
