{
 "cells": [
  {
   "cell_type": "markdown",
   "id": "27ff2593",
   "metadata": {},
   "source": [
    "# LangChain - Few Shot Prompting"
   ]
  },
  {
   "cell_type": "code",
   "execution_count": 1,
   "id": "0203e187",
   "metadata": {},
   "outputs": [],
   "source": [
    "from langchain.chat_models import ChatOpenAI\n",
    "from langchain.prompts import ChatPromptTemplate, SystemMessagePromptTemplate, HumanMessagePromptTemplate, AIMessagePromptTemplate"
   ]
  },
  {
   "cell_type": "code",
   "execution_count": 2,
   "id": "74762453",
   "metadata": {},
   "outputs": [],
   "source": [
    "api_file = open(\"../../api_key.txt\")\n",
    "api_key = api_file.read()"
   ]
  },
  {
   "cell_type": "code",
   "execution_count": 3,
   "id": "4d0d44bc",
   "metadata": {},
   "outputs": [],
   "source": [
    "chat = ChatOpenAI(openai_api_key=api_key)"
   ]
  },
  {
   "cell_type": "markdown",
   "id": "43af18db",
   "metadata": {},
   "source": [
    "## Creating a Bot to explain Legal Documents"
   ]
  },
  {
   "cell_type": "code",
   "execution_count": 4,
   "id": "e33c3d36",
   "metadata": {},
   "outputs": [],
   "source": [
    "system_template = \"You are a helpful legal assistant that translates complex legal terms into plain and understandable terms.\""
   ]
  },
  {
   "cell_type": "code",
   "execution_count": 5,
   "id": "3ff3f3a7",
   "metadata": {},
   "outputs": [],
   "source": [
    "system_message_prompt = SystemMessagePromptTemplate.from_template(system_template)"
   ]
  },
  {
   "cell_type": "markdown",
   "id": "8da99744",
   "metadata": {},
   "source": [
    "### Few Shot Prompting"
   ]
  },
  {
   "cell_type": "code",
   "execution_count": 6,
   "id": "d6a909af",
   "metadata": {},
   "outputs": [],
   "source": [
    "legal_text = \"The provisions herein shall be severable, and if any provision or portion thereof is deemed invalid, illegal, or unenforceable by a court of competent jurisdiction, the remaining provisions or portions thereof shall remain in full force and effect to the maximum extent permitted by law.\""
   ]
  },
  {
   "cell_type": "code",
   "execution_count": 7,
   "id": "03070822",
   "metadata": {},
   "outputs": [],
   "source": [
    "example_input_one = HumanMessagePromptTemplate.from_template(legal_text)"
   ]
  },
  {
   "cell_type": "code",
   "execution_count": 8,
   "id": "996405ce",
   "metadata": {},
   "outputs": [],
   "source": [
    "plain_text = \"The rules in this agreement can be separated. If a court decides that one rule or part of it is not valid, illegal, or cannot be enforced, the other rules will still apply and be enforced as much as they can under the law.\""
   ]
  },
  {
   "cell_type": "code",
   "execution_count": 9,
   "id": "45428150",
   "metadata": {},
   "outputs": [],
   "source": [
    "example_output_one = AIMessagePromptTemplate.from_template(plain_text)"
   ]
  },
  {
   "cell_type": "code",
   "execution_count": 10,
   "id": "cc3341b3",
   "metadata": {},
   "outputs": [],
   "source": [
    "human_template = \"{legal_text}\"\n",
    "human_message_prompt = HumanMessagePromptTemplate.from_template(human_template)"
   ]
  },
  {
   "cell_type": "code",
   "execution_count": 11,
   "id": "0249c018",
   "metadata": {},
   "outputs": [],
   "source": [
    "chat_prompt = ChatPromptTemplate.from_messages([\n",
    "    system_message_prompt,\n",
    "    example_input_one,\n",
    "    example_output_one,\n",
    "    human_message_prompt \n",
    "])"
   ]
  },
  {
   "cell_type": "code",
   "execution_count": 12,
   "id": "32e8b6ac",
   "metadata": {},
   "outputs": [
    {
     "data": {
      "text/plain": [
       "['legal_text']"
      ]
     },
     "execution_count": 12,
     "metadata": {},
     "output_type": "execute_result"
    }
   ],
   "source": [
    "chat_prompt.input_variables"
   ]
  },
  {
   "cell_type": "code",
   "execution_count": 13,
   "id": "81ec4d0a",
   "metadata": {},
   "outputs": [],
   "source": [
    "example_legal_text = \"The grantor, being the fee simple owner of the real property herein described, conveys and warrants to the grantee, his heirs and assigns, all of the grantor's right, title, and interest in and to the said property, subject to all existing encumbrances, liens, and easements, as recorded in the official records of the county, and any applicable covenants, conditions, and restrictions affecting the property, in consideration of the sum of [purchase price] paid by the grantee.\"\n",
    "request = chat_prompt.format_prompt(legal_text=example_legal_text).to_messages()"
   ]
  },
  {
   "cell_type": "code",
   "execution_count": 14,
   "id": "b14ed670",
   "metadata": {},
   "outputs": [],
   "source": [
    "result = chat(request)"
   ]
  },
  {
   "cell_type": "code",
   "execution_count": 15,
   "id": "e05dae64",
   "metadata": {},
   "outputs": [
    {
     "name": "stdout",
     "output_type": "stream",
     "text": [
      "The person giving the property, who owns it completely, is transferring and promising to the person receiving the property, their heirs and those they pass it on to, all of the rights, ownership, and interest the giver has in the property described here. However, this transfer is subject to any existing burdens, debts, and rights that are already recorded in the official records of the county, as well as any rules and restrictions that affect the property. This transfer is being done in exchange for the amount of money specified as the purchase price, which the receiver has paid.\n"
     ]
    }
   ],
   "source": [
    "print(result.content)"
   ]
  },
  {
   "cell_type": "code",
   "execution_count": null,
   "id": "9f91ae8e",
   "metadata": {},
   "outputs": [],
   "source": []
  }
 ],
 "metadata": {
  "kernelspec": {
   "display_name": "Python 3 (ipykernel)",
   "language": "python",
   "name": "python3"
  },
  "language_info": {
   "codemirror_mode": {
    "name": "ipython",
    "version": 3
   },
   "file_extension": ".py",
   "mimetype": "text/x-python",
   "name": "python",
   "nbconvert_exporter": "python",
   "pygments_lexer": "ipython3",
   "version": "3.10.12"
  }
 },
 "nbformat": 4,
 "nbformat_minor": 5
}
