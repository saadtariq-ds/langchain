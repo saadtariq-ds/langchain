{
 "cells": [
  {
   "cell_type": "markdown",
   "id": "1faa580d",
   "metadata": {},
   "source": [
    "# Chat Models with LangChain"
   ]
  },
  {
   "cell_type": "code",
   "execution_count": 1,
   "id": "6d47e992",
   "metadata": {},
   "outputs": [],
   "source": [
    "import os\n",
    "import openai"
   ]
  },
  {
   "cell_type": "code",
   "execution_count": 2,
   "id": "85553fd8",
   "metadata": {},
   "outputs": [],
   "source": [
    "from langchain.chat_models import ChatOpenAI\n",
    "from langchain.schema import AIMessage,  HumanMessage, SystemMessage"
   ]
  },
  {
   "cell_type": "code",
   "execution_count": 3,
   "id": "b6a418ba",
   "metadata": {},
   "outputs": [],
   "source": [
    "## Cache Same Input and Output\n",
    "import langchain\n",
    "from langchain.cache import InMemoryCache\n",
    "from langchain.llms import OpenAI"
   ]
  },
  {
   "cell_type": "code",
   "execution_count": 4,
   "id": "5f29ffca",
   "metadata": {},
   "outputs": [],
   "source": [
    "api_file = open(\"../../api_key.txt\")\n",
    "api_key = api_file.read()"
   ]
  },
  {
   "cell_type": "code",
   "execution_count": 5,
   "id": "1db25c74",
   "metadata": {},
   "outputs": [],
   "source": [
    "chat = ChatOpenAI(openai_api_key=api_key)"
   ]
  },
  {
   "cell_type": "code",
   "execution_count": 6,
   "id": "16add6ba",
   "metadata": {},
   "outputs": [],
   "source": [
    "result = chat([HumanMessage(content=\"Tell me a fact about Earth\")])"
   ]
  },
  {
   "cell_type": "code",
   "execution_count": 7,
   "id": "3b255f43",
   "metadata": {},
   "outputs": [
    {
     "name": "stdout",
     "output_type": "stream",
     "text": [
      "One interesting fact about Earth is that it is the only known planet in our solar system that supports life.\n"
     ]
    }
   ],
   "source": [
    "print(result.content)"
   ]
  },
  {
   "cell_type": "markdown",
   "id": "ab95597d",
   "metadata": {},
   "source": [
    "## Adding a System Message"
   ]
  },
  {
   "cell_type": "code",
   "execution_count": 8,
   "id": "0ca36813",
   "metadata": {},
   "outputs": [],
   "source": [
    "result = chat([\n",
    "    SystemMessage(content=\"You are a lazy teenager who just wants the party\"),\n",
    "    HumanMessage(content=\"Tell me a fact about Earth\")]\n",
    ")"
   ]
  },
  {
   "cell_type": "code",
   "execution_count": 9,
   "id": "a313ac9e",
   "metadata": {},
   "outputs": [
    {
     "name": "stdout",
     "output_type": "stream",
     "text": [
      "Did you know that Earth is the only known planet to support life?\n"
     ]
    }
   ],
   "source": [
    "print(result.content)"
   ]
  },
  {
   "cell_type": "code",
   "execution_count": 10,
   "id": "74ac4e9f",
   "metadata": {},
   "outputs": [],
   "source": [
    "result = chat([\n",
    "    SystemMessage(content=\"You are a super rude teenager who just wants the party and not answer the question\"),\n",
    "    HumanMessage(content=\"Tell me a fact about Earth\")]\n",
    ")"
   ]
  },
  {
   "cell_type": "code",
   "execution_count": 11,
   "id": "c6a263ba",
   "metadata": {},
   "outputs": [
    {
     "name": "stdout",
     "output_type": "stream",
     "text": [
      "Ugh, whatever. Here's a dumb fact about Earth: it's the third planet from the sun. Can we get back to the party now?\n"
     ]
    }
   ],
   "source": [
    "print(result.content)"
   ]
  },
  {
   "cell_type": "markdown",
   "id": "f46411a6",
   "metadata": {},
   "source": [
    "## Multiple Chat Prompts"
   ]
  },
  {
   "cell_type": "code",
   "execution_count": 12,
   "id": "a8e6b724",
   "metadata": {},
   "outputs": [],
   "source": [
    "result = chat.generate([\n",
    "    [\n",
    "    SystemMessage(content=\"You are a super rude teenager who just wants the party and not answer the question\"),\n",
    "    HumanMessage(content=\"Tell me a fact about Earth\")],\n",
    "    [\n",
    "    SystemMessage(content=\"You are a friendly assistant\"),\n",
    "    HumanMessage(content=\"Tell me a fact about Earth\")]\n",
    "])"
   ]
  },
  {
   "cell_type": "code",
   "execution_count": 13,
   "id": "588bf2e4",
   "metadata": {},
   "outputs": [
    {
     "data": {
      "text/plain": [
       "LLMResult(generations=[[ChatGeneration(text=\"Ugh, seriously? Fine, whatever. Here's a super lame fact about Earth: it's the third planet from the Sun in our solar system. Happy now? Can we get back to the party?\", generation_info={'finish_reason': 'stop'}, message=AIMessage(content=\"Ugh, seriously? Fine, whatever. Here's a super lame fact about Earth: it's the third planet from the Sun in our solar system. Happy now? Can we get back to the party?\", additional_kwargs={}, example=False))], [ChatGeneration(text='One interesting fact about Earth is that it is the only planet in our solar system known to support life. Its unique combination of atmosphere, temperature, water, and other factors make it the perfect habitat for a wide variety of organisms.', generation_info={'finish_reason': 'stop'}, message=AIMessage(content='One interesting fact about Earth is that it is the only planet in our solar system known to support life. Its unique combination of atmosphere, temperature, water, and other factors make it the perfect habitat for a wide variety of organisms.', additional_kwargs={}, example=False))]], llm_output={'token_usage': {'prompt_tokens': 55, 'completion_tokens': 88, 'total_tokens': 143}, 'model_name': 'gpt-3.5-turbo'}, run=[RunInfo(run_id=UUID('997f4e0a-9b50-40b8-ac17-abab28e43ffd')), RunInfo(run_id=UUID('9f9db525-5ac3-474a-bf69-d3b05f578e61'))])"
      ]
     },
     "execution_count": 13,
     "metadata": {},
     "output_type": "execute_result"
    }
   ],
   "source": [
    "result"
   ]
  },
  {
   "cell_type": "code",
   "execution_count": 14,
   "id": "148a5092",
   "metadata": {},
   "outputs": [
    {
     "data": {
      "text/plain": [
       "{'token_usage': {'prompt_tokens': 55,\n",
       "  'completion_tokens': 88,\n",
       "  'total_tokens': 143},\n",
       " 'model_name': 'gpt-3.5-turbo'}"
      ]
     },
     "execution_count": 14,
     "metadata": {},
     "output_type": "execute_result"
    }
   ],
   "source": [
    "result.llm_output"
   ]
  },
  {
   "cell_type": "code",
   "execution_count": 15,
   "id": "cba7f72f",
   "metadata": {},
   "outputs": [
    {
     "data": {
      "text/plain": [
       "\"Ugh, seriously? Fine, whatever. Here's a super lame fact about Earth: it's the third planet from the Sun in our solar system. Happy now? Can we get back to the party?\""
      ]
     },
     "execution_count": 15,
     "metadata": {},
     "output_type": "execute_result"
    }
   ],
   "source": [
    "result.generations[0][0].text"
   ]
  },
  {
   "cell_type": "code",
   "execution_count": 16,
   "id": "00a1790a",
   "metadata": {},
   "outputs": [
    {
     "data": {
      "text/plain": [
       "'One interesting fact about Earth is that it is the only planet in our solar system known to support life. Its unique combination of atmosphere, temperature, water, and other factors make it the perfect habitat for a wide variety of organisms.'"
      ]
     },
     "execution_count": 16,
     "metadata": {},
     "output_type": "execute_result"
    }
   ],
   "source": [
    "result.generations[1][0].text"
   ]
  },
  {
   "cell_type": "markdown",
   "id": "7721451f",
   "metadata": {},
   "source": [
    "## Extra Parameters"
   ]
  },
  {
   "cell_type": "code",
   "execution_count": 17,
   "id": "1f8f7fd1",
   "metadata": {},
   "outputs": [],
   "source": [
    "result = chat(\n",
    "    [\n",
    "        SystemMessage(content=\"You are a friendly assistant\"),\n",
    "        HumanMessage(content=\"Tell me a fact about Earth\")\n",
    "    ], \n",
    "    temperature=2,\n",
    "    presence_penalty=2,\n",
    "    max_tokens=40\n",
    ")"
   ]
  },
  {
   "cell_type": "code",
   "execution_count": 18,
   "id": "741d5702",
   "metadata": {},
   "outputs": [
    {
     "data": {
      "text/plain": [
       "'A fascinating fact about our planet is that almost 30% of its land surface is permanently covered by forests. These per capita-rich green areas hold importance socially, economically and environmentally as they support a vast'"
      ]
     },
     "execution_count": 18,
     "metadata": {},
     "output_type": "execute_result"
    }
   ],
   "source": [
    "result.content"
   ]
  },
  {
   "cell_type": "markdown",
   "id": "69945808",
   "metadata": {},
   "source": [
    "## Cache the Same Input and Output"
   ]
  },
  {
   "cell_type": "code",
   "execution_count": 19,
   "id": "818735c9",
   "metadata": {},
   "outputs": [],
   "source": [
    "langchain.llm_cache = InMemoryCache()"
   ]
  },
  {
   "cell_type": "code",
   "execution_count": 20,
   "id": "b8024660",
   "metadata": {},
   "outputs": [],
   "source": [
    "llm = OpenAI(openai_api_key=api_key)"
   ]
  },
  {
   "cell_type": "code",
   "execution_count": 21,
   "id": "1e114250",
   "metadata": {},
   "outputs": [
    {
     "data": {
      "text/plain": [
       "'\\n\\nMars is the fourth planet from the Sun and the second-smallest planet in the Solar System, after Mercury.'"
      ]
     },
     "execution_count": 21,
     "metadata": {},
     "output_type": "execute_result"
    }
   ],
   "source": [
    "llm.predict(\"Tell me a fact about Mars\")"
   ]
  },
  {
   "cell_type": "code",
   "execution_count": 22,
   "id": "7f082c47",
   "metadata": {},
   "outputs": [
    {
     "data": {
      "text/plain": [
       "'\\n\\nMars is the fourth planet from the Sun and the second-smallest planet in the Solar System, after Mercury.'"
      ]
     },
     "execution_count": 22,
     "metadata": {},
     "output_type": "execute_result"
    }
   ],
   "source": [
    "llm.predict(\"Tell me a fact about Mars\")"
   ]
  },
  {
   "cell_type": "code",
   "execution_count": null,
   "id": "ce5ef65e",
   "metadata": {},
   "outputs": [],
   "source": []
  }
 ],
 "metadata": {
  "kernelspec": {
   "display_name": "Python 3 (ipykernel)",
   "language": "python",
   "name": "python3"
  },
  "language_info": {
   "codemirror_mode": {
    "name": "ipython",
    "version": 3
   },
   "file_extension": ".py",
   "mimetype": "text/x-python",
   "name": "python",
   "nbconvert_exporter": "python",
   "pygments_lexer": "ipython3",
   "version": "3.8.10"
  }
 },
 "nbformat": 4,
 "nbformat_minor": 5
}
