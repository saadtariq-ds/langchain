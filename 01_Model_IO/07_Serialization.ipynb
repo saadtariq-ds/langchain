{
 "cells": [
  {
   "cell_type": "markdown",
   "id": "3ac4299c",
   "metadata": {},
   "source": [
    "# LangChain - Serialization (Saving and Loading Prompts)"
   ]
  },
  {
   "cell_type": "code",
   "execution_count": 1,
   "id": "c1245a5f",
   "metadata": {},
   "outputs": [],
   "source": [
    "from langchain import PromptTemplate"
   ]
  },
  {
   "cell_type": "code",
   "execution_count": 2,
   "id": "4480cee3",
   "metadata": {},
   "outputs": [],
   "source": [
    "template = \"Tell me a fact about {planet}\""
   ]
  },
  {
   "cell_type": "code",
   "execution_count": 3,
   "id": "9b4b7228",
   "metadata": {},
   "outputs": [],
   "source": [
    "prompt = PromptTemplate(template=template, input_variables=['planet'])"
   ]
  },
  {
   "cell_type": "code",
   "execution_count": 4,
   "id": "d9dc7b66",
   "metadata": {},
   "outputs": [
    {
     "data": {
      "text/plain": [
       "PromptTemplate(input_variables=['planet'], output_parser=None, partial_variables={}, template='Tell me a fact about {planet}', template_format='f-string', validate_template=True)"
      ]
     },
     "execution_count": 4,
     "metadata": {},
     "output_type": "execute_result"
    }
   ],
   "source": [
    "prompt"
   ]
  },
  {
   "cell_type": "markdown",
   "id": "39353072",
   "metadata": {},
   "source": [
    "## Saving Prompt Template"
   ]
  },
  {
   "cell_type": "code",
   "execution_count": 5,
   "id": "9ba3e521",
   "metadata": {},
   "outputs": [],
   "source": [
    "prompt.save(\"myprompt.json\")"
   ]
  },
  {
   "cell_type": "markdown",
   "id": "cae2a8ee",
   "metadata": {},
   "source": [
    "## Loading Prompt File"
   ]
  },
  {
   "cell_type": "code",
   "execution_count": 6,
   "id": "43fdab46",
   "metadata": {},
   "outputs": [],
   "source": [
    "from langchain.prompts import load_prompt"
   ]
  },
  {
   "cell_type": "code",
   "execution_count": 7,
   "id": "17b44caf",
   "metadata": {},
   "outputs": [],
   "source": [
    "loaded_prompt = load_prompt('myprompt.json')"
   ]
  },
  {
   "cell_type": "code",
   "execution_count": 8,
   "id": "d0a531d4",
   "metadata": {},
   "outputs": [
    {
     "data": {
      "text/plain": [
       "PromptTemplate(input_variables=['planet'], output_parser=None, partial_variables={}, template='Tell me a fact about {planet}', template_format='f-string', validate_template=True)"
      ]
     },
     "execution_count": 8,
     "metadata": {},
     "output_type": "execute_result"
    }
   ],
   "source": [
    "loaded_prompt"
   ]
  },
  {
   "cell_type": "code",
   "execution_count": null,
   "id": "32578f89",
   "metadata": {},
   "outputs": [],
   "source": []
  }
 ],
 "metadata": {
  "kernelspec": {
   "display_name": "Python 3 (ipykernel)",
   "language": "python",
   "name": "python3"
  },
  "language_info": {
   "codemirror_mode": {
    "name": "ipython",
    "version": 3
   },
   "file_extension": ".py",
   "mimetype": "text/x-python",
   "name": "python",
   "nbconvert_exporter": "python",
   "pygments_lexer": "ipython3",
   "version": "3.10.12"
  }
 },
 "nbformat": 4,
 "nbformat_minor": 5
}
