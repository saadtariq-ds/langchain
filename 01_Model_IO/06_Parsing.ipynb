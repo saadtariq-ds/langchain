{
 "cells": [
  {
   "cell_type": "markdown",
   "id": "827f1a80",
   "metadata": {},
   "source": [
    "# LangChain - Parsing"
   ]
  },
  {
   "cell_type": "code",
   "execution_count": 1,
   "id": "1da0d268",
   "metadata": {},
   "outputs": [],
   "source": [
    "from langchain.prompts import PromptTemplate, SystemMessagePromptTemplate, ChatPromptTemplate\n",
    "from langchain.prompts import HumanMessagePromptTemplate, AIMessagePromptTemplate"
   ]
  },
  {
   "cell_type": "code",
   "execution_count": 2,
   "id": "a97480d5",
   "metadata": {},
   "outputs": [],
   "source": [
    "from langchain.llms import OpenAI\n",
    "from langchain.chat_models import ChatOpenAI"
   ]
  },
  {
   "cell_type": "code",
   "execution_count": 3,
   "id": "d817333d",
   "metadata": {},
   "outputs": [],
   "source": [
    "api_key = open('../../api_key.txt').read()"
   ]
  },
  {
   "cell_type": "code",
   "execution_count": 4,
   "id": "9ee10b10",
   "metadata": {},
   "outputs": [],
   "source": [
    "model = ChatOpenAI(openai_api_key=api_key)"
   ]
  },
  {
   "cell_type": "markdown",
   "id": "b445abaf",
   "metadata": {},
   "source": [
    "## Comma Separated List Output Parser"
   ]
  },
  {
   "cell_type": "code",
   "execution_count": 5,
   "id": "722ca17c",
   "metadata": {},
   "outputs": [],
   "source": [
    "from langchain.output_parsers import CommaSeparatedListOutputParser"
   ]
  },
  {
   "cell_type": "code",
   "execution_count": 6,
   "id": "d5722c2a",
   "metadata": {},
   "outputs": [],
   "source": [
    "output_parser = CommaSeparatedListOutputParser()"
   ]
  },
  {
   "cell_type": "markdown",
   "id": "46cdd034",
   "metadata": {},
   "source": [
    "### Understanding Syntax"
   ]
  },
  {
   "cell_type": "code",
   "execution_count": 7,
   "id": "d5dd4ee6",
   "metadata": {},
   "outputs": [
    {
     "data": {
      "text/plain": [
       "'Your response should be a list of comma separated values, eg: `foo, bar, baz`'"
      ]
     },
     "execution_count": 7,
     "metadata": {},
     "output_type": "execute_result"
    }
   ],
   "source": [
    "output_parser.get_format_instructions()"
   ]
  },
  {
   "cell_type": "code",
   "execution_count": 8,
   "id": "67cd81f0",
   "metadata": {},
   "outputs": [],
   "source": [
    "reply = 'red, green, blue'"
   ]
  },
  {
   "cell_type": "code",
   "execution_count": 9,
   "id": "5e86a9fb",
   "metadata": {},
   "outputs": [
    {
     "data": {
      "text/plain": [
       "['red', ' green', ' blue']"
      ]
     },
     "execution_count": 9,
     "metadata": {},
     "output_type": "execute_result"
    }
   ],
   "source": [
    "reply.split(',')"
   ]
  },
  {
   "cell_type": "code",
   "execution_count": 10,
   "id": "58db650f",
   "metadata": {},
   "outputs": [
    {
     "data": {
      "text/plain": [
       "['red', 'green', 'blue']"
      ]
     },
     "execution_count": 10,
     "metadata": {},
     "output_type": "execute_result"
    }
   ],
   "source": [
    "output_parser.parse(reply)"
   ]
  },
  {
   "cell_type": "code",
   "execution_count": 11,
   "id": "93baa70b",
   "metadata": {},
   "outputs": [],
   "source": [
    "human_template = \"{request}\\n{format_instructions}\"\n",
    "human_message_prompt = HumanMessagePromptTemplate.from_template(human_template)"
   ]
  },
  {
   "cell_type": "code",
   "execution_count": 12,
   "id": "d10144f8",
   "metadata": {},
   "outputs": [],
   "source": [
    "chat_prompt = ChatPromptTemplate.from_messages([human_message_prompt])"
   ]
  },
  {
   "cell_type": "markdown",
   "id": "1344d4f6",
   "metadata": {},
   "source": [
    "### Example 1"
   ]
  },
  {
   "cell_type": "code",
   "execution_count": 13,
   "id": "ab74bb4a",
   "metadata": {},
   "outputs": [],
   "source": [
    "model_request = chat_prompt.format_prompt(\n",
    "    request=\"give me 5 characteristics of dogs\",\n",
    "    format_instructions=output_parser.get_format_instructions()).to_messages()"
   ]
  },
  {
   "cell_type": "code",
   "execution_count": 14,
   "id": "6c02340a",
   "metadata": {},
   "outputs": [],
   "source": [
    "result = model(model_request)"
   ]
  },
  {
   "cell_type": "code",
   "execution_count": 15,
   "id": "fb3ffb0b",
   "metadata": {},
   "outputs": [
    {
     "name": "stdout",
     "output_type": "stream",
     "text": [
      "loyal, playful, protective, social, intelligent\n"
     ]
    }
   ],
   "source": [
    "print(result.content)"
   ]
  },
  {
   "cell_type": "code",
   "execution_count": 16,
   "id": "eb68c30b",
   "metadata": {},
   "outputs": [
    {
     "data": {
      "text/plain": [
       "['loyal', 'playful', 'protective', 'social', 'intelligent']"
      ]
     },
     "execution_count": 16,
     "metadata": {},
     "output_type": "execute_result"
    }
   ],
   "source": [
    "output_parser.parse(result.content)"
   ]
  },
  {
   "cell_type": "markdown",
   "id": "6bea0d52",
   "metadata": {},
   "source": [
    "### Example 2"
   ]
  },
  {
   "cell_type": "code",
   "execution_count": 17,
   "id": "45cfbf9d",
   "metadata": {},
   "outputs": [],
   "source": [
    "model_request = chat_prompt.format_prompt(\n",
    "    request=\"write me a blog post about dogs\",\n",
    "    format_instructions=output_parser.get_format_instructions()).to_messages()"
   ]
  },
  {
   "cell_type": "code",
   "execution_count": 18,
   "id": "7509e81f",
   "metadata": {},
   "outputs": [],
   "source": [
    "result = model(model_request)"
   ]
  },
  {
   "cell_type": "code",
   "execution_count": 19,
   "id": "cc104cac",
   "metadata": {},
   "outputs": [
    {
     "name": "stdout",
     "output_type": "stream",
     "text": [
      "The Joy of Dogs, Unconditional Love, Adventure Companions, Stress Relievers, Loyal Friends, Constant Entertainment, Exercise Motivators, Heartwarming Greetings, Emotional Support, Furry Family Members\n"
     ]
    }
   ],
   "source": [
    "print(result.content)"
   ]
  },
  {
   "cell_type": "code",
   "execution_count": 20,
   "id": "0bcd9dff",
   "metadata": {},
   "outputs": [
    {
     "data": {
      "text/plain": [
       "['The Joy of Dogs',\n",
       " 'Unconditional Love',\n",
       " 'Adventure Companions',\n",
       " 'Stress Relievers',\n",
       " 'Loyal Friends',\n",
       " 'Constant Entertainment',\n",
       " 'Exercise Motivators',\n",
       " 'Heartwarming Greetings',\n",
       " 'Emotional Support',\n",
       " 'Furry Family Members']"
      ]
     },
     "execution_count": 20,
     "metadata": {},
     "output_type": "execute_result"
    }
   ],
   "source": [
    "output_parser.parse(result.content)"
   ]
  },
  {
   "cell_type": "markdown",
   "id": "a5415acb",
   "metadata": {},
   "source": [
    "## Date Time Parser"
   ]
  },
  {
   "cell_type": "code",
   "execution_count": 21,
   "id": "0407e50f",
   "metadata": {},
   "outputs": [],
   "source": [
    "from langchain.output_parsers import DatetimeOutputParser"
   ]
  },
  {
   "cell_type": "code",
   "execution_count": 22,
   "id": "208a1f80",
   "metadata": {},
   "outputs": [],
   "source": [
    "output_parser = DatetimeOutputParser()"
   ]
  },
  {
   "cell_type": "code",
   "execution_count": 23,
   "id": "e1cb5c99",
   "metadata": {},
   "outputs": [
    {
     "data": {
      "text/plain": [
       "'Write a datetime string that matches the \\n            following pattern: \"%Y-%m-%dT%H:%M:%S.%fZ\". Examples: 0782-12-09T12:07:16.136402Z, 1503-01-15T05:11:40.144188Z, 1521-05-22T12:51:47.854401Z'"
      ]
     },
     "execution_count": 23,
     "metadata": {},
     "output_type": "execute_result"
    }
   ],
   "source": [
    "output_parser.get_format_instructions()"
   ]
  },
  {
   "cell_type": "code",
   "execution_count": 24,
   "id": "099e872a",
   "metadata": {},
   "outputs": [],
   "source": [
    "human_template = \"{request}\\n{format_instructions}\"\n",
    "human_message_prompt = HumanMessagePromptTemplate.from_template(human_template)"
   ]
  },
  {
   "cell_type": "code",
   "execution_count": 25,
   "id": "8ab096c4",
   "metadata": {},
   "outputs": [],
   "source": [
    "chat_prompt = ChatPromptTemplate.from_messages([human_message_prompt])"
   ]
  },
  {
   "cell_type": "code",
   "execution_count": 26,
   "id": "97f54b16",
   "metadata": {},
   "outputs": [],
   "source": [
    "model_request = chat_prompt.format_prompt(\n",
    "    request=\"What date was the 13th Amendment ratified in the US?\",\n",
    "    format_instructions=output_parser.get_format_instructions()).to_messages()"
   ]
  },
  {
   "cell_type": "code",
   "execution_count": 27,
   "id": "7da649eb",
   "metadata": {},
   "outputs": [],
   "source": [
    "result = model(model_request, temperature=0)"
   ]
  },
  {
   "cell_type": "code",
   "execution_count": 28,
   "id": "a5e5cd6d",
   "metadata": {},
   "outputs": [
    {
     "name": "stdout",
     "output_type": "stream",
     "text": [
      "The 13th Amendment was ratified in the US on December 6, 1865.\n",
      "\n",
      "The datetime string that matches the given pattern is: \"1865-12-06T00:00:00.000000Z\"\n"
     ]
    }
   ],
   "source": [
    "print(result.content)"
   ]
  },
  {
   "cell_type": "code",
   "execution_count": 29,
   "id": "37e26f9f",
   "metadata": {},
   "outputs": [
    {
     "ename": "OutputParserException",
     "evalue": "Could not parse datetime string: The 13th Amendment was ratified in the US on December 6, 1865.\n\nThe datetime string that matches the given pattern is: \"1865-12-06T00:00:00.000000Z\"",
     "output_type": "error",
     "traceback": [
      "\u001b[1;31m---------------------------------------------------------------------------\u001b[0m",
      "\u001b[1;31mValueError\u001b[0m                                Traceback (most recent call last)",
      "File \u001b[1;32m~\\anaconda3\\envs\\env_langchain\\lib\\site-packages\\langchain\\output_parsers\\datetime.py:45\u001b[0m, in \u001b[0;36mDatetimeOutputParser.parse\u001b[1;34m(self, response)\u001b[0m\n\u001b[0;32m     44\u001b[0m \u001b[38;5;28;01mtry\u001b[39;00m:\n\u001b[1;32m---> 45\u001b[0m     \u001b[38;5;28;01mreturn\u001b[39;00m \u001b[43mdatetime\u001b[49m\u001b[38;5;241;43m.\u001b[39;49m\u001b[43mstrptime\u001b[49m\u001b[43m(\u001b[49m\u001b[43mresponse\u001b[49m\u001b[38;5;241;43m.\u001b[39;49m\u001b[43mstrip\u001b[49m\u001b[43m(\u001b[49m\u001b[43m)\u001b[49m\u001b[43m,\u001b[49m\u001b[43m \u001b[49m\u001b[38;5;28;43mself\u001b[39;49m\u001b[38;5;241;43m.\u001b[39;49m\u001b[43mformat\u001b[49m\u001b[43m)\u001b[49m\n\u001b[0;32m     46\u001b[0m \u001b[38;5;28;01mexcept\u001b[39;00m \u001b[38;5;167;01mValueError\u001b[39;00m \u001b[38;5;28;01mas\u001b[39;00m e:\n",
      "File \u001b[1;32m~\\anaconda3\\envs\\env_langchain\\lib\\_strptime.py:568\u001b[0m, in \u001b[0;36m_strptime_datetime\u001b[1;34m(cls, data_string, format)\u001b[0m\n\u001b[0;32m    566\u001b[0m \u001b[38;5;250m\u001b[39m\u001b[38;5;124;03m\"\"\"Return a class cls instance based on the input string and the\u001b[39;00m\n\u001b[0;32m    567\u001b[0m \u001b[38;5;124;03mformat string.\"\"\"\u001b[39;00m\n\u001b[1;32m--> 568\u001b[0m tt, fraction, gmtoff_fraction \u001b[38;5;241m=\u001b[39m \u001b[43m_strptime\u001b[49m\u001b[43m(\u001b[49m\u001b[43mdata_string\u001b[49m\u001b[43m,\u001b[49m\u001b[43m \u001b[49m\u001b[38;5;28;43mformat\u001b[39;49m\u001b[43m)\u001b[49m\n\u001b[0;32m    569\u001b[0m tzname, gmtoff \u001b[38;5;241m=\u001b[39m tt[\u001b[38;5;241m-\u001b[39m\u001b[38;5;241m2\u001b[39m:]\n",
      "File \u001b[1;32m~\\anaconda3\\envs\\env_langchain\\lib\\_strptime.py:349\u001b[0m, in \u001b[0;36m_strptime\u001b[1;34m(data_string, format)\u001b[0m\n\u001b[0;32m    348\u001b[0m \u001b[38;5;28;01mif\u001b[39;00m \u001b[38;5;129;01mnot\u001b[39;00m found:\n\u001b[1;32m--> 349\u001b[0m     \u001b[38;5;28;01mraise\u001b[39;00m \u001b[38;5;167;01mValueError\u001b[39;00m(\u001b[38;5;124m\"\u001b[39m\u001b[38;5;124mtime data \u001b[39m\u001b[38;5;132;01m%r\u001b[39;00m\u001b[38;5;124m does not match format \u001b[39m\u001b[38;5;132;01m%r\u001b[39;00m\u001b[38;5;124m\"\u001b[39m \u001b[38;5;241m%\u001b[39m\n\u001b[0;32m    350\u001b[0m                      (data_string, \u001b[38;5;28mformat\u001b[39m))\n\u001b[0;32m    351\u001b[0m \u001b[38;5;28;01mif\u001b[39;00m \u001b[38;5;28mlen\u001b[39m(data_string) \u001b[38;5;241m!=\u001b[39m found\u001b[38;5;241m.\u001b[39mend():\n",
      "\u001b[1;31mValueError\u001b[0m: time data 'The 13th Amendment was ratified in the US on December 6, 1865.\\n\\nThe datetime string that matches the given pattern is: \"1865-12-06T00:00:00.000000Z\"' does not match format '%Y-%m-%dT%H:%M:%S.%fZ'",
      "\nThe above exception was the direct cause of the following exception:\n",
      "\u001b[1;31mOutputParserException\u001b[0m                     Traceback (most recent call last)",
      "Cell \u001b[1;32mIn[29], line 1\u001b[0m\n\u001b[1;32m----> 1\u001b[0m \u001b[43moutput_parser\u001b[49m\u001b[38;5;241;43m.\u001b[39;49m\u001b[43mparse\u001b[49m\u001b[43m(\u001b[49m\u001b[43mresult\u001b[49m\u001b[38;5;241;43m.\u001b[39;49m\u001b[43mcontent\u001b[49m\u001b[43m)\u001b[49m\n",
      "File \u001b[1;32m~\\anaconda3\\envs\\env_langchain\\lib\\site-packages\\langchain\\output_parsers\\datetime.py:47\u001b[0m, in \u001b[0;36mDatetimeOutputParser.parse\u001b[1;34m(self, response)\u001b[0m\n\u001b[0;32m     45\u001b[0m     \u001b[38;5;28;01mreturn\u001b[39;00m datetime\u001b[38;5;241m.\u001b[39mstrptime(response\u001b[38;5;241m.\u001b[39mstrip(), \u001b[38;5;28mself\u001b[39m\u001b[38;5;241m.\u001b[39mformat)\n\u001b[0;32m     46\u001b[0m \u001b[38;5;28;01mexcept\u001b[39;00m \u001b[38;5;167;01mValueError\u001b[39;00m \u001b[38;5;28;01mas\u001b[39;00m e:\n\u001b[1;32m---> 47\u001b[0m     \u001b[38;5;28;01mraise\u001b[39;00m OutputParserException(\n\u001b[0;32m     48\u001b[0m         \u001b[38;5;124mf\u001b[39m\u001b[38;5;124m\"\u001b[39m\u001b[38;5;124mCould not parse datetime string: \u001b[39m\u001b[38;5;132;01m{\u001b[39;00mresponse\u001b[38;5;132;01m}\u001b[39;00m\u001b[38;5;124m\"\u001b[39m\n\u001b[0;32m     49\u001b[0m     ) \u001b[38;5;28;01mfrom\u001b[39;00m \u001b[38;5;21;01me\u001b[39;00m\n",
      "\u001b[1;31mOutputParserException\u001b[0m: Could not parse datetime string: The 13th Amendment was ratified in the US on December 6, 1865.\n\nThe datetime string that matches the given pattern is: \"1865-12-06T00:00:00.000000Z\""
     ]
    }
   ],
   "source": [
    "output_parser.parse(result.content)"
   ]
  },
  {
   "cell_type": "markdown",
   "id": "1ca35a78",
   "metadata": {},
   "source": [
    "### Fixing the Output"
   ]
  },
  {
   "cell_type": "markdown",
   "id": "945363eb",
   "metadata": {},
   "source": [
    "#### Method 1: System Prompt"
   ]
  },
  {
   "cell_type": "code",
   "execution_count": 30,
   "id": "7e8fa816",
   "metadata": {},
   "outputs": [],
   "source": [
    "system_template = \"You always reply to questions only in datetime patterns.\"\n",
    "system_message_prompt = SystemMessagePromptTemplate.from_template(system_template)"
   ]
  },
  {
   "cell_type": "code",
   "execution_count": 31,
   "id": "0f2fbeef",
   "metadata": {},
   "outputs": [],
   "source": [
    "human_template = \"{request}\\n{format_instructions}\"\n",
    "human_message_prompt = HumanMessagePromptTemplate.from_template(human_template)"
   ]
  },
  {
   "cell_type": "code",
   "execution_count": 32,
   "id": "eb33676b",
   "metadata": {},
   "outputs": [],
   "source": [
    "chat_prompt = ChatPromptTemplate.from_messages([system_message_prompt, human_message_prompt])"
   ]
  },
  {
   "cell_type": "code",
   "execution_count": 33,
   "id": "f3350e24",
   "metadata": {},
   "outputs": [],
   "source": [
    "model_request = chat_prompt.format_prompt(\n",
    "    request=\"What date was the 13th Amendment ratified in the US?\",\n",
    "    format_instructions=output_parser.get_format_instructions()).to_messages()"
   ]
  },
  {
   "cell_type": "code",
   "execution_count": 34,
   "id": "10e71898",
   "metadata": {},
   "outputs": [],
   "source": [
    "result = model(model_request, temperature=0)"
   ]
  },
  {
   "cell_type": "code",
   "execution_count": 35,
   "id": "753cc2b3",
   "metadata": {},
   "outputs": [
    {
     "name": "stdout",
     "output_type": "stream",
     "text": [
      "1865-12-06T00:00:00.000000Z\n"
     ]
    }
   ],
   "source": [
    "print(result.content)"
   ]
  },
  {
   "cell_type": "code",
   "execution_count": 36,
   "id": "b9245377",
   "metadata": {},
   "outputs": [
    {
     "data": {
      "text/plain": [
       "datetime.datetime(1865, 12, 6, 0, 0)"
      ]
     },
     "execution_count": 36,
     "metadata": {},
     "output_type": "execute_result"
    }
   ],
   "source": [
    "output_parser.parse(result.content)"
   ]
  },
  {
   "cell_type": "markdown",
   "id": "ce78f4d2",
   "metadata": {},
   "source": [
    "#### Method 2: Output Fixing Parser"
   ]
  },
  {
   "cell_type": "code",
   "execution_count": 37,
   "id": "91a0721d",
   "metadata": {},
   "outputs": [],
   "source": [
    "from langchain.output_parsers import OutputFixingParser"
   ]
  },
  {
   "cell_type": "code",
   "execution_count": 38,
   "id": "bc7a689c",
   "metadata": {},
   "outputs": [],
   "source": [
    "system_template = \"You always reply to questions only in datetime patterns.\"\n",
    "system_message_prompt = SystemMessagePromptTemplate.from_template(system_template)"
   ]
  },
  {
   "cell_type": "code",
   "execution_count": 39,
   "id": "a9ddf2d4",
   "metadata": {},
   "outputs": [],
   "source": [
    "human_template = \"{request}\\n{format_instructions}\"\n",
    "human_message_prompt = HumanMessagePromptTemplate.from_template(human_template)"
   ]
  },
  {
   "cell_type": "code",
   "execution_count": 40,
   "id": "ecc854e6",
   "metadata": {},
   "outputs": [],
   "source": [
    "chat_prompt = ChatPromptTemplate.from_messages([system_message_prompt, human_message_prompt])"
   ]
  },
  {
   "cell_type": "code",
   "execution_count": 41,
   "id": "cb2e389a",
   "metadata": {},
   "outputs": [],
   "source": [
    "model_request = chat_prompt.format_prompt(\n",
    "    request=\"What date was the 13th Amendment ratified in the US?\",\n",
    "    format_instructions=output_parser.get_format_instructions()).to_messages()"
   ]
  },
  {
   "cell_type": "code",
   "execution_count": 42,
   "id": "f087ae4c",
   "metadata": {},
   "outputs": [],
   "source": [
    "result = model(model_request, temperature=0)"
   ]
  },
  {
   "cell_type": "code",
   "execution_count": 43,
   "id": "6ec417b5",
   "metadata": {},
   "outputs": [
    {
     "name": "stdout",
     "output_type": "stream",
     "text": [
      "1865-12-06T00:00:00.000000Z\n"
     ]
    }
   ],
   "source": [
    "print(result.content)"
   ]
  },
  {
   "cell_type": "code",
   "execution_count": 44,
   "id": "ad070935",
   "metadata": {},
   "outputs": [
    {
     "data": {
      "text/plain": [
       "'1865-12-06T00:00:00.000000Z'"
      ]
     },
     "execution_count": 44,
     "metadata": {},
     "output_type": "execute_result"
    }
   ],
   "source": [
    "misformatted = result.content\n",
    "misformatted"
   ]
  },
  {
   "cell_type": "code",
   "execution_count": 45,
   "id": "97878fb9",
   "metadata": {},
   "outputs": [
    {
     "data": {
      "text/plain": [
       "datetime.datetime(1865, 12, 6, 0, 0)"
      ]
     },
     "execution_count": 45,
     "metadata": {},
     "output_type": "execute_result"
    }
   ],
   "source": [
    "output_fixing_parser = OutputFixingParser.from_llm(parser=output_parser, llm=model)\n",
    "output_fixing_parser.parse(misformatted)"
   ]
  },
  {
   "cell_type": "markdown",
   "id": "347a0697",
   "metadata": {},
   "source": [
    "## Pyandtic Parser"
   ]
  },
  {
   "cell_type": "code",
   "execution_count": 46,
   "id": "de35aa1a",
   "metadata": {},
   "outputs": [],
   "source": [
    "from langchain.output_parsers import PydanticOutputParser"
   ]
  },
  {
   "cell_type": "code",
   "execution_count": 47,
   "id": "9521e9e8",
   "metadata": {},
   "outputs": [],
   "source": [
    "from pydantic import BaseModel, Field"
   ]
  },
  {
   "cell_type": "code",
   "execution_count": 48,
   "id": "1d70caf4",
   "metadata": {},
   "outputs": [],
   "source": [
    "class Scientist(BaseModel):\n",
    "    \n",
    "    name: str = Field(description=\"Name of a Scientist\")\n",
    "    discoveries: list = Field(description=\"Python list of discoveries\")"
   ]
  },
  {
   "cell_type": "code",
   "execution_count": 49,
   "id": "ea6a6d2b",
   "metadata": {},
   "outputs": [],
   "source": [
    "parser = PydanticOutputParser(pydantic_object=Scientist)"
   ]
  },
  {
   "cell_type": "code",
   "execution_count": 50,
   "id": "b73b73dd",
   "metadata": {},
   "outputs": [
    {
     "name": "stdout",
     "output_type": "stream",
     "text": [
      "The output should be formatted as a JSON instance that conforms to the JSON schema below.\n",
      "\n",
      "As an example, for the schema {\"properties\": {\"foo\": {\"title\": \"Foo\", \"description\": \"a list of strings\", \"type\": \"array\", \"items\": {\"type\": \"string\"}}}, \"required\": [\"foo\"]}\n",
      "the object {\"foo\": [\"bar\", \"baz\"]} is a well-formatted instance of the schema. The object {\"properties\": {\"foo\": [\"bar\", \"baz\"]}} is not well-formatted.\n",
      "\n",
      "Here is the output schema:\n",
      "```\n",
      "{\"properties\": {\"name\": {\"description\": \"Name of a Scientist\", \"title\": \"Name\", \"type\": \"string\"}, \"discoveries\": {\"description\": \"Python list of discoveries\", \"items\": {}, \"title\": \"Discoveries\", \"type\": \"array\"}}, \"required\": [\"name\", \"discoveries\"]}\n",
      "```\n"
     ]
    }
   ],
   "source": [
    "print(parser.get_format_instructions())"
   ]
  },
  {
   "cell_type": "code",
   "execution_count": 51,
   "id": "462619d8",
   "metadata": {},
   "outputs": [],
   "source": [
    "human_template = \"{request}\\n{format_instructions}\"\n",
    "human_message_prompt = HumanMessagePromptTemplate.from_template(human_template)"
   ]
  },
  {
   "cell_type": "code",
   "execution_count": 52,
   "id": "3ee19199",
   "metadata": {},
   "outputs": [],
   "source": [
    "chat_prompt = ChatPromptTemplate.from_messages([human_message_prompt])"
   ]
  },
  {
   "cell_type": "code",
   "execution_count": 53,
   "id": "2fb4acde",
   "metadata": {},
   "outputs": [],
   "source": [
    "model_request = chat_prompt.format_prompt(\n",
    "    request=\"Tell me about a famous scientist\",\n",
    "    format_instructions=parser.get_format_instructions()\n",
    ").to_messages()"
   ]
  },
  {
   "cell_type": "code",
   "execution_count": 54,
   "id": "ef49ccf9",
   "metadata": {},
   "outputs": [],
   "source": [
    "result = model(model_request, temperature=0)"
   ]
  },
  {
   "cell_type": "code",
   "execution_count": 55,
   "id": "54fd0634",
   "metadata": {},
   "outputs": [
    {
     "data": {
      "text/plain": [
       "'{\"name\": \"Albert Einstein\", \"discoveries\": [\"Theory of Relativity\", \"Photoelectric Effect\"]}'"
      ]
     },
     "execution_count": 55,
     "metadata": {},
     "output_type": "execute_result"
    }
   ],
   "source": [
    "result.content"
   ]
  },
  {
   "cell_type": "code",
   "execution_count": 56,
   "id": "120200c5",
   "metadata": {},
   "outputs": [
    {
     "data": {
      "text/plain": [
       "Scientist(name='Albert Einstein', discoveries=['Theory of Relativity', 'Photoelectric Effect'])"
      ]
     },
     "execution_count": 56,
     "metadata": {},
     "output_type": "execute_result"
    }
   ],
   "source": [
    "parser.parse(result.content)"
   ]
  },
  {
   "cell_type": "code",
   "execution_count": null,
   "id": "2de4db46",
   "metadata": {},
   "outputs": [],
   "source": []
  }
 ],
 "metadata": {
  "kernelspec": {
   "display_name": "Python 3 (ipykernel)",
   "language": "python",
   "name": "python3"
  },
  "language_info": {
   "codemirror_mode": {
    "name": "ipython",
    "version": 3
   },
   "file_extension": ".py",
   "mimetype": "text/x-python",
   "name": "python",
   "nbconvert_exporter": "python",
   "pygments_lexer": "ipython3",
   "version": "3.10.12"
  }
 },
 "nbformat": 4,
 "nbformat_minor": 5
}
