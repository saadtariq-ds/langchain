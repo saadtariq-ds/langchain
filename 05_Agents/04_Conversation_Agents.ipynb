{
 "cells": [
  {
   "cell_type": "markdown",
   "id": "ece0ea4f",
   "metadata": {},
   "source": [
    "# LangChain - Conversational Agents"
   ]
  },
  {
   "cell_type": "code",
   "execution_count": 1,
   "id": "7af0f391",
   "metadata": {},
   "outputs": [],
   "source": [
    "from langchain.agents import load_tools, initialize_agent, AgentType\n",
    "from langchain.chat_models import ChatOpenAI\n",
    "from langchain.llms import OpenAI"
   ]
  },
  {
   "cell_type": "code",
   "execution_count": 2,
   "id": "91940999",
   "metadata": {},
   "outputs": [],
   "source": [
    "api_key = open('../../api_key.txt').read()"
   ]
  },
  {
   "cell_type": "code",
   "execution_count": 3,
   "id": "fe93503d",
   "metadata": {},
   "outputs": [],
   "source": [
    "llm = ChatOpenAI(openai_api_key=api_key, temperature=0)"
   ]
  },
  {
   "cell_type": "markdown",
   "id": "94cb6765",
   "metadata": {},
   "source": [
    "## Conversational Agent"
   ]
  },
  {
   "cell_type": "code",
   "execution_count": 4,
   "id": "025969cc",
   "metadata": {},
   "outputs": [],
   "source": [
    "from langchain.memory import ConversationBufferMemory"
   ]
  },
  {
   "cell_type": "code",
   "execution_count": 5,
   "id": "52e13e0f",
   "metadata": {},
   "outputs": [],
   "source": [
    "memory = ConversationBufferMemory(memory_key='chat_history')"
   ]
  },
  {
   "cell_type": "code",
   "execution_count": 6,
   "id": "04ec1362",
   "metadata": {},
   "outputs": [],
   "source": [
    "tools = load_tools(['llm-math'],llm=llm)"
   ]
  },
  {
   "cell_type": "code",
   "execution_count": 7,
   "id": "60cec84f",
   "metadata": {},
   "outputs": [],
   "source": [
    "agent = initialize_agent(tools=tools, \n",
    "                         llm=llm, \n",
    "                         agent=AgentType.CONVERSATIONAL_REACT_DESCRIPTION,\n",
    "                         verbose=True, \n",
    "                         memory=memory)"
   ]
  },
  {
   "cell_type": "code",
   "execution_count": 8,
   "id": "e0ff42f5",
   "metadata": {},
   "outputs": [
    {
     "name": "stdout",
     "output_type": "stream",
     "text": [
      "\n",
      "\n",
      "\u001b[1m> Entering new AgentExecutor chain...\u001b[0m\n",
      "\u001b[32;1m\u001b[1;3mThought: Do I need to use a tool? No\n",
      "AI: Sure! Here are a few popular Chinese food recipes that you might enjoy:\n",
      "\n",
      "1. Kung Pao Chicken: This is a classic Sichuan dish that combines tender chicken, peanuts, and vegetables in a spicy sauce.\n",
      "\n",
      "2. Sweet and Sour Pork: This dish features crispy pork pieces coated in a tangy sauce with a perfect balance of sweet and sour flavors.\n",
      "\n",
      "3. Mapo Tofu: A spicy and flavorful dish made with tofu, minced meat, and a spicy bean paste sauce. It's a popular Sichuan dish known for its numbing and spicy flavors.\n",
      "\n",
      "4. General Tso's Chicken: This dish consists of crispy chicken pieces coated in a sweet and tangy sauce. It's a favorite in many Chinese-American restaurants.\n",
      "\n",
      "5. Dumplings: Dumplings are a staple in Chinese cuisine and can be filled with various ingredients like pork, shrimp, or vegetables. They can be steamed, boiled, or pan-fried.\n",
      "\n",
      "These are just a few examples, but there are countless delicious Chinese recipes to explore. Enjoy cooking and experimenting with different flavors!\u001b[0m\n",
      "\n",
      "\u001b[1m> Finished chain.\u001b[0m\n"
     ]
    },
    {
     "data": {
      "text/plain": [
       "\"Sure! Here are a few popular Chinese food recipes that you might enjoy:\\n\\n1. Kung Pao Chicken: This is a classic Sichuan dish that combines tender chicken, peanuts, and vegetables in a spicy sauce.\\n\\n2. Sweet and Sour Pork: This dish features crispy pork pieces coated in a tangy sauce with a perfect balance of sweet and sour flavors.\\n\\n3. Mapo Tofu: A spicy and flavorful dish made with tofu, minced meat, and a spicy bean paste sauce. It's a popular Sichuan dish known for its numbing and spicy flavors.\\n\\n4. General Tso's Chicken: This dish consists of crispy chicken pieces coated in a sweet and tangy sauce. It's a favorite in many Chinese-American restaurants.\\n\\n5. Dumplings: Dumplings are a staple in Chinese cuisine and can be filled with various ingredients like pork, shrimp, or vegetables. They can be steamed, boiled, or pan-fried.\\n\\nThese are just a few examples, but there are countless delicious Chinese recipes to explore. Enjoy cooking and experimenting with different flavors!\""
      ]
     },
     "execution_count": 8,
     "metadata": {},
     "output_type": "execute_result"
    }
   ],
   "source": [
    "agent.run(input=\"What are some good Chinese Food Recipe\")"
   ]
  },
  {
   "cell_type": "code",
   "execution_count": 9,
   "id": "3c817f07",
   "metadata": {},
   "outputs": [
    {
     "name": "stdout",
     "output_type": "stream",
     "text": [
      "\n",
      "\n",
      "\u001b[1m> Entering new AgentExecutor chain...\u001b[0m\n",
      "\u001b[32;1m\u001b[1;3mThought: Do I need to use a tool? No\n",
      "AI: Among the dishes I mentioned, Kung Pao Chicken and Mapo Tofu are known for their spiciness. Both dishes originate from Sichuan cuisine, which is famous for its bold and fiery flavors. Mapo Tofu, in particular, is known for its numbing and spicy flavors due to the use of Sichuan peppercorns and spicy bean paste. However, the level of spiciness can vary depending on personal preferences and the specific recipe used. If you enjoy spicy food, you might want to give these dishes a try!\u001b[0m\n",
      "\n",
      "\u001b[1m> Finished chain.\u001b[0m\n"
     ]
    },
    {
     "data": {
      "text/plain": [
       "'Among the dishes I mentioned, Kung Pao Chicken and Mapo Tofu are known for their spiciness. Both dishes originate from Sichuan cuisine, which is famous for its bold and fiery flavors. Mapo Tofu, in particular, is known for its numbing and spicy flavors due to the use of Sichuan peppercorns and spicy bean paste. However, the level of spiciness can vary depending on personal preferences and the specific recipe used. If you enjoy spicy food, you might want to give these dishes a try!'"
      ]
     },
     "execution_count": 9,
     "metadata": {},
     "output_type": "execute_result"
    }
   ],
   "source": [
    "agent.run(input=\"Which one of those dishes tends to be the spiceiest?\")"
   ]
  },
  {
   "cell_type": "code",
   "execution_count": 10,
   "id": "019a3526",
   "metadata": {},
   "outputs": [
    {
     "name": "stdout",
     "output_type": "stream",
     "text": [
      "\n",
      "\n",
      "\u001b[1m> Entering new AgentExecutor chain...\u001b[0m\n",
      "\u001b[32;1m\u001b[1;3mThought: Do I need to use a tool? No\n",
      "AI: Sure! Here's a grocery shopping list for Kung Pao Chicken:\n",
      "\n",
      "- Chicken breast or thigh\n",
      "- Peanuts\n",
      "- Bell peppers (red and green)\n",
      "- Dried red chili peppers\n",
      "- Garlic\n",
      "- Ginger\n",
      "- Soy sauce\n",
      "- Vinegar (rice vinegar or black vinegar)\n",
      "- Sugar\n",
      "- Cornstarch\n",
      "- Vegetable oil\n",
      "\n",
      "You can adjust the quantities based on the number of servings you plan to make. Enjoy cooking your Kung Pao Chicken!\u001b[0m\n",
      "\n",
      "\u001b[1m> Finished chain.\u001b[0m\n"
     ]
    },
    {
     "data": {
      "text/plain": [
       "\"Sure! Here's a grocery shopping list for Kung Pao Chicken:\\n\\n- Chicken breast or thigh\\n- Peanuts\\n- Bell peppers (red and green)\\n- Dried red chili peppers\\n- Garlic\\n- Ginger\\n- Soy sauce\\n- Vinegar (rice vinegar or black vinegar)\\n- Sugar\\n- Cornstarch\\n- Vegetable oil\\n\\nYou can adjust the quantities based on the number of servings you plan to make. Enjoy cooking your Kung Pao Chicken!\""
      ]
     },
     "execution_count": 10,
     "metadata": {},
     "output_type": "execute_result"
    }
   ],
   "source": [
    "agent.run(\"Give me a grocery shopping list for that dish\")"
   ]
  },
  {
   "cell_type": "code",
   "execution_count": null,
   "id": "be9e4d2f",
   "metadata": {},
   "outputs": [],
   "source": []
  }
 ],
 "metadata": {
  "kernelspec": {
   "display_name": "Python 3 (ipykernel)",
   "language": "python",
   "name": "python3"
  },
  "language_info": {
   "codemirror_mode": {
    "name": "ipython",
    "version": 3
   },
   "file_extension": ".py",
   "mimetype": "text/x-python",
   "name": "python",
   "nbconvert_exporter": "python",
   "pygments_lexer": "ipython3",
   "version": "3.10.12"
  }
 },
 "nbformat": 4,
 "nbformat_minor": 5
}
