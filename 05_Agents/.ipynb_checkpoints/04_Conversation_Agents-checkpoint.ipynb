{
 "cells": [
  {
   "cell_type": "markdown",
   "id": "ece0ea4f",
   "metadata": {},
   "source": [
    "# LangChain - Conversational Agents"
   ]
  },
  {
   "cell_type": "code",
   "execution_count": 1,
   "id": "7af0f391",
   "metadata": {},
   "outputs": [],
   "source": [
    "from langchain.agents import load_tools, initialize_agent, AgentType\n",
    "from langchain.chat_models import ChatOpenAI\n",
    "from langchain.llms import OpenAI"
   ]
  },
  {
   "cell_type": "code",
   "execution_count": 2,
   "id": "91940999",
   "metadata": {},
   "outputs": [],
   "source": [
    "api_key = open('../../api_key.txt').read()"
   ]
  },
  {
   "cell_type": "code",
   "execution_count": 3,
   "id": "fe93503d",
   "metadata": {},
   "outputs": [],
   "source": [
    "llm = ChatOpenAI(openai_api_key=api_key, temperature=0)"
   ]
  },
  {
   "cell_type": "markdown",
   "id": "94cb6765",
   "metadata": {},
   "source": [
    "## Conversational Agent"
   ]
  },
  {
   "cell_type": "code",
   "execution_count": 4,
   "id": "025969cc",
   "metadata": {},
   "outputs": [],
   "source": [
    "from langchain.memory import ConversationBufferMemory"
   ]
  },
  {
   "cell_type": "code",
   "execution_count": 5,
   "id": "52e13e0f",
   "metadata": {},
   "outputs": [],
   "source": [
    "memory = ConversationBufferMemory(memory_key='chat_history')"
   ]
  },
  {
   "cell_type": "code",
   "execution_count": 6,
   "id": "04ec1362",
   "metadata": {},
   "outputs": [],
   "source": [
    "tools = load_tools(['llm-math'],llm=llm)"
   ]
  },
  {
   "cell_type": "code",
   "execution_count": 7,
   "id": "60cec84f",
   "metadata": {},
   "outputs": [],
   "source": [
    "agent = initialize_agent(tools=tools, \n",
    "                         llm=llm, \n",
    "                         agent=AgentType.CONVERSATIONAL_REACT_DESCRIPTION,\n",
    "                         verbose=True, \n",
    "                         memory=memory)"
   ]
  },
  {
   "cell_type": "code",
   "execution_count": 8,
   "id": "e0ff42f5",
   "metadata": {},
   "outputs": [
    {
     "name": "stdout",
     "output_type": "stream",
     "text": [
      "\n",
      "\n",
      "\u001b[1m> Entering new AgentExecutor chain...\u001b[0m\n",
      "\u001b[32;1m\u001b[1;3mThought: Do I need to use a tool? No\n",
      "AI: Chinese cuisine offers a wide variety of delicious dishes. Here are a few popular Chinese food recipes you might enjoy:\n",
      "\n",
      "1. Kung Pao Chicken: This dish features diced chicken stir-fried with peanuts, vegetables, and a spicy sauce.\n",
      "\n",
      "2. Sweet and Sour Pork: Tender pieces of pork are coated in a tangy sauce made with vinegar, sugar, and ketchup, then stir-fried with bell peppers, onions, and pineapple.\n",
      "\n",
      "3. Mapo Tofu: A spicy and flavorful dish made with soft tofu, ground pork, and a sauce made from fermented black beans, chili bean paste, and Sichuan peppercorns.\n",
      "\n",
      "4. General Tso's Chicken: Crispy chicken pieces are coated in a sweet and tangy sauce made with soy sauce, vinegar, sugar, and chili peppers.\n",
      "\n",
      "5. Dumplings: These are a staple in Chinese cuisine and can be filled with various ingredients such as pork, shrimp, or vegetables. They can be steamed, boiled, or pan-fried.\n",
      "\n",
      "These are just a few examples, but there are many more delicious Chinese food recipes to explore. Enjoy cooking and trying out new flavors! Let me know if you need any more information or specific recipes.\u001b[0m\n",
      "\n",
      "\u001b[1m> Finished chain.\u001b[0m\n"
     ]
    },
    {
     "data": {
      "text/plain": [
       "\"Chinese cuisine offers a wide variety of delicious dishes. Here are a few popular Chinese food recipes you might enjoy:\\n\\n1. Kung Pao Chicken: This dish features diced chicken stir-fried with peanuts, vegetables, and a spicy sauce.\\n\\n2. Sweet and Sour Pork: Tender pieces of pork are coated in a tangy sauce made with vinegar, sugar, and ketchup, then stir-fried with bell peppers, onions, and pineapple.\\n\\n3. Mapo Tofu: A spicy and flavorful dish made with soft tofu, ground pork, and a sauce made from fermented black beans, chili bean paste, and Sichuan peppercorns.\\n\\n4. General Tso's Chicken: Crispy chicken pieces are coated in a sweet and tangy sauce made with soy sauce, vinegar, sugar, and chili peppers.\\n\\n5. Dumplings: These are a staple in Chinese cuisine and can be filled with various ingredients such as pork, shrimp, or vegetables. They can be steamed, boiled, or pan-fried.\\n\\nThese are just a few examples, but there are many more delicious Chinese food recipes to explore. Enjoy cooking and trying out new flavors! Let me know if you need any more information or specific recipes.\""
      ]
     },
     "execution_count": 8,
     "metadata": {},
     "output_type": "execute_result"
    }
   ],
   "source": [
    "agent.run(input=\"What are some good Chinese Food Recipe\")"
   ]
  },
  {
   "cell_type": "code",
   "execution_count": 9,
   "id": "3c817f07",
   "metadata": {},
   "outputs": [
    {
     "name": "stdout",
     "output_type": "stream",
     "text": [
      "\n",
      "\n",
      "\u001b[1m> Entering new AgentExecutor chain...\u001b[0m\n",
      "\u001b[32;1m\u001b[1;3mThought: Do I need to use a tool? No\n",
      "AI: Among the dishes I mentioned, Mapo Tofu tends to be the spiciest. It is a Sichuan dish known for its bold and fiery flavors. The sauce is made with fermented black beans, chili bean paste, and Sichuan peppercorns, which give it a numbing and spicy taste. However, the level of spiciness can vary depending on personal preference and the amount of chili used in the recipe. If you enjoy spicy food, Mapo Tofu is definitely worth trying!\u001b[0m\n",
      "\n",
      "\u001b[1m> Finished chain.\u001b[0m\n"
     ]
    },
    {
     "data": {
      "text/plain": [
       "'Among the dishes I mentioned, Mapo Tofu tends to be the spiciest. It is a Sichuan dish known for its bold and fiery flavors. The sauce is made with fermented black beans, chili bean paste, and Sichuan peppercorns, which give it a numbing and spicy taste. However, the level of spiciness can vary depending on personal preference and the amount of chili used in the recipe. If you enjoy spicy food, Mapo Tofu is definitely worth trying!'"
      ]
     },
     "execution_count": 9,
     "metadata": {},
     "output_type": "execute_result"
    }
   ],
   "source": [
    "agent.run(input=\"Which one of those dishes tends to be the spiceiest?\")"
   ]
  },
  {
   "cell_type": "code",
   "execution_count": 10,
   "id": "019a3526",
   "metadata": {},
   "outputs": [
    {
     "name": "stdout",
     "output_type": "stream",
     "text": [
      "\n",
      "\n",
      "\u001b[1m> Entering new AgentExecutor chain...\u001b[0m\n",
      "\u001b[32;1m\u001b[1;3mThought: Do I need to use a tool? No\n",
      "AI: Sure! Here's a grocery shopping list for Mapo Tofu:\n",
      "\n",
      "- Soft tofu\n",
      "- Ground pork\n",
      "- Fermented black beans\n",
      "- Chili bean paste (also known as doubanjiang)\n",
      "- Sichuan peppercorns\n",
      "- Garlic\n",
      "- Ginger\n",
      "- Green onions\n",
      "- Vegetable oil\n",
      "- Soy sauce\n",
      "- Shaoxing wine (optional)\n",
      "- Chicken broth or water\n",
      "- Cornstarch (for thickening the sauce)\n",
      "\n",
      "These are the main ingredients you'll need to make Mapo Tofu. You may also want to have some rice or noodles on hand to serve with the dish. Enjoy your cooking! Let me know if you need any more information.\u001b[0m\n",
      "\n",
      "\u001b[1m> Finished chain.\u001b[0m\n"
     ]
    },
    {
     "data": {
      "text/plain": [
       "\"Sure! Here's a grocery shopping list for Mapo Tofu:\\n\\n- Soft tofu\\n- Ground pork\\n- Fermented black beans\\n- Chili bean paste (also known as doubanjiang)\\n- Sichuan peppercorns\\n- Garlic\\n- Ginger\\n- Green onions\\n- Vegetable oil\\n- Soy sauce\\n- Shaoxing wine (optional)\\n- Chicken broth or water\\n- Cornstarch (for thickening the sauce)\\n\\nThese are the main ingredients you'll need to make Mapo Tofu. You may also want to have some rice or noodles on hand to serve with the dish. Enjoy your cooking! Let me know if you need any more information.\""
      ]
     },
     "execution_count": 10,
     "metadata": {},
     "output_type": "execute_result"
    }
   ],
   "source": [
    "agent.run(\"Give me a grocery shopping list for that dish\")"
   ]
  },
  {
   "cell_type": "code",
   "execution_count": null,
   "id": "be9e4d2f",
   "metadata": {},
   "outputs": [],
   "source": []
  }
 ],
 "metadata": {
  "kernelspec": {
   "display_name": "Python 3 (ipykernel)",
   "language": "python",
   "name": "python3"
  },
  "language_info": {
   "codemirror_mode": {
    "name": "ipython",
    "version": 3
   },
   "file_extension": ".py",
   "mimetype": "text/x-python",
   "name": "python",
   "nbconvert_exporter": "python",
   "pygments_lexer": "ipython3",
   "version": "3.8.10"
  }
 },
 "nbformat": 4,
 "nbformat_minor": 5
}
