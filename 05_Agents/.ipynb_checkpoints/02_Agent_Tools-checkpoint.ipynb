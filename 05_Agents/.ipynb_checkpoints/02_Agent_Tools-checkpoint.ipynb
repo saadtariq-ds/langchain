{
 "cells": [
  {
   "cell_type": "markdown",
   "id": "f9194647",
   "metadata": {},
   "source": [
    "# LangChain - Agent Tools"
   ]
  },
  {
   "cell_type": "code",
   "execution_count": 1,
   "id": "046fe676",
   "metadata": {},
   "outputs": [],
   "source": [
    "import os\n",
    "from langchain.agents import load_tools, initialize_agent, AgentType\n",
    "from langchain.chat_models import ChatOpenAI\n",
    "from langchain.llms import OpenAI"
   ]
  },
  {
   "cell_type": "code",
   "execution_count": 2,
   "id": "11bae3a1",
   "metadata": {},
   "outputs": [],
   "source": [
    "from langchain.utilities import SerpAPIWrapper"
   ]
  },
  {
   "cell_type": "code",
   "execution_count": 3,
   "id": "49678300",
   "metadata": {},
   "outputs": [],
   "source": [
    "serp_api_key = open('../../serp_api_key.txt').read()\n",
    "api_key = open('../../api_key.txt').read()"
   ]
  },
  {
   "cell_type": "code",
   "execution_count": 4,
   "id": "8fa0e27e",
   "metadata": {},
   "outputs": [],
   "source": [
    "llm = ChatOpenAI(openai_api_key=api_key, temperature=0)"
   ]
  },
  {
   "cell_type": "code",
   "execution_count": 5,
   "id": "9432b0c0",
   "metadata": {},
   "outputs": [],
   "source": [
    "os.environ['SERPAPI_API_KEY'] = serp_api_key"
   ]
  },
  {
   "cell_type": "code",
   "execution_count": 6,
   "id": "65ad5fb2",
   "metadata": {},
   "outputs": [],
   "source": [
    "tools = load_tools(['serpapi', 'llm-math'], llm=llm)"
   ]
  },
  {
   "cell_type": "code",
   "execution_count": 7,
   "id": "441e5718",
   "metadata": {},
   "outputs": [],
   "source": [
    "agent = initialize_agent(tools=tools, \n",
    "                         llm=llm, \n",
    "                         agent=AgentType.ZERO_SHOT_REACT_DESCRIPTION, \n",
    "                         verbose=True)"
   ]
  },
  {
   "cell_type": "code",
   "execution_count": 8,
   "id": "32cd65a0",
   "metadata": {},
   "outputs": [
    {
     "name": "stdout",
     "output_type": "stream",
     "text": [
      "\n",
      "\n",
      "\u001b[1m> Entering new AgentExecutor chain...\u001b[0m\n",
      "\u001b[32;1m\u001b[1;3mI can search for the year Albert Einstein was born and then use a calculator to multiply it by 5.\n",
      "Action: Search\n",
      "Action Input: \"Albert Einstein birth year\"\u001b[0m\n",
      "Observation: \u001b[36;1m\u001b[1;3mMarch 14, 1879\u001b[0m\n",
      "Thought:\u001b[32;1m\u001b[1;3mI now have the birth year of Albert Einstein. Now I can use a calculator to multiply it by 5.\n",
      "Action: Calculator\n",
      "Action Input: 1879 * 5\u001b[0m\n",
      "Observation: \u001b[33;1m\u001b[1;3mAnswer: 9395\u001b[0m\n",
      "Thought:\u001b[32;1m\u001b[1;3mI now know the final answer\n",
      "Final Answer: Albert Einstein was born in 1879 and when multiplied by 5, it equals 9395.\u001b[0m\n",
      "\n",
      "\u001b[1m> Finished chain.\u001b[0m\n"
     ]
    },
    {
     "data": {
      "text/plain": [
       "'Albert Einstein was born in 1879 and when multiplied by 5, it equals 9395.'"
      ]
     },
     "execution_count": 8,
     "metadata": {},
     "output_type": "execute_result"
    }
   ],
   "source": [
    "agent.run(\"What year was Albert Einstein born? What is the year multiplied by 5?\")"
   ]
  },
  {
   "cell_type": "markdown",
   "id": "4e4f0a60",
   "metadata": {},
   "source": [
    "## Python Agent Tool"
   ]
  },
  {
   "cell_type": "code",
   "execution_count": 9,
   "id": "4f97459a",
   "metadata": {},
   "outputs": [],
   "source": [
    "from langchain.tools.python.tool import PythonREPLTool\n",
    "from langchain.python import PythonREPL\n",
    "from langchain.agents.agent_toolkits import create_python_agent"
   ]
  },
  {
   "cell_type": "code",
   "execution_count": 10,
   "id": "d1bb3d2a",
   "metadata": {},
   "outputs": [],
   "source": [
    "llm = ChatOpenAI(openai_api_key=api_key, temperature=0)"
   ]
  },
  {
   "cell_type": "code",
   "execution_count": 11,
   "id": "3225cd3c",
   "metadata": {},
   "outputs": [],
   "source": [
    "agent = create_python_agent(tool=PythonREPLTool(), \n",
    "                            llm=llm, \n",
    "                            agent = AgentType.ZERO_SHOT_REACT_DESCRIPTION, \n",
    "                            verbose=True)"
   ]
  },
  {
   "cell_type": "code",
   "execution_count": 12,
   "id": "276100a4",
   "metadata": {},
   "outputs": [],
   "source": [
    "python_list = [1, 3, 2, 4, 1, 2, 3, 4, 1, 1, 2, 3, 5, 10]"
   ]
  },
  {
   "cell_type": "code",
   "execution_count": 13,
   "id": "bdf83390",
   "metadata": {},
   "outputs": [
    {
     "name": "stdout",
     "output_type": "stream",
     "text": [
      "\n",
      "\n",
      "\u001b[1m> Entering new AgentExecutor chain...\u001b[0m\n"
     ]
    },
    {
     "name": "stderr",
     "output_type": "stream",
     "text": [
      "Python REPL can execute arbitrary code. Use with caution.\n"
     ]
    },
    {
     "name": "stdout",
     "output_type": "stream",
     "text": [
      "\u001b[32;1m\u001b[1;3mI can use the `sorted()` function to sort the list.\n",
      "Action: Python_REPL\n",
      "Action Input: sorted([1, 3, 2, 4, 1, 2, 3, 4, 1, 1, 2, 3, 5, 10])\u001b[0m\n",
      "Observation: \u001b[36;1m\u001b[1;3m\u001b[0m\n",
      "Thought:\u001b[32;1m\u001b[1;3mThe list is sorted in ascending order.\n",
      "Final Answer: [1, 1, 1, 1, 2, 2, 2, 3, 3, 3, 4, 4, 5, 10]\u001b[0m\n",
      "\n",
      "\u001b[1m> Finished chain.\u001b[0m\n"
     ]
    },
    {
     "data": {
      "text/plain": [
       "'[1, 1, 1, 1, 2, 2, 2, 3, 3, 3, 4, 4, 5, 10]'"
      ]
     },
     "execution_count": 13,
     "metadata": {},
     "output_type": "execute_result"
    }
   ],
   "source": [
    "agent.run(f'''Sort this python list: {python_list}''')"
   ]
  },
  {
   "cell_type": "code",
   "execution_count": null,
   "id": "5e8153fc",
   "metadata": {},
   "outputs": [],
   "source": []
  }
 ],
 "metadata": {
  "kernelspec": {
   "display_name": "Python 3 (ipykernel)",
   "language": "python",
   "name": "python3"
  },
  "language_info": {
   "codemirror_mode": {
    "name": "ipython",
    "version": 3
   },
   "file_extension": ".py",
   "mimetype": "text/x-python",
   "name": "python",
   "nbconvert_exporter": "python",
   "pygments_lexer": "ipython3",
   "version": "3.10.12"
  }
 },
 "nbformat": 4,
 "nbformat_minor": 5
}
