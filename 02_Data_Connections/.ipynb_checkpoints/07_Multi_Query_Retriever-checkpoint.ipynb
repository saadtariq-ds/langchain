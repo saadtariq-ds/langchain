{
 "cells": [
  {
   "cell_type": "markdown",
   "id": "a6cd9ae8",
   "metadata": {},
   "source": [
    "# LangChain - MultiQuery Retriver"
   ]
  },
  {
   "cell_type": "code",
   "execution_count": 1,
   "id": "9f1c03c9",
   "metadata": {},
   "outputs": [],
   "source": [
    "from langchain.document_loaders import WikipediaLoader\n",
    "from langchain.text_splitter import CharacterTextSplitter\n",
    "from langchain.embeddings import OpenAIEmbeddings\n",
    "from langchain.vectorstores import Chroma\n",
    "from langchain.retrievers.multi_query import MultiQueryRetriever\n",
    "from langchain.chat_models import ChatOpenAI"
   ]
  },
  {
   "cell_type": "code",
   "execution_count": 2,
   "id": "8b55229e",
   "metadata": {},
   "outputs": [],
   "source": [
    "loader = WikipediaLoader(query='MKUltra')"
   ]
  },
  {
   "cell_type": "code",
   "execution_count": 3,
   "id": "516a94ca",
   "metadata": {},
   "outputs": [
    {
     "name": "stderr",
     "output_type": "stream",
     "text": [
      "C:\\Users\\tariq\\anaconda3\\envs\\langchain_env\\lib\\site-packages\\wikipedia\\wikipedia.py:389: GuessedAtParserWarning: No parser was explicitly specified, so I'm using the best available HTML parser for this system (\"lxml\"). This usually isn't a problem, but if you run this code on another system, or in a different virtual environment, it may use a different parser and behave differently.\n",
      "\n",
      "The code that caused this warning is on line 389 of the file C:\\Users\\tariq\\anaconda3\\envs\\langchain_env\\lib\\site-packages\\wikipedia\\wikipedia.py. To get rid of this warning, pass the additional argument 'features=\"lxml\"' to the BeautifulSoup constructor.\n",
      "\n",
      "  lis = BeautifulSoup(html).find_all('li')\n"
     ]
    }
   ],
   "source": [
    "documents = loader.load()"
   ]
  },
  {
   "cell_type": "code",
   "execution_count": 4,
   "id": "b808706d",
   "metadata": {},
   "outputs": [
    {
     "data": {
      "text/plain": [
       "[Document(page_content='Project MKUltra (or MK-Ultra) was an illegal human experimentation program designed and undertaken by the U.S. Central Intelligence Agency (CIA) and intended to develop procedures and identify drugs that could be used during interrogations to weaken people and force confessions through brainwashing and psychological torture. It began in 1953 and was halted in 1973. MKUltra used numerous methods to manipulate its subjects\\' mental states and brain functions, such as the covert administration of high doses of psychoactive drugs (especially LSD) and other chemicals without the subjects\\' consent, electroshocks, hypnosis, sensory deprivation, isolation, verbal and sexual abuse, and other forms of torture.MKUltra was preceded by Project ARTICHOKE. It was organized through the CIA\\'s Office of Scientific Intelligence and coordinated with the United States Army Biological Warfare Laboratories. The program engaged in illegal activities, including the use of U.S. and Canadian citizens as unwitting test subjects.:\\u200a74\\u200a MKUltra\\'s scope was broad, with activities carried out under the guise of research at more than 80 institutions aside from the military, including colleges and universities, hospitals, prisons, and pharmaceutical companies. The CIA operated using front organizations, although some top officials at these institutions were aware of the CIA\\'s involvement.MKUltra was revealed to the public in 1975 by the Church Committee of the United States Congress and Gerald Ford\\'s United States President\\'s Commission on CIA activities within the United States (the Rockefeller Commission). Investigative efforts were hampered by CIA Director Richard Helms\\'s order that all MKUltra files be destroyed in 1973; the Church Committee and Rockefeller Commission investigations relied on the sworn testimony of direct participants and on the small number of documents that survived Helms\\'s order. In 1977, a Freedom of Information Act request uncovered a cache of 20,000 documents relating to MKUltra, which led to Senate hearings. Some surviving information about MKUltra was declassified in 2001. \\n\\n\\n== Background ==\\n\\n\\n=== Origin of the project ===\\nAccording to Stephen Kinzer, the CIA project \"was a continuation of the work begun in WWII-era Japanese facilities and Nazi concentration camps on subduing and controlling human minds.\" Kinzer writes that MKUltra\\'s use of mescaline on unwitting subjects was a practice that Nazi doctors had begun in the camps at Auschwitz and Dachau. Kinzer gives evidence of the continuation of a Nazi agenda, citing the CIA\\'s secret recruitment of Nazi torturers and vivisectionists to continue experimenting on thousands of subjects, and Nazis were brought to Fort Detrick, Maryland, to instruct CIA officers on the lethal uses of sarin gas.\\n\\n\\n=== Aims and leadership ===\\nThe project was headed by Sidney Gottlieb but began on the order of CIA director Allen Dulles on April 13, 1953. Its aim was to develop mind-controlling drugs for use against the Soviet bloc in response to alleged Soviet, Chinese, and North Korean use of mind control techniques on U.S. prisoners of war during the Korean War. The CIA wanted to use similar methods on their own captives, and was interested in manipulating foreign leaders with such techniques, devising several schemes to drug Fidel Castro. It often conducted experiments without the subjects\\' knowledge or consent. In some cases, academic researchers were funded through grants from CIA front organizations but were unaware that the CIA was using their work for these purposes.\\nThe project attempted to produce a perfect truth drug for interrogating suspected Soviet spies during the Cold War and to explore other possibilities of mind control. Subproject 54 was the Navy\\'s top-secret \"Perfect Concussion\" program, which was supposed to use sub-aural frequency blasts to erase memory; the program was never carried out.Most MKUltra records were destroyed in 1973 by order of CIA director Richard Helms, so it has been ', metadata={'title': 'MKUltra', 'summary': \"Project MKUltra (or MK-Ultra) was an illegal human experimentation program designed and undertaken by the U.S. Central Intelligence Agency (CIA) and intended to develop procedures and identify drugs that could be used during interrogations to weaken people and force confessions through brainwashing and psychological torture. It began in 1953 and was halted in 1973. MKUltra used numerous methods to manipulate its subjects' mental states and brain functions, such as the covert administration of high doses of psychoactive drugs (especially LSD) and other chemicals without the subjects' consent, electroshocks, hypnosis, sensory deprivation, isolation, verbal and sexual abuse, and other forms of torture.MKUltra was preceded by Project ARTICHOKE. It was organized through the CIA's Office of Scientific Intelligence and coordinated with the United States Army Biological Warfare Laboratories. The program engaged in illegal activities, including the use of U.S. and Canadian citizens as unwitting test subjects.:\\u200a74\\u200a MKUltra's scope was broad, with activities carried out under the guise of research at more than 80 institutions aside from the military, including colleges and universities, hospitals, prisons, and pharmaceutical companies. The CIA operated using front organizations, although some top officials at these institutions were aware of the CIA's involvement.MKUltra was revealed to the public in 1975 by the Church Committee of the United States Congress and Gerald Ford's United States President's Commission on CIA activities within the United States (the Rockefeller Commission). Investigative efforts were hampered by CIA Director Richard Helms's order that all MKUltra files be destroyed in 1973; the Church Committee and Rockefeller Commission investigations relied on the sworn testimony of direct participants and on the small number of documents that survived Helms's order. In 1977, a Freedom of Information Act request uncovered a cache of 20,000 documents relating to MKUltra, which led to Senate hearings. Some surviving information about MKUltra was declassified in 2001. \\n\\n\", 'source': 'https://en.wikipedia.org/wiki/MKUltra'}),\n",
       " Document(page_content='Numerous experiments which are performed on human test subjects in the United States are considered unethical, because they are performed without the knowledge or informed consent of the test subjects. Such tests have been performed throughout American history, but some of them are ongoing. The experiments include the exposure of humans to many chemical and biological weapons (including infections with deadly or debilitating diseases), human radiation experiments, injections of toxic and radioactive chemicals, surgical experiments, interrogation and torture experiments, tests which involve mind-altering substances, and a wide variety of other experiments. Many of these tests are performed on children, the sick, and mentally disabled individuals, often under the guise of \"medical treatment\". In many of the studies, a large portion of the subjects were poor, racial minorities, or prisoners.\\nMany of these experiments violated US law. Some others were sponsored by government agencies or rogue elements thereof, including the Centers for Disease Control, the United States military, and the Central Intelligence Agency, or they were sponsored by private corporations which were involved in military activities. The human research programs were usually highly secretive and performed without the knowledge or authorization of Congress, and in many cases information about them was not released until many years after the studies had been performed.\\nThe ethical, professional, and legal implications of this in the United States medical and scientific community were quite significant, and led to many institutions and policies that attempted to ensure that future human subject research in the United States would be ethical and legal. Public outrage in the late 20th century over the discovery of government experiments on human subjects led to numerous congressional investigations and hearings, including the Church Committee and Rockefeller Commission, both of 1975, and the 1994 Advisory Committee on Human Radiation Experiments, among others.\\n\\n\\n== Surgical experiments ==\\nThroughout the 1840s, J. Marion Sims, who is often referred to as \"the father of gynecology,\" performed surgical experiments on enslaved African women, without anesthesia. The women— one of whom was operated on 30 times— suffered from infections and many failed surgeries before they were finally cured. The period during which Sims operated on female slaves, between 1845 and 1849, was one during which the new practice of anesthesia was not universally accepted as safe and effective. To test one of his theories about the causes of trismus in infants, Sims performed experiments where he used a shoemaker\\'s awl to move around the skull bones of the babies of enslaved women. It has been claimed that he addicted the women in his surgical experiments to morphine, only providing the drugs after surgery was already complete, to make them more compliant. A contrary view is presented by the gynecologic surgeon and anthropologist L.L. Wall: \"Sims\\' use of postoperative opium appears to have been well supported by the therapeutic practices of his day, and the regimen that he used was enthusiastically supported by many contemporary surgeons.\"In 1874, Mary Rafferty, an Irish servant woman, came to Dr. Roberts Bartholow of the Good Samaritan Hospital in Cincinnati, Ohio for treatment of a lesion on her head. The lesion was diagnosed as a cancerous ulcer and surgical treatments were attempted. Bartholow saw Rafferty\\'s condition as terminal but felt there was a research opportunity. He inserted electrode needles into her exposed brain matter to gauge her responses. This was done with no intention of treating her. Although Rafferty came out of the coma caused by the experiment three days later, she died from a massive seizure the following day. Bartholow described his experiment as follows:\\n\\nWhen the needle entered the brain substance, she complained of acute pain in the neck. To develop more decided ', metadata={'title': 'Unethical human experimentation in the United States', 'summary': 'Numerous experiments which are performed on human test subjects in the United States are considered unethical, because they are performed without the knowledge or informed consent of the test subjects. Such tests have been performed throughout American history, but some of them are ongoing. The experiments include the exposure of humans to many chemical and biological weapons (including infections with deadly or debilitating diseases), human radiation experiments, injections of toxic and radioactive chemicals, surgical experiments, interrogation and torture experiments, tests which involve mind-altering substances, and a wide variety of other experiments. Many of these tests are performed on children, the sick, and mentally disabled individuals, often under the guise of \"medical treatment\". In many of the studies, a large portion of the subjects were poor, racial minorities, or prisoners.\\nMany of these experiments violated US law. Some others were sponsored by government agencies or rogue elements thereof, including the Centers for Disease Control, the United States military, and the Central Intelligence Agency, or they were sponsored by private corporations which were involved in military activities. The human research programs were usually highly secretive and performed without the knowledge or authorization of Congress, and in many cases information about them was not released until many years after the studies had been performed.\\nThe ethical, professional, and legal implications of this in the United States medical and scientific community were quite significant, and led to many institutions and policies that attempted to ensure that future human subject research in the United States would be ethical and legal. Public outrage in the late 20th century over the discovery of government experiments on human subjects led to numerous congressional investigations and hearings, including the Church Committee and Rockefeller Commission, both of 1975, and the 1994 Advisory Committee on Human Radiation Experiments, among others.', 'source': 'https://en.wikipedia.org/wiki/Unethical_human_experimentation_in_the_United_States'}),\n",
       " Document(page_content='Operation Midnight Climax was an operation carried out by the CIA as a sub-project of Project MKUltra, the mind-control research program that began in the 1950s. It was initially established in 1954 by Sidney Gottlieb and placed under the direction of the Federal Bureau of Narcotics in Boston, Massachusetts with the \"Federal Narcotics Agent and CIA consultant\" George Hunter White under the pseudonym of Morgan Hall. Dr. Sidney Gottlieb was a chemist who was chief of the Chemical Division of the Office of Technical Service of the CIA. Under the Cold War and fears of the Soviet Union and China, Gottlieb felt inspired to investigate methods of mind control. Gottlieb based his plan for Project MKUltra and Operation Midnight Climax off of interrogation method research under Project Artichoke. Unlike Project Artichoke, Operation Midnight Climax gave Gottlieb permission to test drugs on unknowing citizens, which made way for the legacy of this operation. Hundreds of federal agents, field operatives, and scientists worked on these programs before they were shut down in the 1960s.\\n\\n\\n== Results ==\\nOfficial results of these experiments were not released, but accounts from supervisors of the experiments give little insight to the findings. George Hunter White, an agent at the Federal Bureau of Narcotics, and Ira \"Ike\" Feldman, a former military intelligence officer, who oversaw San Francisco experiments, noticed that subjects spoke far more freely when under the influence of a combination of drugs and sex. \"No one knows where they [human test subjects] are now, or what effects they may have suffered.\"\\n\\n\\n== Background ==\\n\\n\\n=== History ===\\nOperation Midnight Climax started in 1954 and consisted of a web of CIA-run safehouses in San Francisco at 225c Chestnut Street, San Francisco, CA, and Mill Valley, California, as well as New York City. The safehouses were dramatically scaled back in 1963, following a report by CIA Inspector General John Earman which strongly recommended closing the facility. The San Francisco safehouses were closed in 1965, and the New York City safehouse soon followed in 1966. Operation Midnight Climax and Project MKUltra were considered to be so secretive that few people, even in the highest government positions, knew Gottlieb existed, let alone was conducting these experiments. However, some senior officers in the CIA knew enough about him to connect his work to LSD.\\n\\n\\n=== Objectives and methodology ===\\nOperation Midnight Climax was established in order to study the effects of LSD on non-consenting individuals. Prostitutes on the CIA payroll were instructed to lure clients back to the safehouses, where they were surreptitiously plied with a wide range of substances, including LSD, and monitored behind one-way glass. The prostitutes were instructed in the use of post-coital questioning to investigate whether the victims could be convinced to involuntarily reveal secrets. The victims were sometimes fed subliminal messages in attempts to induce them to involuntary actions, including criminal activity such as robbery, assault, and assassination. Many of the CIA operatives involved in the experiments voluntarily indulged in the drugs and prostitutes for recreational purposes. Additionally, information from Wilmington News Journal on October 15, 1978, reports from a FOIA request that, \"the spy agency purchased two pounds of Yohimbine hydrochloride... by Dr. Robert V. Lashbrook, the chief aide to Dr. Sidney Gottlieb.\" The role of Dr. Lashbrook was to, \"monitor and approve materials for Operation Midnight Climax.\"Senate investigators were told that the goals of these experiments were to study mind control and sexual behavior. More specifically, to learn about the secrets of brainwashing to gain control over enemy spies and protect U.S. agents. Other objectives included finding drugs that could incapacitate entire buildings via poisoned food, which would create \"confusion-anxiety-fear,\" and other symptoms such as headaches and ', metadata={'title': 'Operation Midnight Climax', 'summary': 'Operation Midnight Climax was an operation carried out by the CIA as a sub-project of Project MKUltra, the mind-control research program that began in the 1950s. It was initially established in 1954 by Sidney Gottlieb and placed under the direction of the Federal Bureau of Narcotics in Boston, Massachusetts with the \"Federal Narcotics Agent and CIA consultant\" George Hunter White under the pseudonym of Morgan Hall. Dr. Sidney Gottlieb was a chemist who was chief of the Chemical Division of the Office of Technical Service of the CIA. Under the Cold War and fears of the Soviet Union and China, Gottlieb felt inspired to investigate methods of mind control. Gottlieb based his plan for Project MKUltra and Operation Midnight Climax off of interrogation method research under Project Artichoke. Unlike Project Artichoke, Operation Midnight Climax gave Gottlieb permission to test drugs on unknowing citizens, which made way for the legacy of this operation. Hundreds of federal agents, field operatives, and scientists worked on these programs before they were shut down in the 1960s.', 'source': 'https://en.wikipedia.org/wiki/Operation_Midnight_Climax'}),\n",
       " Document(page_content='Brainwashing (also known as mind control, menticide, coercive persuasion,  thought control, thought reform, and forced re-education) is the concept that the human mind can be altered or controlled by certain psychological techniques. Brainwashing is said to reduce its subject\\'s ability to think critically or independently, to allow the introduction of new, unwanted thoughts and ideas into their minds, as well as to change their attitudes, values, and beliefs.The term \"brainwashing\" was first used in English by Edward Hunter in 1950 to describe how the Chinese government appeared to make people cooperate with them during the Korean War. This was the year after George Orwell\\'s Nineteen Eighty-Four was published, in which O\\'Brien said to Winston Smith in the Ministry of Love, \"we make the brain perfect before we blow it out...Everyone is washed clean.\" Research into the concept also looked at Nazi Germany, at some criminal cases in the United States, and at the actions of human traffickers. In the late 1960s and 1970s, the CIA\\'s MKUltra experiments failed with no operational use of the subjects. Scientific and legal debate followed, as well as media attention, about the possibility of brainwashing being a factor when Lysergic acid diethylamide (LSD) was used, or in the conversion of people to groups which are considered to be cults.The concept of brainwashing is not now generally accepted as a scientific fact. In casual speech, \"brainwashing\" and its verb form, \"brainwash\", are used figuratively to describe the use of propaganda to persuade or sway public opinion.\\n\\n\\n== China and the Korean War ==\\n\\nThe Chinese term xǐnǎo (洗腦，\"wash brain\") was originally used to describe the coercive persuasion used under the Maoist government in China, which aimed to transform \"reactionary\" people into \"right-thinking\" members of the new Chinese social system. The term punned on the Taoist custom of \"cleansing / washing the heart / mind\" (xǐxīn，洗心) before conducting ceremonies or entering holy places.The Oxford English Dictionary records the earliest known English-language usage of the word \"brainwashing\" in an article by a journalist Edward Hunter, in Miami News, published on 24 September 1950. Hunter was an outspoken anticommunist and was alleged to be a CIA agent working undercover as a journalist. Hunter and others used the Chinese term to explain why, during the Korean War (1950–1953), some American prisoners of war (POWs) cooperated with their Chinese captors, and even in a few cases defected to their side. British radio operator Robert W. Ford and British army Colonel James Carne also claimed that the Chinese subjected them to brainwashing techniques during their imprisonment.The U.S. military and government laid charges of brainwashing in an effort to undermine  confessions made by POWs to war crimes, including biological warfare. After Chinese radio broadcasts claimed to quote Frank Schwable, Chief of Staff of the First Marine Air Wing admitting to participating in germ warfare, United Nations commander General Mark W. Clark asserted: \"Whether these statements ever passed the lips of these unfortunate men is doubtful. If they did, however, too familiar are the mind-annihilating methods of these Communists in extorting whatever words they want ... The men themselves are not to blame, and they have my deepest sympathy for having been used in this abominable way.\"Beginning in 1953, Robert Jay Lifton interviewed American servicemen who had been POWs during the Korean War as well as priests, students, and teachers who had been held in prison in China after 1951. In addition to interviews with 25 Americans and Europeans, Lifton interviewed 15 Chinese citizens who had fled after having been subjected to indoctrination in Chinese universities. (Lifton\\'s 1961 book Thought Reform and the Psychology of Totalism: A Study of \"Brainwashing\" in China, was based on this research.) Lifton found that when the POWs returned to the United States their thinki', metadata={'title': 'Brainwashing', 'summary': 'Brainwashing (also known as mind control, menticide, coercive persuasion,  thought control, thought reform, and forced re-education) is the concept that the human mind can be altered or controlled by certain psychological techniques. Brainwashing is said to reduce its subject\\'s ability to think critically or independently, to allow the introduction of new, unwanted thoughts and ideas into their minds, as well as to change their attitudes, values, and beliefs.The term \"brainwashing\" was first used in English by Edward Hunter in 1950 to describe how the Chinese government appeared to make people cooperate with them during the Korean War. This was the year after George Orwell\\'s Nineteen Eighty-Four was published, in which O\\'Brien said to Winston Smith in the Ministry of Love, \"we make the brain perfect before we blow it out...Everyone is washed clean.\" Research into the concept also looked at Nazi Germany, at some criminal cases in the United States, and at the actions of human traffickers. In the late 1960s and 1970s, the CIA\\'s MKUltra experiments failed with no operational use of the subjects. Scientific and legal debate followed, as well as media attention, about the possibility of brainwashing being a factor when Lysergic acid diethylamide (LSD) was used, or in the conversion of people to groups which are considered to be cults.The concept of brainwashing is not now generally accepted as a scientific fact. In casual speech, \"brainwashing\" and its verb form, \"brainwash\", are used figuratively to describe the use of propaganda to persuade or sway public opinion.', 'source': 'https://en.wikipedia.org/wiki/Brainwashing'}),\n",
       " Document(page_content=\"MKNAOMI is the code name for a joint Department of Defense/CIA research program from the 1950s through to the 1970s. Unclassified information about the MKNAOMI program and the related Special Operations Division is scarce. It is generally reported to be a successor to the MKULTRA project focusing on biological projects including biological warfare agents—specifically, to store materials that could either incapacitate or kill a test subject and to develop devices for the diffusion of such materials.During its first twenty years, the CIA engaged in projects designed to increase U.S. biological and chemical warfare capabilities. Project MKNAOMI was initiated to provide the CIA with a covert support base to meet its top-secret operational requirements. The goal was to have a robust arsenal of lethal and incapacitating materials within the CIA's Technical Services Division (TSD). This would enable the TSD to serve as a center for supplying biological and chemical materials.Surveillance, testing, upgrading and the evaluation of special materials and items were provided by MKNAOMI to ensure that no defects or unwanted contingencies emerged during operational conditions. The U.S. Army's Special Operations Command (SOC) was assigned to assist the CIA with development, testing and maintenance procedures for the biological agents and delivery systems (1952). Both the CIA and SOC modified guns to fire special darts coated with biological agents and poisonous pills. The darts could incapacitate guard dogs, allowing agents to infiltrate the area that the dogs were guarding, and would then be used to awaken the dogs upon exiting the facility. In addition, the SOC was designated to research the potential to use biological agents against other animals and crops.A 1967 CIA memo which was uncovered by the Church Committee contained evidence of at least three covert techniques for attacking and poisoning crops that had been tested under field conditions. On November 25, 1969, President Richard Nixon banned any military use of biological weapons and Project MKNAOMI was dissolved. On February 14, 1970, a presidential order outlawed all stockpiles of bacteriological weapons and nonliving toxins. However, despite the presidential order, a CIA scientist was able to acquire an estimated 11 grams of deadly shellfish toxin from SOC personnel at Fort Detrick. The toxin was stored in a CIA laboratory where it remained undetected for over five years.\\n\\n\\n== See also ==\\nHuman experimentation in the United States\\nProject MKULTRA\\nProject ARTICHOKE\\nProject CHATTER\\nProject MKDELTA\\nCIA cryptonym\\nKurt Blome\\nErich Traub\\n\\n\\n== References ==\\n\\nBibliographyGoliszek, Andrew, In the name of science : a history of secret programs, medical research, and human experimentation St. Martin's Press, 2003\\nSummary Report of CIA Investigation of MKNAOMI (US National Archives, released under the JFK Assassination Records Act, December 2017)\", metadata={'title': 'MKNAOMI', 'summary': \"MKNAOMI is the code name for a joint Department of Defense/CIA research program from the 1950s through to the 1970s. Unclassified information about the MKNAOMI program and the related Special Operations Division is scarce. It is generally reported to be a successor to the MKULTRA project focusing on biological projects including biological warfare agents—specifically, to store materials that could either incapacitate or kill a test subject and to develop devices for the diffusion of such materials.During its first twenty years, the CIA engaged in projects designed to increase U.S. biological and chemical warfare capabilities. Project MKNAOMI was initiated to provide the CIA with a covert support base to meet its top-secret operational requirements. The goal was to have a robust arsenal of lethal and incapacitating materials within the CIA's Technical Services Division (TSD). This would enable the TSD to serve as a center for supplying biological and chemical materials.Surveillance, testing, upgrading and the evaluation of special materials and items were provided by MKNAOMI to ensure that no defects or unwanted contingencies emerged during operational conditions. The U.S. Army's Special Operations Command (SOC) was assigned to assist the CIA with development, testing and maintenance procedures for the biological agents and delivery systems (1952). Both the CIA and SOC modified guns to fire special darts coated with biological agents and poisonous pills. The darts could incapacitate guard dogs, allowing agents to infiltrate the area that the dogs were guarding, and would then be used to awaken the dogs upon exiting the facility. In addition, the SOC was designated to research the potential to use biological agents against other animals and crops.A 1967 CIA memo which was uncovered by the Church Committee contained evidence of at least three covert techniques for attacking and poisoning crops that had been tested under field conditions. On November 25, 1969, President Richard Nixon banned any military use of biological weapons and Project MKNAOMI was dissolved. On February 14, 1970, a presidential order outlawed all stockpiles of bacteriological weapons and nonliving toxins. However, despite the presidential order, a CIA scientist was able to acquire an estimated 11 grams of deadly shellfish toxin from SOC personnel at Fort Detrick. The toxin was stored in a CIA laboratory where it remained undetected for over five years.\\n\\n\", 'source': 'https://en.wikipedia.org/wiki/MKNAOMI'}),\n",
       " Document(page_content=\"Psychic driving was a psychiatric procedure of the 1950s and 1960s in which patients were subjected to a continuously repeated audio message on a looped tape to alter their behaviour. In psychic driving, patients were often exposed to hundreds of thousands of repetitions of a single statement over the course of their treatment. They were also concurrently administered muscular paralytic drugs such as curare to subdue them for the purposes of exposure to the looped message(s). The procedure was pioneered by Dr. D. Ewen Cameron, and used and funded by the CIA's Project MKUltra program in Canada.\\n\\n\\n== Psychiatry and MKUltra ==\\nThe psychic driving procedure was a chronological precursor to Cameron's depatterning, the latter involving massive doses of electroconvulsive therapy (ECT) combined with similarly large doses of psychedelic drugs (such as LSD). The intent was to break down the subject's personality—theoretically psychic driving could then be used with some efficacy in establishing a new personality. In Cameron's depatterning, the ECT would often continue to be administered despite the manifestation of convulsive fits, which were consensually considered to be contraindications to normal and safe ECT procedure. Such biologically and psychologically devastating procedures, adopted internationally by the psychiatric establishment, were largely abolished by the time the CIA was brought before a Senate Hearing (1977) for its involvement and funding of Cameron's experimental activities—as part of the MKULTRA program. The topic of Cameron's psychic driving is dealt with in some detail in the docudrama entitled The Sleep Room (1998) directed by Anne Wheeler.\\n\\n\\n== Other uses ==\\nSimilar techniques are alleged to have been used in the kidnapping and death of CIA operative William Francis Buckley by Aziz al-Abub, a medical doctor from Beirut who was seen as epitomizing medical torture. Aziz al-Abub, also known as Ibrahim al-Nadhir, was known for using his medical training to refine torture techniques. His techniques were shown to be closely connected to the CIA-developed torture techniques. As with the CIA, he used drugs to make it easier to handle those he tortured, carefully determined how long to keep a prisoner hooded and when to isolate them and other techniques seen as medical torture.\\n\\n\\n== In popular culture ==\\nInitially, in the hit NBC TV series Hannibal, Dr. Chilton uses psychic driving on a patient of the Baltimore State Hospital for the Criminally Insane, Dr. Abel Gideon (played by Eddie Izzard), to convince him that he is the main antagonist of the series, the Chesapeake Ripper. Later in the series, psychic driving is alluded to by the main character Dr. Hannibal Lecter as a means to convince FBI profiler Will Graham that he has committed a string of brutal murders during a bout of encephalitis, to throw him off the trail and keep himself safe. Dr. Lecter uses psychic driving by purposely inducing trance-like states during a therapy session, using Will Graham's encephalitis, then reinforcing his delusions that he has killed during episodes of lost time where he cannot remember his own actions.Aaron Dilloway's 2010 album Psychic Driving Tapes is based on the concept, and heavily utilizes tape loops in its composition.\\n\\n\\n== See also ==\\nDonald Ewen Cameron\\nProject MKUltra\\nThe Men Who Stare At Goats\\nWilliam Sargant\\nBehavior modification\\n\\n\\n== Books ==\\nAnne Collins (2002-06-12). In The Sleep Room: The Story Of The CIA Brainwashing Experiments In Canada. Key Porter Books. ISBN 1-55013-932-0.\\nGordon Thomas (1988-08-01). Journey into Madness: Medical Torture and the Mind Controllers. Bantam Press. ISBN 0593011422.\\n\\n\\n== References ==\", metadata={'title': 'Psychic driving', 'summary': \"Psychic driving was a psychiatric procedure of the 1950s and 1960s in which patients were subjected to a continuously repeated audio message on a looped tape to alter their behaviour. In psychic driving, patients were often exposed to hundreds of thousands of repetitions of a single statement over the course of their treatment. They were also concurrently administered muscular paralytic drugs such as curare to subdue them for the purposes of exposure to the looped message(s). The procedure was pioneered by Dr. D. Ewen Cameron, and used and funded by the CIA's Project MKUltra program in Canada.\\n\\n\", 'source': 'https://en.wikipedia.org/wiki/Psychic_driving'}),\n",
       " Document(page_content='The United States President\\'s Commission on CIA Activities within the United States was ordained by President Gerald Ford in 1975 to investigate the activities of the Central Intelligence Agency and other intelligence agencies within the United States. The Presidential Commission was led by Vice President Nelson Rockefeller, from whom it gained the nickname the Rockefeller Commission.\\nThe commission was created in response to a December 1974 report in The New York Times that the CIA had conducted illegal domestic activities, including experiments on US citizens, during the 1960s. The commission issued a single report in 1975, touching upon certain CIA abuses including mail opening and surveillance of domestic dissident groups. It also publicized Project MKUltra, a CIA mind control research program.\\nSeveral weeks later, committees were established in the House and Senate for a similar purpose. White House Personnel, including future Vice President Dick Cheney, edited the results, excluding many of the commission\\'s findings from the final report. Some of these findings were included in later reports by the Congressional Committees.\\nBefore it was even released, the report faced scrutiny from the media, and was deemed a \"whitewash.\" The investigation was intended to be independent of Presidential interference, but the findings and recommendations included in the final report were highly altered from what was chosen by the commission itself. It was ultimately superseded in notability by the more substantial Church Committee in what became known as the \"Year of Intelligence.\"   \\n\\n\\n== Background ==\\nIn 1974, a New York Times article was published that accused the CIA of illegal operations committed against US citizens. Authored by Seymour M. Hersh, it documented an intelligence operation against the anti-war movement, as well as \"break-ins, wiretapping and the surreptitious inspection of mail\" conducted since the 1950s. According to former CIA Official Cord Meyer, these disclosures \"Convinced large sections of the American public that the CIA had become a domestic Gestapo and stimulated an overwhelming demand for the wide-ranging congressional investigations that were to follow.\"Hersh had been tipped off to the possibility of an \"in house operation\" by an unidentified member of the CIA in spring of 1974. He embarked on an investigation, speaking to sources that included CIA Chief of Counterintelligence James Angleton. Although he was not aware of its existence, Hersh uncovered much information that had been documented in the \"Family Jewels\", a report ordered by Director of Central Intelligence William Colby that chronicled CIA abuses over the past 25 years. The report would not be formally revealed to the public until 2007.\\n\\n\\n=== Monitoring of anti-war movement and Project MINARET ===\\n\\nThe article alleged that CIA agents had followed and photographed participants in the antiwar movement, as well as other demonstrations. It also reported that the CIA \"set up a network of informants who were ordered to penetrate antiwar groups\", and even placed an avowedly anti-war congressperson under surveillance while putting other lawmakers in a dossier on dissident Americans.\\nInstituted in 1967 by the NSA, Project MINARET\\'s purpose was to document \"Soviet, Chinese, and North Vietnamese influence over the militant civil rights and anti–Vietnam War movements\" for the CIA and FBI, according to historian Donald Critchlow. The NSA provided CIA and FBI officials  with reports of intercepted international communications by certain individuals in these movements. NSA officials stipulated that FBI and CIA agents must destroy or return these reports within two weeks of receiving them. The NSA also required that \"the reports not be \\'identified with the National Security Agency\\' and that all records relating to this program were \\'not serialize[d]\\' or filed with other NSA records, were classified \\'Top Secret,\\' and were stamped \\'Background Use Only\\'... because t', metadata={'title': \"United States President's Commission on CIA Activities within the United States\", 'summary': 'The United States President\\'s Commission on CIA Activities within the United States was ordained by President Gerald Ford in 1975 to investigate the activities of the Central Intelligence Agency and other intelligence agencies within the United States. The Presidential Commission was led by Vice President Nelson Rockefeller, from whom it gained the nickname the Rockefeller Commission.\\nThe commission was created in response to a December 1974 report in The New York Times that the CIA had conducted illegal domestic activities, including experiments on US citizens, during the 1960s. The commission issued a single report in 1975, touching upon certain CIA abuses including mail opening and surveillance of domestic dissident groups. It also publicized Project MKUltra, a CIA mind control research program.\\nSeveral weeks later, committees were established in the House and Senate for a similar purpose. White House Personnel, including future Vice President Dick Cheney, edited the results, excluding many of the commission\\'s findings from the final report. Some of these findings were included in later reports by the Congressional Committees.\\nBefore it was even released, the report faced scrutiny from the media, and was deemed a \"whitewash.\" The investigation was intended to be independent of Presidential interference, but the findings and recommendations included in the final report were highly altered from what was chosen by the commission itself. It was ultimately superseded in notability by the more substantial Church Committee in what became known as the \"Year of Intelligence.\"', 'source': 'https://en.wikipedia.org/wiki/United_States_President%27s_Commission_on_CIA_Activities_within_the_United_States'}),\n",
       " Document(page_content='Sidney Gottlieb (August 3, 1918 – March 7, 1999) was an American chemist and spymaster who headed the Central Intelligence Agency\\'s 1950s and 1960s assassination attempts and mind-control program, known as Project MKUltra.\\n\\n\\n== Early years and education ==\\nGottlieb was born to Hungarian Jewish immigrant parents Fanny and Louis Gottlieb in the Bronx on August 3, 1918. His older brother was plant biologist David Gottlieb. A stutterer since childhood, he earned a master\\'s degree in speech therapy from San Jose State University after retiring from the CIA. He was born with a club foot, which got him rejected from military service in World War II but did not prevent his pursuit of folk dancing, a lifelong passion.Gottlieb graduated from James Monroe High School in 1936, and enrolled in the free City College in NYC. He decided to transfer to a school that offered a legitimate agricultural biology course, and wished to attend the University of Wisconsin. In order to take the specialized courses he wished to have, he first attended Arkansas Tech University, where he studied botany, organic chemistry, and principles of dairying. His success at ATU won him admission to the University of Wisconsin, where he was mentored by Ira Baldwin, the assistant dean of the College of Agriculture. Gottlieb graduated magna cum laude in 1940. His accomplishments at the university, paired with a glowing recommendation from Baldwin, won him admission to the California Institute of Technology, where he received his Doctorate in Biochemistry in June 1943, writing his thesis on \"Studies of Ascorbic Acid in Cowpeas.\"\\nGottlieb met his wife Margaret Moore, daughter of a Presbyterian missionary, while attending CIT, and they swiftly married. Denied the chance of military service, he sought out another way to serve, and began looking for government work in Washington. By 1948, his wife and two daughters were living in a remote cabin near Vienna, Virginia, that had no electricity or running water. He was living there when he began working for the Central Intelligence Agency (CIA). His lifestyle was in stark contrast to that of the Ivy League men the CIA normally recruited.\\n\\n\\n== Government career ==\\nGottlieb\\'s first government position was at the Department of Agriculture, where he researched the chemical structure of organic soils. He later transferred to the Food and Drug Administration, where he developed tests to measure the presence of drugs in the human body. Gottlieb grew bored with this work and sought a more challenging position. In 1948, he found a job at the National Research Council, where he described being \"exposed to some interesting work concerning ergot alkaloids as vasoconstrictors and hallucinogens.\" He soon relocated to the University of Maryland as a research associate dedicated to studying metabolisms of fungi.On July 13, 1951, Gottlieb had his first day of work at the CIA. Then-Deputy Director for Plans Allen Dulles hired him on Ira Baldwin\\'s recommendation. Baldwin had founded and run the biowarfare program at Fort Detrick years earlier, and had kept Gottlieb in his orbit throughout the years. Gottlieb, who had advanced knowledge of poisons, was making his entrance in the early years of the Cold War. In the years after World War II, American paranoia about the infiltration of Communist ideology whipped the country into a nationalistic fervor to protect American cultural and political dominance from a supposed impending Soviet takeover. This also contributed to the CIA rapidly expanding its experimental methods and tactics over the next two decades, in an effort to break down and rebuild the human mind to work in its favor, falsely believing that the USSR and The People\\'s Republic of China had already mastered brainwashing and were using it against their own citizens and prisoners. This belief drove the CIA\\'s early forays into mind control operations and led to justifications of countless horrific acts, often with no oversight or accountabil', metadata={'title': 'Sidney Gottlieb', 'summary': \"Sidney Gottlieb (August 3, 1918 – March 7, 1999) was an American chemist and spymaster who headed the Central Intelligence Agency's 1950s and 1960s assassination attempts and mind-control program, known as Project MKUltra.\", 'source': 'https://en.wikipedia.org/wiki/Sidney_Gottlieb'}),\n",
       " Document(page_content='Eleven (birth name Jane Ives) is a fictional character and the main character of the Netflix science fiction horror drama series Stranger Things, written and produced by the Duffer Brothers. She is primarily portrayed by British actress Millie Bobby Brown. Eleven has psychokinetic and telepathic abilities, and is considered the breakout character of Stranger Things. After being adopted by chief of police Jim Hopper, her legal name becomes Jane Hopper.\\n\\n\\n== Fictional character biography ==\\nEleven is the daughter of Teresa \"Terry\" Ives, and a participant in the Project MKUltra experiments conducted by the Central Intelligence Agency (CIA). Eleven appears to have been born a psychic with notable telekinetic and extrasensory abilities. However, when she uses these abilities to a significant degree, she becomes temporarily weakened and her nose bleeds. At birth, Eleven was taken away from her mother by Dr. Martin Brenner and was raised as a test subject at Hawkins National Laboratory in order to develop her psychokinetic skills. When placed in a sensory deprivation tank, she can use remote viewing to access other dimensions, primarily for the purposes of espionage. In addition, Eleven can open and close portals, known as “Gates”, to a parallel dimension called the Upside Down.\\n\\n\\n=== Season 1 ===\\n\\nIn the first season, Eleven escapes from Hawkins National Laboratory wearing only her hospital gown and attempts to steal food from a local restaurant. The owner Benny takes pity on her and calls social services while putting her in a long t-shirt associated with the restaurant. The responding social worker, who turns out to be an agent sent from Hawkins Laboratory, kills Benny. Eleven then flees before she can be taken again. She is encountered by Mike Wheeler (Finn Wolfhard), Dustin Henderson (Gaten Matarazzo) and Lucas Sinclair (Caleb McLaughlin), who are looking for their missing friend Will Byers (Noah Schnapp). The boys learn that her name is Eleven based on a \"011\" tattoo found on her left forearm. Mike decides to call her \"El\" for short and allows Eleven to live in his basement while providing her with some new clothes. Fearing recapture, Eleven convinces Mike not to tell any adults so Dr. Brenner, whom she calls “Papa” and the people that work for him called “Bad Men”, cannot find her.\\nEleven helps to locate Will and determines that he is trapped in a parallel dimension, which the children dub the \"Upside Down\", where he is being hunted by a creature they call the \"Demogorgon\". The group sets out to find Will using their compasses, but Eleven interferes with their search when she realizes they are being led toward Hawkins Laboratory. Lucas, noticing her deception, becomes angry at her; she ends up knocking him unconscious and fleeing. She later steals frozen waffles from a grocery store and eats them in the forest. Mike and Dustin are later threatened by bullies or “Mouth Breathers”; Mike is forced to jump off a high cliff into a lake while Dustin is held hostage. Eleven returns and intervenes before Mike hits the water, frightening the bullies and saving both Mike and Dustin.\\nEleven, Mike, and Dustin reunite with Lucas and make amends. They travel to the town junkyard with Dr. Brenner and his associates in close pursuit. During the chase, a government van catches up to the children; Eleven uses her powers to flip the van through the air, blocking the convoy’s path and allowing the group to flee. They are then joined by Joyce Byers (Winona Ryder), Hawkins police chief Jim Hopper (David Harbour), Nancy Wheeler (Natalia Dyer), and Jonathan Byers (Charlie Heaton). Together, they create a makeshift isolation tank with a pool and bags of salt in order to help Eleven access the Upside Down. Eleven, using her powers, confirms that Will is alive, but says that Barb, Nancy’s friend taken shortly after Will, is “gone”. As government forces close in on the school, Mike tells Eleven she can be a part of his family; he then asks her to the sch', metadata={'title': 'Eleven (Stranger Things)', 'summary': 'Eleven (birth name Jane Ives) is a fictional character and the main character of the Netflix science fiction horror drama series Stranger Things, written and produced by the Duffer Brothers. She is primarily portrayed by British actress Millie Bobby Brown. Eleven has psychokinetic and telepathic abilities, and is considered the breakout character of Stranger Things. After being adopted by chief of police Jim Hopper, her legal name becomes Jane Hopper.', 'source': 'https://en.wikipedia.org/wiki/Eleven_(Stranger_Things)'})]"
      ]
     },
     "execution_count": 4,
     "metadata": {},
     "output_type": "execute_result"
    }
   ],
   "source": [
    "documents"
   ]
  },
  {
   "cell_type": "code",
   "execution_count": 5,
   "id": "efe1bf05",
   "metadata": {},
   "outputs": [
    {
     "data": {
      "text/plain": [
       "9"
      ]
     },
     "execution_count": 5,
     "metadata": {},
     "output_type": "execute_result"
    }
   ],
   "source": [
    "len(documents)"
   ]
  },
  {
   "cell_type": "markdown",
   "id": "a40e736e",
   "metadata": {},
   "source": [
    "## Document Transformer"
   ]
  },
  {
   "cell_type": "code",
   "execution_count": 6,
   "id": "7cf3253a",
   "metadata": {},
   "outputs": [],
   "source": [
    "text_splitter = CharacterTextSplitter.from_tiktoken_encoder(chunk_size=500)\n",
    "docs = text_splitter.split_documents(documents)"
   ]
  },
  {
   "cell_type": "code",
   "execution_count": 7,
   "id": "248a23e6",
   "metadata": {},
   "outputs": [
    {
     "data": {
      "text/plain": [
       "18"
      ]
     },
     "execution_count": 7,
     "metadata": {},
     "output_type": "execute_result"
    }
   ],
   "source": [
    "len(docs)"
   ]
  },
  {
   "cell_type": "markdown",
   "id": "5c2f9ed8",
   "metadata": {},
   "source": [
    "## Creating Embedding Function"
   ]
  },
  {
   "cell_type": "code",
   "execution_count": 8,
   "id": "2d27dfb5",
   "metadata": {},
   "outputs": [],
   "source": [
    "api_key = open('../../api_key.txt').read()"
   ]
  },
  {
   "cell_type": "code",
   "execution_count": 9,
   "id": "35dce5d4",
   "metadata": {},
   "outputs": [],
   "source": [
    "embedding_functions = OpenAIEmbeddings(openai_api_key=api_key)"
   ]
  },
  {
   "cell_type": "code",
   "execution_count": 10,
   "id": "10c29a60",
   "metadata": {},
   "outputs": [],
   "source": [
    "db = Chroma.from_documents(docs, embedding=embedding_functions,\n",
    "                          persist_directory=\"./mkultra\")\n",
    "\n",
    "db.persist()"
   ]
  },
  {
   "cell_type": "markdown",
   "id": "63ecb8b3",
   "metadata": {},
   "source": [
    "## Multiquery Retriever"
   ]
  },
  {
   "cell_type": "code",
   "execution_count": 11,
   "id": "e94eeb24",
   "metadata": {},
   "outputs": [],
   "source": [
    "question = \"When was this declassified?\""
   ]
  },
  {
   "cell_type": "code",
   "execution_count": 12,
   "id": "0a711b04",
   "metadata": {},
   "outputs": [],
   "source": [
    "llm = ChatOpenAI(openai_api_key=api_key, temperature=0)"
   ]
  },
  {
   "cell_type": "code",
   "execution_count": 13,
   "id": "218e8994",
   "metadata": {},
   "outputs": [],
   "source": [
    "retriever_from_llm = MultiQueryRetriever.from_llm(retriever=db.as_retriever(),\n",
    "                                                 llm=llm)"
   ]
  },
  {
   "cell_type": "code",
   "execution_count": 14,
   "id": "ce61a4d7",
   "metadata": {},
   "outputs": [],
   "source": [
    "import logging\n",
    "logging.basicConfig()\n",
    "logging.getLogger('langchain.retrievers.multi_query').setLevel(logging.INFO)"
   ]
  },
  {
   "cell_type": "code",
   "execution_count": 15,
   "id": "b566d85d",
   "metadata": {},
   "outputs": [
    {
     "name": "stderr",
     "output_type": "stream",
     "text": [
      "INFO:langchain.retrievers.multi_query:Generated queries: ['1. What is the date of declassification for this information?', '2. Can you provide the declassification date for this?', '3. At what time was this information officially declassified?']\n"
     ]
    }
   ],
   "source": [
    "unique_documents = retriever_from_llm.get_relevant_documents(query=question)"
   ]
  },
  {
   "cell_type": "code",
   "execution_count": 16,
   "id": "fb3d09c3",
   "metadata": {},
   "outputs": [
    {
     "data": {
      "text/plain": [
       "2"
      ]
     },
     "execution_count": 16,
     "metadata": {},
     "output_type": "execute_result"
    }
   ],
   "source": [
    "len(unique_documents)"
   ]
  },
  {
   "cell_type": "code",
   "execution_count": 17,
   "id": "230e0660",
   "metadata": {},
   "outputs": [
    {
     "name": "stdout",
     "output_type": "stream",
     "text": [
      "== Background ==\n",
      "In 1974, a New York Times article was published that accused the CIA of illegal operations committed against US citizens. Authored by Seymour M. Hersh, it documented an intelligence operation against the anti-war movement, as well as \"break-ins, wiretapping and the surreptitious inspection of mail\" conducted since the 1950s. According to former CIA Official Cord Meyer, these disclosures \"Convinced large sections of the American public that the CIA had become a domestic Gestapo and stimulated an overwhelming demand for the wide-ranging congressional investigations that were to follow.\"Hersh had been tipped off to the possibility of an \"in house operation\" by an unidentified member of the CIA in spring of 1974. He embarked on an investigation, speaking to sources that included CIA Chief of Counterintelligence James Angleton. Although he was not aware of its existence, Hersh uncovered much information that had been documented in the \"Family Jewels\", a report ordered by Director of Central Intelligence William Colby that chronicled CIA abuses over the past 25 years. The report would not be formally revealed to the public until 2007.\n",
      "\n",
      "\n",
      "=== Monitoring of anti-war movement and Project MINARET ===\n",
      "\n",
      "The article alleged that CIA agents had followed and photographed participants in the antiwar movement, as well as other demonstrations. It also reported that the CIA \"set up a network of informants who were ordered to penetrate antiwar groups\", and even placed an avowedly anti-war congressperson under surveillance while putting other lawmakers in a dossier on dissident Americans.\n",
      "Instituted in 1967 by the NSA, Project MINARET's purpose was to document \"Soviet, Chinese, and North Vietnamese influence over the militant civil rights and anti–Vietnam War movements\" for the CIA and FBI, according to historian Donald Critchlow. The NSA provided CIA and FBI officials  with reports of intercepted international communications by certain individuals in these movements. NSA officials stipulated that FBI and CIA agents must destroy or return these reports within two weeks of receiving them. The NSA also required that \"the reports not be 'identified with the National Security Agency' and that all records relating to this program were 'not serialize[d]' or filed with other NSA records, were classified 'Top Secret,' and were stamped 'Background Use Only'... because t\n"
     ]
    }
   ],
   "source": [
    "print(unique_documents[0].page_content)"
   ]
  },
  {
   "cell_type": "code",
   "execution_count": null,
   "id": "ba5fa23f",
   "metadata": {},
   "outputs": [],
   "source": []
  }
 ],
 "metadata": {
  "kernelspec": {
   "display_name": "Python 3 (ipykernel)",
   "language": "python",
   "name": "python3"
  },
  "language_info": {
   "codemirror_mode": {
    "name": "ipython",
    "version": 3
   },
   "file_extension": ".py",
   "mimetype": "text/x-python",
   "name": "python",
   "nbconvert_exporter": "python",
   "pygments_lexer": "ipython3",
   "version": "3.10.12"
  }
 },
 "nbformat": 4,
 "nbformat_minor": 5
}
