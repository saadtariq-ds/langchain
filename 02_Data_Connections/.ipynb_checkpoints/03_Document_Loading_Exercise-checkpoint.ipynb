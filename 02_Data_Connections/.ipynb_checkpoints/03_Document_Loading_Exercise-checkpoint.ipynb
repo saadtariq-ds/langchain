{
 "cells": [
  {
   "cell_type": "markdown",
   "id": "728f1747-b8fc-4d31-96c2-047fc83c079d",
   "metadata": {},
   "source": [
    "#  LangChain - Document Loading Exercise \n",
    "\n",
    "## Answering a Single Question\n",
    "\n",
    "Using the Wikipedia Document Loader Integration,can you make a function that accepts a famous historical figure name and a question about them, and then uses a ChatModel to answer questions with the additional context? Notice how in our example, the query doesn't mention the famous person. Keep in mind there are many potential ways to solve this problem!"
   ]
  },
  {
   "cell_type": "code",
   "execution_count": 1,
   "id": "a50d7495",
   "metadata": {},
   "outputs": [],
   "source": [
    "from langchain.prompts import (\n",
    "    ChatPromptTemplate,\n",
    "    SystemMessagePromptTemplate,\n",
    "    HumanMessagePromptTemplate,\n",
    ")\n",
    "from langchain.chat_models import ChatOpenAI\n",
    "from langchain.document_loaders import WikipediaLoader"
   ]
  },
  {
   "cell_type": "code",
   "execution_count": 2,
   "id": "4a4a89d6",
   "metadata": {},
   "outputs": [],
   "source": [
    "api_key = open('../../api_key.txt').read()\n",
    "model = ChatOpenAI(openai_api_key=api_key)"
   ]
  },
  {
   "cell_type": "code",
   "execution_count": 3,
   "id": "2a539244-89c6-4019-8608-1cdf51ba1983",
   "metadata": {},
   "outputs": [],
   "source": [
    "def answer_question_about(person_name,question):\n",
    "    \n",
    "    '''\n",
    "    Use the Wikipedia Document Loader to help answer questions about someone, insert it as additional helpful context.\n",
    "    '''\n",
    "    \n",
    "    loader = WikipediaLoader(query=person_name, load_max_docs=1)\n",
    "    data = loader.load()\n",
    "    \n",
    "    human_template = \"Answer the following question\\n{question}, here is some additional helpful context\\n{document}\"\n",
    "    human_message_prompt = HumanMessagePromptTemplate.from_template(human_template)\n",
    "    \n",
    "    chat_prompt = ChatPromptTemplate.from_messages([human_message_prompt])\n",
    "    \n",
    "    model_request = chat_prompt.format_prompt(\n",
    "        question=question,\n",
    "        document=data[0].page_content\n",
    "    ).to_messages()\n",
    "    \n",
    "    result = model(model_request)\n",
    "    \n",
    "    print(result.content)"
   ]
  },
  {
   "cell_type": "code",
   "execution_count": 4,
   "id": "e3a43963-57d4-44c5-8d28-b6164b2c0b83",
   "metadata": {},
   "outputs": [
    {
     "name": "stdout",
     "output_type": "stream",
     "text": [
      "Lionel Messi was born on June 24, 1987.\n"
     ]
    }
   ],
   "source": [
    "answer_question_about(\"Lionel Messi\",\"When was he born?\")\n",
    "# Lionel Messi was born on June 24, 1987."
   ]
  },
  {
   "cell_type": "code",
   "execution_count": null,
   "id": "b9074e58-b4af-4a21-a503-a0c58621a7a3",
   "metadata": {},
   "outputs": [],
   "source": []
  }
 ],
 "metadata": {
  "kernelspec": {
   "display_name": "Python 3 (ipykernel)",
   "language": "python",
   "name": "python3"
  },
  "language_info": {
   "codemirror_mode": {
    "name": "ipython",
    "version": 3
   },
   "file_extension": ".py",
   "mimetype": "text/x-python",
   "name": "python",
   "nbconvert_exporter": "python",
   "pygments_lexer": "ipython3",
   "version": "3.10.12"
  }
 },
 "nbformat": 4,
 "nbformat_minor": 5
}
