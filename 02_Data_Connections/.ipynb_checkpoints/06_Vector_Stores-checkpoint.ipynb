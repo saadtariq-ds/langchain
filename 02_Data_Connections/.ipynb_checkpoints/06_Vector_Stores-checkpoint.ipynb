{
 "cells": [
  {
   "cell_type": "markdown",
   "id": "b4441103",
   "metadata": {},
   "source": [
    "# LangChain - Vector Database"
   ]
  },
  {
   "cell_type": "code",
   "execution_count": 1,
   "id": "b818000b",
   "metadata": {},
   "outputs": [],
   "source": [
    "import chromadb"
   ]
  },
  {
   "cell_type": "code",
   "execution_count": 2,
   "id": "b54b5d32",
   "metadata": {},
   "outputs": [],
   "source": [
    "from langchain.embeddings import OpenAIEmbeddings"
   ]
  },
  {
   "cell_type": "code",
   "execution_count": 3,
   "id": "25ee9018",
   "metadata": {},
   "outputs": [],
   "source": [
    "from langchain.text_splitter import CharacterTextSplitter"
   ]
  },
  {
   "cell_type": "code",
   "execution_count": 4,
   "id": "f20eacd6",
   "metadata": {},
   "outputs": [],
   "source": [
    "from langchain.vectorstores import Chroma"
   ]
  },
  {
   "cell_type": "code",
   "execution_count": 5,
   "id": "f3101146",
   "metadata": {},
   "outputs": [],
   "source": [
    "from langchain.document_loaders import TextLoader"
   ]
  },
  {
   "cell_type": "markdown",
   "id": "ec9d5310",
   "metadata": {},
   "source": [
    "## Loading Document"
   ]
  },
  {
   "cell_type": "code",
   "execution_count": 6,
   "id": "d83ce298",
   "metadata": {},
   "outputs": [],
   "source": [
    "loader = TextLoader('some_data/FDR_State_of_Union_1944.txt')\n",
    "documents = loader.load()\n",
    "text_splitter = CharacterTextSplitter.from_tiktoken_encoder(chunk_size=500)\n",
    "docs = text_splitter.split_documents(documents=documents)"
   ]
  },
  {
   "cell_type": "code",
   "execution_count": 7,
   "id": "3b48b6ab",
   "metadata": {},
   "outputs": [
    {
     "data": {
      "text/plain": [
       "[Document(page_content='This Nation in the past two years has become an active partner in the world\\'s greatest war against human slavery.\\n\\nWe have joined with like-minded people in order to defend ourselves in a world that has been gravely threatened with gangster rule.\\n\\nBut I do not think that any of us Americans can be content with mere survival. Sacrifices that we and our allies are making impose upon us all a sacred obligation to see to it that out of this war we and our children will gain something better than mere survival.\\n\\nWe are united in determination that this war shall not be followed by another interim which leads to new disaster- that we shall not repeat the tragic errors of ostrich isolationismâ€”that we shall not repeat the excesses of the wild twenties when this Nation went for a joy ride on a roller coaster which ended in a tragic crash.\\n\\nWhen Mr. Hull went to Moscow in October, and when I went to Cairo and Teheran in November, we knew that we were in agreement with our allies in our common determination to fight and win this war. But there were many vital questions concerning the future peace, and they were discussed in an atmosphere of complete candor and harmony.\\n\\nIn the last war such discussions, such meetings, did not even begin until the shooting had stopped and the delegates began to assemble at the peace table. There had been no previous opportunities for man-to-man discussions which lead to meetings of minds. The result was a peace which was not a peace. That was a mistake which we are not repeating in this war.\\n\\nAnd right here I want to address a word or two to some suspicious souls who are fearful that Mr. Hull or I have made \"commitments\" for the future which might pledge this Nation to secret treaties, or to enacting the role of Santa Claus.\\n\\nTo such suspicious soulsâ€”using a polite terminologyâ€”I wish to say that Mr. Churchill, and Marshal Stalin, and Generalissimo Chiang Kai-shek are all thoroughly conversant with the provisions of our Constitution. And so is Mr. Hull. And so am I.\\n\\nOf course we made some commitments. We most certainly committed ourselves to very large and very specific military plans which require the use of all Allied forces to bring about the defeat of our enemies at the earliest possible time.\\n\\nBut there were no secret treaties or political or financial commitments.', metadata={'source': 'some_data/FDR_State_of_Union_1944.txt'}),\n",
       " Document(page_content='And right here I want to address a word or two to some suspicious souls who are fearful that Mr. Hull or I have made \"commitments\" for the future which might pledge this Nation to secret treaties, or to enacting the role of Santa Claus.\\n\\nTo such suspicious soulsâ€”using a polite terminologyâ€”I wish to say that Mr. Churchill, and Marshal Stalin, and Generalissimo Chiang Kai-shek are all thoroughly conversant with the provisions of our Constitution. And so is Mr. Hull. And so am I.\\n\\nOf course we made some commitments. We most certainly committed ourselves to very large and very specific military plans which require the use of all Allied forces to bring about the defeat of our enemies at the earliest possible time.\\n\\nBut there were no secret treaties or political or financial commitments.\\n\\nThe one supreme objective for the future, which we discussed for each Nation individually, and for all the United Nations, can be summed up in one word: Security.\\n\\nAnd that means not only physical security which provides safety from attacks by aggressors. It means also economic security, social security, moral securityâ€”in a family of Nations.\\n\\nIn the plain down-to-earth talks that I had with the Generalissimo and Marshal Stalin and Prime Minister Churchill, it was abundantly clear that they are all most deeply interested in the resumption of peaceful progress by their own peoplesâ€”progress toward a better life. All our allies want freedom to develop their lands and resources, to build up industry, to increase education and individual opportunity, and to raise standards of living.\\n\\nAll our allies have learned by bitter experience that real development will not be possible if they are to be diverted from their purpose by repeated warsâ€”or even threats of war.\\n\\nChina and Russia are truly united with Britain and America in recognition of this essential fact:\\n\\nThe best interests of each Nation, large and small, demand that all freedom-loving Nations shall join together in a just and durable system of peace. In the present world situation, evidenced by the actions of Germany, Italy, and Japan, unquestioned military control over disturbers of the peace is as necessary among Nations as it is among citizens in a community. And an equally basic essential to peace is a decent standard of living for all individual men and women and children in all Nations. Freedom from fear is eternally linked with freedom from want.', metadata={'source': 'some_data/FDR_State_of_Union_1944.txt'}),\n",
       " Document(page_content='All our allies have learned by bitter experience that real development will not be possible if they are to be diverted from their purpose by repeated warsâ€”or even threats of war.\\n\\nChina and Russia are truly united with Britain and America in recognition of this essential fact:\\n\\nThe best interests of each Nation, large and small, demand that all freedom-loving Nations shall join together in a just and durable system of peace. In the present world situation, evidenced by the actions of Germany, Italy, and Japan, unquestioned military control over disturbers of the peace is as necessary among Nations as it is among citizens in a community. And an equally basic essential to peace is a decent standard of living for all individual men and women and children in all Nations. Freedom from fear is eternally linked with freedom from want.\\n\\nThere are people who burrow through our Nation like unseeing moles, and attempt to spread the suspicion that if other Nations are encouraged to raise their standards of living, our own American standard of living must of necessity be depressed.\\n\\nThe fact is the very contrary. It has been shown time and again that if the standard of living of any country goes up, so does its purchasing power- and that such a rise encourages a better standard of living in neighboring countries with whom it trades. That is just plain common senseâ€”and it is the kind of plain common sense that provided the basis for our discussions at Moscow, Cairo, and Teheran.\\n\\nReturning from my journeyings, I must confess to a sense of \"let-down\" when I found many evidences of faulty perspective here in Washington. The faulty perspective consists in overemphasizing lesser problems and thereby underemphasizing the first and greatest problem.\\n\\nThe overwhelming majority of our people have met the demands of this war with magnificent courage and understanding. They have accepted inconveniences; they have accepted hardships; they have accepted tragic sacrifices. And they are ready and eager to make whatever further contributions are needed to win the war as quickly as possible- if only they are given the chance to know what is required of them.', metadata={'source': 'some_data/FDR_State_of_Union_1944.txt'}),\n",
       " Document(page_content='Returning from my journeyings, I must confess to a sense of \"let-down\" when I found many evidences of faulty perspective here in Washington. The faulty perspective consists in overemphasizing lesser problems and thereby underemphasizing the first and greatest problem.\\n\\nThe overwhelming majority of our people have met the demands of this war with magnificent courage and understanding. They have accepted inconveniences; they have accepted hardships; they have accepted tragic sacrifices. And they are ready and eager to make whatever further contributions are needed to win the war as quickly as possible- if only they are given the chance to know what is required of them.\\n\\nHowever, while the majority goes on about its great work without complaint, a noisy minority maintains an uproar of demands for special favors for special groups. There are pests who swarm through the lobbies of the Congress and the cocktail bars of Washington, representing these special groups as opposed to the basic interests of the Nation as a whole. They have come to look upon the war primarily as a chance to make profits for themselves at the expense of their neighbors- profits in money or in terms of political or social preferment.\\n\\nSuch selfish agitation can be highly dangerous in wartime. It creates confusion. It damages morale. It hampers our national effort. It muddies the waters and therefore prolongs the war.\\n\\nIf we analyze American history impartially, we cannot escape the fact that in our past we have not always forgotten individual and selfish and partisan interests in time of warâ€”we have not always been united in purpose and direction. We cannot overlook the serious dissensions and the lack of unity in our war of the Revolution, in our War of 1812, or in our War Between the States, when the survival of the Union itself was at stake.\\n\\nIn the first World War we came closer to national unity than in any previous war. But that war lasted only a year and a half, and increasing signs of disunity began to appear during the final months of the conflict.\\n\\nIn this war, we have been compelled to learn how interdependent upon each other are all groups and sections of the population of America.', metadata={'source': 'some_data/FDR_State_of_Union_1944.txt'}),\n",
       " Document(page_content='If we analyze American history impartially, we cannot escape the fact that in our past we have not always forgotten individual and selfish and partisan interests in time of warâ€”we have not always been united in purpose and direction. We cannot overlook the serious dissensions and the lack of unity in our war of the Revolution, in our War of 1812, or in our War Between the States, when the survival of the Union itself was at stake.\\n\\nIn the first World War we came closer to national unity than in any previous war. But that war lasted only a year and a half, and increasing signs of disunity began to appear during the final months of the conflict.\\n\\nIn this war, we have been compelled to learn how interdependent upon each other are all groups and sections of the population of America.\\n\\nIncreased food costs, for example, will bring new demands for wage increases from all war workers, which will in turn raise all prices of all things including those things which the farmers themselves have to buy. Increased wages or prices will each in turn produce the same results. They all have a particularly disastrous result on all fixed income groups.\\n\\nAnd I hope you will remember that all of us in this Government represent the fixed income group just as much as we represent business owners, workers, and farmers. This group of fixed income people includes: teachers, clergy, policemen, firemen, widows and minors on fixed incomes, wives and dependents of our soldiers and sailors, and old-age pensioners. They and their families add up to one-quarter of our one hundred and thirty million people. They have few or no high pressure representatives at the Capitol. In a period of gross inflation they would be the worst sufferers.\\n\\nIf ever there was a time to subordinate individual or group selfishness to the national good, that time is now. Disunity at homeâ€”bickerings, self-seeking partisanship, stoppages of work, inflation, business as usual, politics as usual, luxury as usual these are the influences which can undermine the morale of the brave men ready to die at the front for us here.', metadata={'source': 'some_data/FDR_State_of_Union_1944.txt'}),\n",
       " Document(page_content='If ever there was a time to subordinate individual or group selfishness to the national good, that time is now. Disunity at homeâ€”bickerings, self-seeking partisanship, stoppages of work, inflation, business as usual, politics as usual, luxury as usual these are the influences which can undermine the morale of the brave men ready to die at the front for us here.\\n\\nThose who are doing most of the complaining are not deliberately striving to sabotage the national war effort. They are laboring under the delusion that the time is past when we must make prodigious sacrifices- that the war is already won and we can begin to slacken off. But the dangerous folly of that point of view can be measured by the distance that separates our troops from their ultimate objectives in Berlin and Tokyoâ€”and by the sum of all the perils that lie along the way.\\n\\nOverconfidence and complacency are among our deadliest enemies. Last springâ€”after notable victories at Stalingrad and in Tunisia and against the U-boats on the high seasâ€”overconfidence became so pronounced that war production fell off. In two months, June and July, 1943, more than a thousand airplanes that could have been made and should have been made were not made. Those who failed to make them were not on strike. They were merely saying, \"The war\\'s in the bag- so let\\'s relax.\"\\n\\nThat attitude on the part of anyoneâ€”Government or management or laborâ€”can lengthen this war. It can kill American boys.\\n\\nLet us remember the lessons of 1918. In the summer of that year the tide turned in favor of the allies. But this Government did not relax. In fact, our national effort was stepped up. In August, 1918, the draft age limits were broadened from 21-31 to 18-45. The President called for \"force to the utmost,\" and his call was heeded. And in November, only three months later, Germany surrendered.\\n\\nThat is the way to fight and win a warâ€”all outâ€”and not with half-an-eye on the battlefronts abroad and the other eye-and-a-half on personal, selfish, or political interests here at home.', metadata={'source': 'some_data/FDR_State_of_Union_1944.txt'}),\n",
       " Document(page_content='That attitude on the part of anyoneâ€”Government or management or laborâ€”can lengthen this war. It can kill American boys.\\n\\nLet us remember the lessons of 1918. In the summer of that year the tide turned in favor of the allies. But this Government did not relax. In fact, our national effort was stepped up. In August, 1918, the draft age limits were broadened from 21-31 to 18-45. The President called for \"force to the utmost,\" and his call was heeded. And in November, only three months later, Germany surrendered.\\n\\nThat is the way to fight and win a warâ€”all outâ€”and not with half-an-eye on the battlefronts abroad and the other eye-and-a-half on personal, selfish, or political interests here at home.\\n\\nTherefore, in order to concentrate all our energies and resources on winning the war, and to maintain a fair and stable economy at home, I recommend that the Congress adopt:\\n\\n(1) A realistic tax lawâ€”which will tax all unreasonable profits, both individual and corporate, and reduce the ultimate cost of the war to our sons and daughters. The tax bill now under consideration by the Congress does not begin to meet this test.\\n\\n(2) A continuation of the law for the renegotiation of war contractsâ€”which will prevent exorbitant profits and assure fair prices to the Government. For two long years I have pleaded with the Congress to take undue profits out of war.\\n\\n(3) A cost of food lawâ€”which will enable the Government (a) to place a reasonable floor under the prices the farmer may expect for his production; and (b) to place a ceiling on the prices a consumer will have to pay for the food he buys. This should apply to necessities only; and will require public funds to carry out. It will cost in appropriations about one percent of the present annual cost of the war.\\n\\n(4) Early reenactment of. the stabilization statute of October, 1942. This expires June 30, 1944, and if it is not extended well in advance, the country might just as well expect price chaos by summer.', metadata={'source': 'some_data/FDR_State_of_Union_1944.txt'}),\n",
       " Document(page_content='(2) A continuation of the law for the renegotiation of war contractsâ€”which will prevent exorbitant profits and assure fair prices to the Government. For two long years I have pleaded with the Congress to take undue profits out of war.\\n\\n(3) A cost of food lawâ€”which will enable the Government (a) to place a reasonable floor under the prices the farmer may expect for his production; and (b) to place a ceiling on the prices a consumer will have to pay for the food he buys. This should apply to necessities only; and will require public funds to carry out. It will cost in appropriations about one percent of the present annual cost of the war.\\n\\n(4) Early reenactment of. the stabilization statute of October, 1942. This expires June 30, 1944, and if it is not extended well in advance, the country might just as well expect price chaos by summer.\\n\\n(5) A national service law- which, for the duration of the war, will prevent strikes, and, with certain appropriate exceptions, will make available for war production or for any other essential services every able-bodied adult in this Nation.\\n\\nThese five measures together form a just and equitable whole. I would not recommend a national service law unless the other laws were passed to keep down the cost of living, to share equitably the burdens of taxation, to hold the stabilization line, and to prevent undue profits.\\n\\nThe Federal Government already has the basic power to draft capital and property of all kinds for war purposes on a basis of just compensation.\\n\\nAs you know, I have for three years hesitated to recommend a national service act. Today, however, I am convinced of its necessity. Although I believe that we and our allies can win the war without such a measure, I am certain that nothing less than total mobilization of all our resources of manpower and capital will guarantee an earlier victory, and reduce the toll of suffering and sorrow and blood.\\n\\nI have received a joint recommendation for this law from the heads of the War Department, the Navy Department, and the Maritime Commission. These are the men who bear responsibility for the procurement of the necessary arms and equipment, and for the successful prosecution of the war in the field. They say:', metadata={'source': 'some_data/FDR_State_of_Union_1944.txt'}),\n",
       " Document(page_content='The Federal Government already has the basic power to draft capital and property of all kinds for war purposes on a basis of just compensation.\\n\\nAs you know, I have for three years hesitated to recommend a national service act. Today, however, I am convinced of its necessity. Although I believe that we and our allies can win the war without such a measure, I am certain that nothing less than total mobilization of all our resources of manpower and capital will guarantee an earlier victory, and reduce the toll of suffering and sorrow and blood.\\n\\nI have received a joint recommendation for this law from the heads of the War Department, the Navy Department, and the Maritime Commission. These are the men who bear responsibility for the procurement of the necessary arms and equipment, and for the successful prosecution of the war in the field. They say:\\n\\n\"When the very life of the Nation is in peril the responsibility for service is common to all men and women. In such a time there can be no discrimination between the men and women who are assigned by the Government to its defense at the battlefront and the men and women assigned to producing the vital materials essential to successful military operations. A prompt enactment of a National Service Law would be merely an expression of the universality of this responsibility.\"\\n\\nI believe the country will agree that those statements are the solemn truth.\\n\\nNational service is the most democratic way to wage a war. Like selective service for the armed forces, it rests on the obligation of each citizen to serve his Nation to his utmost where he is best qualified.\\n\\nIt does not mean reduction in wages. It does not mean loss of retirement and seniority rights and benefits. It does not mean that any substantial numbers of war workers will be disturbed in their present jobs. Let these facts be wholly clear.\\n\\nExperience in other democratic Nations at warâ€”Britain, Canada, Australia, and New Zealand- has shown that the very existence of national service makes unnecessary the widespread use of compulsory power. National service has proven to be a unifying moral force based on an equal and comprehensive legal obligation of all people in a Nation at war.', metadata={'source': 'some_data/FDR_State_of_Union_1944.txt'}),\n",
       " Document(page_content='I believe the country will agree that those statements are the solemn truth.\\n\\nNational service is the most democratic way to wage a war. Like selective service for the armed forces, it rests on the obligation of each citizen to serve his Nation to his utmost where he is best qualified.\\n\\nIt does not mean reduction in wages. It does not mean loss of retirement and seniority rights and benefits. It does not mean that any substantial numbers of war workers will be disturbed in their present jobs. Let these facts be wholly clear.\\n\\nExperience in other democratic Nations at warâ€”Britain, Canada, Australia, and New Zealand- has shown that the very existence of national service makes unnecessary the widespread use of compulsory power. National service has proven to be a unifying moral force based on an equal and comprehensive legal obligation of all people in a Nation at war.\\n\\nThere are millions of American men and women who are not in this war at all. It is not because they do not want to be in it. But they want to know where they can best do their share. National service provides that direction. It will be a means by which every man and woman can find that inner satisfaction which comes from making the fullest possible contribution to victory.\\n\\nI know that all civilian war workers will be glad to be able to say many years hence to their grandchildren: \"Yes, I, too, was in service in the great war. I was on duty in an airplane factory, and I helped make hundreds of fighting planes. The Government told me that in doing that I was performing my most useful work in the service of my country.\"\\n\\nIt is argued that we have passed the stage in the war where national service is necessary. But our soldiers and sailors know that this is not true. We are going forward on a long, rough road- and, in all journeys, the last miles are the hardest. And it is for that final effortâ€”for the total defeat of our enemies-that we must mobilize our total resources. The national war program calls for the employment of more people in 1944 than in 1943.\\n\\nIt is my conviction that the American people will welcome this win-the-war measure which is based on the eternally just principle of \"fair for one, fair for all.\"', metadata={'source': 'some_data/FDR_State_of_Union_1944.txt'}),\n",
       " Document(page_content='It is argued that we have passed the stage in the war where national service is necessary. But our soldiers and sailors know that this is not true. We are going forward on a long, rough road- and, in all journeys, the last miles are the hardest. And it is for that final effortâ€”for the total defeat of our enemies-that we must mobilize our total resources. The national war program calls for the employment of more people in 1944 than in 1943.\\n\\nIt is my conviction that the American people will welcome this win-the-war measure which is based on the eternally just principle of \"fair for one, fair for all.\"\\n\\nIt will give our people at home the assurance that they are standing four-square behind our soldiers and sailors. And it will give our enemies demoralizing assurance that we mean business -that we, 130,000,000 Americans, are on the march to Rome, Berlin, and Tokyo.\\n\\nI hope that the Congress will recognize that, although this is a political year, national service is an issue which transcends politics. Great power must be used for great purposes.\\n\\nAs to the machinery for this measure, the Congress itself should determine its natureâ€”but it should be wholly nonpartisan in its make-up.\\n\\nOur armed forces are valiantly fulfilling their responsibilities to our country and our people. Now the Congress faces the responsibility for taking those measures which are essential to national security in this the most decisive phase of the Nation\\'s greatest war.\\n\\nSeveral alleged reasons have prevented the enactment of legislation which would preserve for our soldiers and sailors and marines the fundamental prerogative of citizenshipâ€”the right to vote. No amount of legalistic argument can becloud this issue in the eyes of these ten million American citizens. Surely the signers of the Constitution did not intend a document which, even in wartime, would be construed to take away the franchise of any of those who are fighting to preserve the Constitution itself.', metadata={'source': 'some_data/FDR_State_of_Union_1944.txt'}),\n",
       " Document(page_content=\"As to the machinery for this measure, the Congress itself should determine its natureâ€”but it should be wholly nonpartisan in its make-up.\\n\\nOur armed forces are valiantly fulfilling their responsibilities to our country and our people. Now the Congress faces the responsibility for taking those measures which are essential to national security in this the most decisive phase of the Nation's greatest war.\\n\\nSeveral alleged reasons have prevented the enactment of legislation which would preserve for our soldiers and sailors and marines the fundamental prerogative of citizenshipâ€”the right to vote. No amount of legalistic argument can becloud this issue in the eyes of these ten million American citizens. Surely the signers of the Constitution did not intend a document which, even in wartime, would be construed to take away the franchise of any of those who are fighting to preserve the Constitution itself.\\n\\nOur soldiers and sailors and marines know that the overwhelming majority of them will be deprived of the opportunity to vote, if the voting machinery is left exclusively to the States under existing State lawsâ€”and that there is no likelihood of these laws being changed in time to enable them to vote at the next election. The Army and Navy have reported that it will be impossible effectively to administer forty-eight different soldier voting laws. It is the duty of the Congress to remove this unjustifiable discrimination against the men and women in our armed forces- and to do it as quickly as possible.\\n\\nIt is our duty now to begin to lay the plans and determine the strategy for the winning of a lasting peace and the establishment of an American standard of living higher than ever before known. We cannot be content, no matter how high that general standard of living may be, if some fraction of our peopleâ€”whether it be one-third or one-fifth or one-tenth- is ill-fed, ill-clothed, ill housed, and insecure.\\n\\nThis Republic had its beginning, and grew to its present strength, under the protection of certain inalienable political rightsâ€”among them the right of free speech, free press, free worship, trial by jury, freedom from unreasonable searches and seizures. They were our rights to life and liberty.\\n\\nAs our Nation has grown in size and stature, howeverâ€”as our industrial economy expandedâ€”these political rights proved inadequate to assure us equality in the pursuit of happiness.\", metadata={'source': 'some_data/FDR_State_of_Union_1944.txt'}),\n",
       " Document(page_content='It is our duty now to begin to lay the plans and determine the strategy for the winning of a lasting peace and the establishment of an American standard of living higher than ever before known. We cannot be content, no matter how high that general standard of living may be, if some fraction of our peopleâ€”whether it be one-third or one-fifth or one-tenth- is ill-fed, ill-clothed, ill housed, and insecure.\\n\\nThis Republic had its beginning, and grew to its present strength, under the protection of certain inalienable political rightsâ€”among them the right of free speech, free press, free worship, trial by jury, freedom from unreasonable searches and seizures. They were our rights to life and liberty.\\n\\nAs our Nation has grown in size and stature, howeverâ€”as our industrial economy expandedâ€”these political rights proved inadequate to assure us equality in the pursuit of happiness.\\n\\nWe have come to a clear realization of the fact that true individual freedom cannot exist without economic security and independence. \"Necessitous men are not free men.\" People who are hungry and out of a job are the stuff of which dictatorships are made.\\n\\nIn our day these economic truths have become accepted as self-evident. We have accepted, so to speak, a second Bill of Rights under which a new basis of security and prosperity can be established for all regardless of station, race, or creed.\\n\\nAmong these are:\\n\\nThe right to a useful and remunerative job in the industries or shops or farms or mines of the Nation;\\n\\nThe right to earn enough to provide adequate food and clothing and recreation;\\n\\nThe right of every farmer to raise and sell his products at a return which will give him and his family a decent living;\\n\\nThe right of every businessman, large and small, to trade in an atmosphere of freedom from unfair competition and domination by monopolies at home or abroad;\\n\\nThe right of every family to a decent home;\\n\\nThe right to adequate medical care and the opportunity to achieve and enjoy good health;\\n\\nThe right to adequate protection from the economic fears of old age, sickness, accident, and unemployment;\\n\\nThe right to a good education.', metadata={'source': 'some_data/FDR_State_of_Union_1944.txt'}),\n",
       " Document(page_content='Among these are:\\n\\nThe right to a useful and remunerative job in the industries or shops or farms or mines of the Nation;\\n\\nThe right to earn enough to provide adequate food and clothing and recreation;\\n\\nThe right of every farmer to raise and sell his products at a return which will give him and his family a decent living;\\n\\nThe right of every businessman, large and small, to trade in an atmosphere of freedom from unfair competition and domination by monopolies at home or abroad;\\n\\nThe right of every family to a decent home;\\n\\nThe right to adequate medical care and the opportunity to achieve and enjoy good health;\\n\\nThe right to adequate protection from the economic fears of old age, sickness, accident, and unemployment;\\n\\nThe right to a good education.\\n\\nAll of these rights spell security. And after this war is won we must be prepared to move forward, in the implementation of these rights, to new goals of human happiness and well-being.\\n\\nAmerica\\'s own rightful place in the world depends in large part upon how fully these and similar rights have been carried into practice for our citizens. For unless there is security here at home there cannot be lasting peace in the world.\\n\\nOne of the great American industrialists of our dayâ€”a man who has rendered yeoman service to his country in this crisis-recently emphasized the grave dangers of \"rightist reaction\" in this Nation. All clear-thinking businessmen share his concern. Indeed, if such reaction should developâ€”if history were to repeat itself and we were to return to the so-called \"normalcy\" of the 1920\\'sâ€”then it is certain that even though we shall have conquered our enemies on the battlefields abroad, we shall have yielded to the spirit of Fascism here at home.\\n\\nI ask the Congress to explore the means for implementing this economic bill of rights- for it is definitely the responsibility of the Congress so to do. Many of these problems are already before committees of the Congress in the form of proposed legislation. I shall from time to time communicate with the Congress with respect to these and further proposals. In the event that no adequate program of progress is evolved, I am certain that the Nation will be conscious of the fact.', metadata={'source': 'some_data/FDR_State_of_Union_1944.txt'}),\n",
       " Document(page_content='I ask the Congress to explore the means for implementing this economic bill of rights- for it is definitely the responsibility of the Congress so to do. Many of these problems are already before committees of the Congress in the form of proposed legislation. I shall from time to time communicate with the Congress with respect to these and further proposals. In the event that no adequate program of progress is evolved, I am certain that the Nation will be conscious of the fact.\\n\\nOur fighting men abroad- and their families at home- expect such a program and have the right to insist upon it. It is to their demands that this Government should pay heed rather than to the whining demands of selfish pressure groups who seek to feather their nests while young Americans are dying.\\n\\nThe foreign policy that we have been followingâ€”the policy that guided us at Moscow, Cairo, and Teheranâ€”is based on the common sense principle which was best expressed by Benjamin Franklin on July 4, 1776: \"We must all hang together, or assuredly we shall all hang separately.\"\\n\\nI have often said that there are no two fronts for America in this war. There is only one front. There is one line of unity which extends from the hearts of the people at home to the men of our attacking forces in our farthest outposts. When we speak of our total effort, we speak of the factory and the field, and the mine as well as of the battleground -- we speak of the soldier and the civilian, the citizen and his Government.\\n\\nEach and every one of us has a solemn obligation under God to serve this Nation in its most critical hourâ€”to keep this Nation great -- to make this Nation greater in a better world.', metadata={'source': 'some_data/FDR_State_of_Union_1944.txt'})]"
      ]
     },
     "execution_count": 7,
     "metadata": {},
     "output_type": "execute_result"
    }
   ],
   "source": [
    "docs"
   ]
  },
  {
   "cell_type": "markdown",
   "id": "2b6faf49",
   "metadata": {},
   "source": [
    "## Creating a Embedding Function"
   ]
  },
  {
   "cell_type": "code",
   "execution_count": 8,
   "id": "0a32408f",
   "metadata": {},
   "outputs": [],
   "source": [
    "api_key = open('../../api_key.txt').read()\n",
    "embedding_function = OpenAIEmbeddings(openai_api_key=api_key)"
   ]
  },
  {
   "cell_type": "code",
   "execution_count": 9,
   "id": "33010394",
   "metadata": {},
   "outputs": [],
   "source": [
    "db = Chroma.from_documents(docs, embedding_function, persist_directory='./speech_new_db')"
   ]
  },
  {
   "cell_type": "code",
   "execution_count": 10,
   "id": "9ca13538",
   "metadata": {},
   "outputs": [],
   "source": [
    "db.persist()"
   ]
  },
  {
   "cell_type": "markdown",
   "id": "39918a3a",
   "metadata": {},
   "source": [
    "## Loading to Database\n",
    "\n",
    "Keep in mind, in order to do things like a query, Chroma still needs to understand what embedding function you need."
   ]
  },
  {
   "cell_type": "code",
   "execution_count": 11,
   "id": "fb0be947",
   "metadata": {},
   "outputs": [],
   "source": [
    "db_connection = Chroma(persist_directory='./speech_new_db/',\n",
    "                       embedding_function=embedding_function)"
   ]
  },
  {
   "cell_type": "markdown",
   "id": "ade12d6c",
   "metadata": {},
   "source": [
    "## Similarity Search"
   ]
  },
  {
   "cell_type": "code",
   "execution_count": 12,
   "id": "3ebc3afb",
   "metadata": {},
   "outputs": [],
   "source": [
    "new_document = \"What did FDR say about the cost of food law?\""
   ]
  },
  {
   "cell_type": "code",
   "execution_count": 13,
   "id": "bf625495",
   "metadata": {},
   "outputs": [],
   "source": [
    "similar_document = db_connection.similarity_search(new_document)"
   ]
  },
  {
   "cell_type": "code",
   "execution_count": 14,
   "id": "d5622a3d",
   "metadata": {},
   "outputs": [
    {
     "name": "stdout",
     "output_type": "stream",
     "text": [
      "(2) A continuation of the law for the renegotiation of war contractsâ€”which will prevent exorbitant profits and assure fair prices to the Government. For two long years I have pleaded with the Congress to take undue profits out of war.\n",
      "\n",
      "(3) A cost of food lawâ€”which will enable the Government (a) to place a reasonable floor under the prices the farmer may expect for his production; and (b) to place a ceiling on the prices a consumer will have to pay for the food he buys. This should apply to necessities only; and will require public funds to carry out. It will cost in appropriations about one percent of the present annual cost of the war.\n",
      "\n",
      "(4) Early reenactment of. the stabilization statute of October, 1942. This expires June 30, 1944, and if it is not extended well in advance, the country might just as well expect price chaos by summer.\n",
      "\n",
      "(5) A national service law- which, for the duration of the war, will prevent strikes, and, with certain appropriate exceptions, will make available for war production or for any other essential services every able-bodied adult in this Nation.\n",
      "\n",
      "These five measures together form a just and equitable whole. I would not recommend a national service law unless the other laws were passed to keep down the cost of living, to share equitably the burdens of taxation, to hold the stabilization line, and to prevent undue profits.\n",
      "\n",
      "The Federal Government already has the basic power to draft capital and property of all kinds for war purposes on a basis of just compensation.\n",
      "\n",
      "As you know, I have for three years hesitated to recommend a national service act. Today, however, I am convinced of its necessity. Although I believe that we and our allies can win the war without such a measure, I am certain that nothing less than total mobilization of all our resources of manpower and capital will guarantee an earlier victory, and reduce the toll of suffering and sorrow and blood.\n",
      "\n",
      "I have received a joint recommendation for this law from the heads of the War Department, the Navy Department, and the Maritime Commission. These are the men who bear responsibility for the procurement of the necessary arms and equipment, and for the successful prosecution of the war in the field. They say:\n"
     ]
    }
   ],
   "source": [
    "print(similar_document[0].page_content)"
   ]
  },
  {
   "cell_type": "markdown",
   "id": "947257d1",
   "metadata": {},
   "source": [
    "## Adding a new Document to Existing Chroma DB"
   ]
  },
  {
   "cell_type": "code",
   "execution_count": 15,
   "id": "de5f16c9",
   "metadata": {},
   "outputs": [],
   "source": [
    "loader = TextLoader(\"some_data/Lincoln_State_of_Union_1862.txt\")\n",
    "documents = loader.load()"
   ]
  },
  {
   "cell_type": "code",
   "execution_count": 16,
   "id": "93f58ede",
   "metadata": {},
   "outputs": [
    {
     "name": "stderr",
     "output_type": "stream",
     "text": [
      "Created a chunk of size 611, which is longer than the specified 500\n",
      "Created a chunk of size 539, which is longer than the specified 500\n",
      "Created a chunk of size 686, which is longer than the specified 500\n"
     ]
    }
   ],
   "source": [
    "text_splitter = CharacterTextSplitter.from_tiktoken_encoder(chunk_size=500)\n",
    "docs = text_splitter.split_documents(documents=documents)"
   ]
  },
  {
   "cell_type": "code",
   "execution_count": 17,
   "id": "7ada8b05",
   "metadata": {},
   "outputs": [],
   "source": [
    "new_db = Chroma.from_documents(docs, embedding_function, persist_directory='./speech_new_db')"
   ]
  },
  {
   "cell_type": "code",
   "execution_count": 18,
   "id": "a02328c0",
   "metadata": {},
   "outputs": [],
   "source": [
    "docs = new_db.similarity_search('slavery')"
   ]
  },
  {
   "cell_type": "code",
   "execution_count": 19,
   "id": "89c28cd5",
   "metadata": {},
   "outputs": [
    {
     "data": {
      "text/plain": [
       "'As to the second article, I think it would be impracticable to return to bondage the class of persons therein contemplated. Some of them, doubtless, in the property sense belong to loyal owners, and hence provision is made in this article for compensating such. The third article relates to the future of the freed people. It does not oblige, but merely authorizes Congress to aid in colonizing such as may consent. This ought not to be regarded as objectionable on the one hand or on the other, insomuch as it comes to nothing unless by the mutual consent of the people to be deported and the American voters, through their representatives in Congress.\\n\\nI can not make it better known than it already is that I strongly favor colonization; and yet I wish to say there is an objection urged against free colored persons remaining in the country which is largely imaginary, if not sometimes malicious.\\n\\nIt is insisted that their presence would injure and displace white labor and white laborers. If there ever could be a proper time for mere catch arguments, that time surely is not now. In times like the present men should utter nothing for which they would not willingly be responsible through time and in eternity. Is it true, then, that colored people can displace any more white labor by being free than by remaining slaves? If they stay in their old places, they jostle no white laborers; if they leave their old places, they leave them open to white laborers. Logically, there is neither more nor less of it. Emancipation, even without deportation, would probably enhance the wages of white labor, and very surely would not reduce them. Thus the customary amount of labor would still have to be performedâ€”the freed people would surely not do more than their old proportion of it, and very probably for a time would do less, leaving an increased part to white laborers, bringing their labor into greater demand, and consequently enhancing the wages of it. With deportation, even to a limited extent, enhanced wages to white labor is mathematically certain. Labor is like any other commodity in the marketâ€”increase the demand for it and you increase the price of it. Reduce the supply of black labor by colonizing the black laborer out of the country, and by precisely so much you increase the demand for and wages of white labor.'"
      ]
     },
     "execution_count": 19,
     "metadata": {},
     "output_type": "execute_result"
    }
   ],
   "source": [
    "docs[0].page_content"
   ]
  },
  {
   "cell_type": "code",
   "execution_count": 20,
   "id": "c1202b18",
   "metadata": {},
   "outputs": [
    {
     "data": {
      "text/plain": [
       "Document(page_content='As to the second article, I think it would be impracticable to return to bondage the class of persons therein contemplated. Some of them, doubtless, in the property sense belong to loyal owners, and hence provision is made in this article for compensating such. The third article relates to the future of the freed people. It does not oblige, but merely authorizes Congress to aid in colonizing such as may consent. This ought not to be regarded as objectionable on the one hand or on the other, insomuch as it comes to nothing unless by the mutual consent of the people to be deported and the American voters, through their representatives in Congress.\\n\\nI can not make it better known than it already is that I strongly favor colonization; and yet I wish to say there is an objection urged against free colored persons remaining in the country which is largely imaginary, if not sometimes malicious.\\n\\nIt is insisted that their presence would injure and displace white labor and white laborers. If there ever could be a proper time for mere catch arguments, that time surely is not now. In times like the present men should utter nothing for which they would not willingly be responsible through time and in eternity. Is it true, then, that colored people can displace any more white labor by being free than by remaining slaves? If they stay in their old places, they jostle no white laborers; if they leave their old places, they leave them open to white laborers. Logically, there is neither more nor less of it. Emancipation, even without deportation, would probably enhance the wages of white labor, and very surely would not reduce them. Thus the customary amount of labor would still have to be performedâ€”the freed people would surely not do more than their old proportion of it, and very probably for a time would do less, leaving an increased part to white laborers, bringing their labor into greater demand, and consequently enhancing the wages of it. With deportation, even to a limited extent, enhanced wages to white labor is mathematically certain. Labor is like any other commodity in the marketâ€”increase the demand for it and you increase the price of it. Reduce the supply of black labor by colonizing the black laborer out of the country, and by precisely so much you increase the demand for and wages of white labor.', metadata={'source': 'some_data/Lincoln_State_of_Union_1862.txt'})"
      ]
     },
     "execution_count": 20,
     "metadata": {},
     "output_type": "execute_result"
    }
   ],
   "source": [
    "docs[0]"
   ]
  },
  {
   "cell_type": "code",
   "execution_count": 21,
   "id": "1c38a35d",
   "metadata": {},
   "outputs": [
    {
     "data": {
      "text/plain": [
       "{'source': 'some_data/Lincoln_State_of_Union_1862.txt'}"
      ]
     },
     "execution_count": 21,
     "metadata": {},
     "output_type": "execute_result"
    }
   ],
   "source": [
    "docs[0].metadata"
   ]
  },
  {
   "cell_type": "markdown",
   "id": "266bcefe",
   "metadata": {},
   "source": [
    "## Vector Store - Retrievers\n",
    "\n"
   ]
  },
  {
   "cell_type": "code",
   "execution_count": 22,
   "id": "42a2c43f",
   "metadata": {},
   "outputs": [],
   "source": [
    "retriever = new_db.as_retriever()"
   ]
  },
  {
   "cell_type": "code",
   "execution_count": 23,
   "id": "43877f84",
   "metadata": {},
   "outputs": [],
   "source": [
    "results = retriever.get_relevant_documents('cost of food law')"
   ]
  },
  {
   "cell_type": "code",
   "execution_count": 24,
   "id": "ed0b8107",
   "metadata": {},
   "outputs": [
    {
     "data": {
      "text/plain": [
       "[Document(page_content='(2) A continuation of the law for the renegotiation of war contractsâ€”which will prevent exorbitant profits and assure fair prices to the Government. For two long years I have pleaded with the Congress to take undue profits out of war.\\n\\n(3) A cost of food lawâ€”which will enable the Government (a) to place a reasonable floor under the prices the farmer may expect for his production; and (b) to place a ceiling on the prices a consumer will have to pay for the food he buys. This should apply to necessities only; and will require public funds to carry out. It will cost in appropriations about one percent of the present annual cost of the war.\\n\\n(4) Early reenactment of. the stabilization statute of October, 1942. This expires June 30, 1944, and if it is not extended well in advance, the country might just as well expect price chaos by summer.\\n\\n(5) A national service law- which, for the duration of the war, will prevent strikes, and, with certain appropriate exceptions, will make available for war production or for any other essential services every able-bodied adult in this Nation.\\n\\nThese five measures together form a just and equitable whole. I would not recommend a national service law unless the other laws were passed to keep down the cost of living, to share equitably the burdens of taxation, to hold the stabilization line, and to prevent undue profits.\\n\\nThe Federal Government already has the basic power to draft capital and property of all kinds for war purposes on a basis of just compensation.\\n\\nAs you know, I have for three years hesitated to recommend a national service act. Today, however, I am convinced of its necessity. Although I believe that we and our allies can win the war without such a measure, I am certain that nothing less than total mobilization of all our resources of manpower and capital will guarantee an earlier victory, and reduce the toll of suffering and sorrow and blood.\\n\\nI have received a joint recommendation for this law from the heads of the War Department, the Navy Department, and the Maritime Commission. These are the men who bear responsibility for the procurement of the necessary arms and equipment, and for the successful prosecution of the war in the field. They say:', metadata={'source': 'some_data/FDR_State_of_Union_1944.txt'}),\n",
       " Document(page_content='(2) A continuation of the law for the renegotiation of war contractsâ€”which will prevent exorbitant profits and assure fair prices to the Government. For two long years I have pleaded with the Congress to take undue profits out of war.\\n\\n(3) A cost of food lawâ€”which will enable the Government (a) to place a reasonable floor under the prices the farmer may expect for his production; and (b) to place a ceiling on the prices a consumer will have to pay for the food he buys. This should apply to necessities only; and will require public funds to carry out. It will cost in appropriations about one percent of the present annual cost of the war.\\n\\n(4) Early reenactment of. the stabilization statute of October, 1942. This expires June 30, 1944, and if it is not extended well in advance, the country might just as well expect price chaos by summer.\\n\\n(5) A national service law- which, for the duration of the war, will prevent strikes, and, with certain appropriate exceptions, will make available for war production or for any other essential services every able-bodied adult in this Nation.\\n\\nThese five measures together form a just and equitable whole. I would not recommend a national service law unless the other laws were passed to keep down the cost of living, to share equitably the burdens of taxation, to hold the stabilization line, and to prevent undue profits.\\n\\nThe Federal Government already has the basic power to draft capital and property of all kinds for war purposes on a basis of just compensation.\\n\\nAs you know, I have for three years hesitated to recommend a national service act. Today, however, I am convinced of its necessity. Although I believe that we and our allies can win the war without such a measure, I am certain that nothing less than total mobilization of all our resources of manpower and capital will guarantee an earlier victory, and reduce the toll of suffering and sorrow and blood.\\n\\nI have received a joint recommendation for this law from the heads of the War Department, the Navy Department, and the Maritime Commission. These are the men who bear responsibility for the procurement of the necessary arms and equipment, and for the successful prosecution of the war in the field. They say:', metadata={'source': 'some_data/FDR_State_of_Union_1944.txt'}),\n",
       " Document(page_content='(2) A continuation of the law for the renegotiation of war contractsâ€”which will prevent exorbitant profits and assure fair prices to the Government. For two long years I have pleaded with the Congress to take undue profits out of war.\\n\\n(3) A cost of food lawâ€”which will enable the Government (a) to place a reasonable floor under the prices the farmer may expect for his production; and (b) to place a ceiling on the prices a consumer will have to pay for the food he buys. This should apply to necessities only; and will require public funds to carry out. It will cost in appropriations about one percent of the present annual cost of the war.\\n\\n(4) Early reenactment of. the stabilization statute of October, 1942. This expires June 30, 1944, and if it is not extended well in advance, the country might just as well expect price chaos by summer.\\n\\n(5) A national service law- which, for the duration of the war, will prevent strikes, and, with certain appropriate exceptions, will make available for war production or for any other essential services every able-bodied adult in this Nation.\\n\\nThese five measures together form a just and equitable whole. I would not recommend a national service law unless the other laws were passed to keep down the cost of living, to share equitably the burdens of taxation, to hold the stabilization line, and to prevent undue profits.\\n\\nThe Federal Government already has the basic power to draft capital and property of all kinds for war purposes on a basis of just compensation.\\n\\nAs you know, I have for three years hesitated to recommend a national service act. Today, however, I am convinced of its necessity. Although I believe that we and our allies can win the war without such a measure, I am certain that nothing less than total mobilization of all our resources of manpower and capital will guarantee an earlier victory, and reduce the toll of suffering and sorrow and blood.\\n\\nI have received a joint recommendation for this law from the heads of the War Department, the Navy Department, and the Maritime Commission. These are the men who bear responsibility for the procurement of the necessary arms and equipment, and for the successful prosecution of the war in the field. They say:', metadata={'source': 'some_data/FDR_State_of_Union_1944.txt'}),\n",
       " Document(page_content='That attitude on the part of anyoneâ€”Government or management or laborâ€”can lengthen this war. It can kill American boys.\\n\\nLet us remember the lessons of 1918. In the summer of that year the tide turned in favor of the allies. But this Government did not relax. In fact, our national effort was stepped up. In August, 1918, the draft age limits were broadened from 21-31 to 18-45. The President called for \"force to the utmost,\" and his call was heeded. And in November, only three months later, Germany surrendered.\\n\\nThat is the way to fight and win a warâ€”all outâ€”and not with half-an-eye on the battlefronts abroad and the other eye-and-a-half on personal, selfish, or political interests here at home.\\n\\nTherefore, in order to concentrate all our energies and resources on winning the war, and to maintain a fair and stable economy at home, I recommend that the Congress adopt:\\n\\n(1) A realistic tax lawâ€”which will tax all unreasonable profits, both individual and corporate, and reduce the ultimate cost of the war to our sons and daughters. The tax bill now under consideration by the Congress does not begin to meet this test.\\n\\n(2) A continuation of the law for the renegotiation of war contractsâ€”which will prevent exorbitant profits and assure fair prices to the Government. For two long years I have pleaded with the Congress to take undue profits out of war.\\n\\n(3) A cost of food lawâ€”which will enable the Government (a) to place a reasonable floor under the prices the farmer may expect for his production; and (b) to place a ceiling on the prices a consumer will have to pay for the food he buys. This should apply to necessities only; and will require public funds to carry out. It will cost in appropriations about one percent of the present annual cost of the war.\\n\\n(4) Early reenactment of. the stabilization statute of October, 1942. This expires June 30, 1944, and if it is not extended well in advance, the country might just as well expect price chaos by summer.', metadata={'source': 'some_data/FDR_State_of_Union_1944.txt'})]"
      ]
     },
     "execution_count": 24,
     "metadata": {},
     "output_type": "execute_result"
    }
   ],
   "source": [
    "results"
   ]
  },
  {
   "cell_type": "code",
   "execution_count": null,
   "id": "5feccd90",
   "metadata": {},
   "outputs": [],
   "source": []
  }
 ],
 "metadata": {
  "kernelspec": {
   "display_name": "Python 3 (ipykernel)",
   "language": "python",
   "name": "python3"
  },
  "language_info": {
   "codemirror_mode": {
    "name": "ipython",
    "version": 3
   },
   "file_extension": ".py",
   "mimetype": "text/x-python",
   "name": "python",
   "nbconvert_exporter": "python",
   "pygments_lexer": "ipython3",
   "version": "3.8.10"
  }
 },
 "nbformat": 4,
 "nbformat_minor": 5
}
